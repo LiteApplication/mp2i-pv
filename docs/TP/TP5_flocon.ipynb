{
 "cells": [
  {
   "cell_type": "markdown",
   "id": "c21089e9",
   "metadata": {
    "deletable": false,
    "editable": false,
    "nbgrader": {
     "cell_type": "markdown",
     "checksum": "b70fb27d515b33af569e19ca57531b6e",
     "grade": false,
     "grade_id": "cell-dfcd7199489b7abc",
     "locked": true,
     "schema_version": 3,
     "solution": false,
     "task": false
    }
   },
   "source": [
    "# Informatique - MP2I\n",
    "---"
   ]
  },
  {
   "cell_type": "markdown",
   "id": "414879e4",
   "metadata": {
    "deletable": false,
    "editable": false,
    "nbgrader": {
     "cell_type": "markdown",
     "checksum": "b96999b87bb66584a3e890b75452be2b",
     "grade": false,
     "grade_id": "cell-7250f20013f6ee16",
     "locked": true,
     "schema_version": 3,
     "solution": false,
     "task": false
    }
   },
   "source": [
    "# TP5 : tableaux, pointeurs et structures\n",
    "## flocon : pour ceux qui débutent en programmation"
   ]
  },
  {
   "cell_type": "code",
   "execution_count": null,
   "id": "ef8af067",
   "metadata": {
    "deletable": false,
    "editable": false,
    "nbgrader": {
     "cell_type": "code",
     "checksum": "15d3828b978f81ed85ea48b148e14416",
     "grade": false,
     "grade_id": "cell-5cb782a7ab67666c",
     "locked": true,
     "schema_version": 3,
     "solution": false,
     "task": false
    }
   },
   "outputs": [],
   "source": [
    "/* cette cellule doit être exécutée pour les tests des autres cellules\n",
    "   attention : c'est du C++ */\n",
    "#ifndef ASSERT\n",
    "#define ASSERT(C) if ( !(C) ) { throw std::runtime_error(\"\\x1b[48;5;224mTest failed: \"#C); }\n",
    "#endif"
   ]
  },
  {
   "cell_type": "markdown",
   "id": "e8c19880",
   "metadata": {
    "deletable": false,
    "editable": false,
    "nbgrader": {
     "cell_type": "markdown",
     "checksum": "f5fa4811c340bc5a0243628d42ec9d84",
     "grade": false,
     "grade_id": "cell-729561d9ac6fed06",
     "locked": true,
     "schema_version": 3,
     "solution": false,
     "task": false
    }
   },
   "source": [
    "### Exo : Serpent\n",
    "Dans cet exercice, nous allons modéliser de façon simplifier les mouvements erratiques d'un serpent. Seule règle : il avance vers les abscisses croissantes.\n",
    "\n",
    "Le type serpent est donné de la façon suivante :"
   ]
  },
  {
   "cell_type": "code",
   "execution_count": null,
   "id": "9174d9a0",
   "metadata": {
    "deletable": false,
    "editable": false,
    "nbgrader": {
     "cell_type": "code",
     "checksum": "6ddab47144c01224d6c488328daf1296",
     "grade": false,
     "grade_id": "cell-5cd72c21bdd4973a",
     "locked": true,
     "schema_version": 3,
     "solution": false,
     "task": false
    }
   },
   "outputs": [],
   "source": [
    "struct serpent {\n",
    "    int taille; // nombre d'écailles, y compris la tête\n",
    "    int tete; // abscisse de la tête\n",
    "    int *ecailles; // ordonnées des écailles\n",
    "    // l'écaille 0 est la tête\n",
    "};"
   ]
  },
  {
   "cell_type": "markdown",
   "id": "8e83242a",
   "metadata": {
    "deletable": false,
    "editable": false,
    "nbgrader": {
     "cell_type": "markdown",
     "checksum": "37bcea90ebf2f60a2c0010f9a113cc9f",
     "grade": false,
     "grade_id": "cell-db72c48bef8e4f85",
     "locked": true,
     "schema_version": 3,
     "solution": false,
     "task": false
    }
   },
   "source": [
    "1. Écrire et documenter un initialisateur `new_serpent` qui prend en argument une taille et renvoie un pointeur sur serpent de cette taille-là dont la tête est à l'abscisse 0 et toutes les écailles sont à l'ordonnée 0. Prévoyez le cas où l'utilisateur donnerait une taille négative."
   ]
  },
  {
   "cell_type": "code",
   "execution_count": null,
   "id": "9fce8a7b",
   "metadata": {
    "deletable": false,
    "nbgrader": {
     "cell_type": "code",
     "checksum": "347b834a0e570cb9fab3331b50d0640f",
     "grade": false,
     "grade_id": "cell-fc63bc8a75671591",
     "locked": false,
     "schema_version": 3,
     "solution": true,
     "task": false
    }
   },
   "outputs": [],
   "source": [
    "// écrire le code ici\n",
    "throw new Error();//instruction C++, n'existe pas en C, à supprimer une fois le code écrit"
   ]
  },
  {
   "cell_type": "code",
   "execution_count": null,
   "id": "ece1b59b",
   "metadata": {
    "deletable": false,
    "editable": false,
    "nbgrader": {
     "cell_type": "code",
     "checksum": "4c200b8ff69c95e7c0e55a0bf18581a8",
     "grade": true,
     "grade_id": "cell-5d797b9bbd926349",
     "locked": true,
     "points": 1,
     "schema_version": 3,
     "solution": false,
     "task": false
    }
   },
   "outputs": [],
   "source": [
    "struct serpent *s = new_serpent(-1);\n",
    "ASSERT(s == NULL);\n",
    "\n",
    "s = new_serpent(0);\n",
    "ASSERT(s == NULL);\n",
    "\n",
    "s = new_serpent(15);\n",
    "ASSERT(s->taille == 15);\n",
    "ASSERT(s->tete == 0);\n",
    "ASSERT(s->ecailles[0] == 0);\n",
    "ASSERT(s->ecailles[14] == 0);"
   ]
  },
  {
   "cell_type": "markdown",
   "id": "4e8eb3f6",
   "metadata": {
    "deletable": false,
    "editable": false,
    "nbgrader": {
     "cell_type": "markdown",
     "checksum": "ffbd6f6bb89cc4a06a8c02f589292319",
     "grade": false,
     "grade_id": "cell-94dd437fc5b2fe47",
     "locked": true,
     "schema_version": 3,
     "solution": false,
     "task": false
    }
   },
   "source": [
    "2. En fin de vie le serpent disparaît et il faut libérer la mémoire qui les est associée. Écrire une fonction `free_serpent` qui prend en argument un pointeur sur serpent et libère toute la mémoire associée."
   ]
  },
  {
   "cell_type": "code",
   "execution_count": null,
   "id": "ce2048c0",
   "metadata": {
    "deletable": false,
    "nbgrader": {
     "cell_type": "code",
     "checksum": "5cc0f1a1c6c97d0fbfde10e5d18f59db",
     "grade": false,
     "grade_id": "cell-91d6e7397a1133ef",
     "locked": false,
     "schema_version": 3,
     "solution": true,
     "task": false
    }
   },
   "outputs": [],
   "source": [
    "// écrire le code ici\n",
    "throw new Error();//instruction C++, n'existe pas en C, à supprimer une fois le code écrit"
   ]
  },
  {
   "cell_type": "markdown",
   "id": "93e03027",
   "metadata": {
    "deletable": false,
    "editable": false,
    "nbgrader": {
     "cell_type": "markdown",
     "checksum": "f80d0a2ab639cb6e20ea923ac4fe5168",
     "grade": false,
     "grade_id": "cell-617c994a54f58aa4",
     "locked": true,
     "points": 1,
     "schema_version": 3,
     "solution": false,
     "task": true
    }
   },
   "source": [
    "Cette cellule me permettra de mettre un commentaire."
   ]
  },
  {
   "cell_type": "markdown",
   "id": "f70668c7",
   "metadata": {
    "deletable": false,
    "editable": false,
    "nbgrader": {
     "cell_type": "markdown",
     "checksum": "168f77f0fda27dd15f7db03aa3894a20",
     "grade": false,
     "grade_id": "cell-2fa2fda355c4ff36",
     "locked": true,
     "schema_version": 3,
     "solution": false,
     "task": false
    }
   },
   "source": [
    "3. À chaque étape de sa vie, le serpent avance d'une case vers la droite, c'est-à-dire que l'abscisse de sa tête augmente de 1. L'ordonnée de sa tête peut rester identique, augmenter de 1 ou diminuer de 1. La fonction `rand` déclarée dans `stdlib.h` renvoie un entier pseudo aléatoire entre 0 et `RAND_MAX` (constante définie dans `stdlib.h`).\n",
    "\n",
    "Écrire et documenter une fonction `avance` qui prend en argument un pointeur sur serpent et fait avancer le serpent (évidemment, c'est le même serpent, donc il ne s'agit pas d'en créer un nouveau)."
   ]
  },
  {
   "cell_type": "code",
   "execution_count": null,
   "id": "4eedca4d",
   "metadata": {
    "deletable": false,
    "nbgrader": {
     "cell_type": "code",
     "checksum": "baaed90bf48ce8b505e3e9807c173d7b",
     "grade": false,
     "grade_id": "cell-f5890180438f9e71",
     "locked": false,
     "schema_version": 3,
     "solution": true,
     "task": false
    }
   },
   "outputs": [],
   "source": [
    "// écrire le code ici\n",
    "throw new Error();//instruction C++, n'existe pas en C, à supprimer une fois le code écrit"
   ]
  },
  {
   "cell_type": "code",
   "execution_count": null,
   "id": "12231cdb",
   "metadata": {
    "deletable": false,
    "editable": false,
    "nbgrader": {
     "cell_type": "code",
     "checksum": "265e5dd9c9d6301fd7fe776c328d34ce",
     "grade": true,
     "grade_id": "cell-fe06d23531ad2914",
     "locked": true,
     "points": 1,
     "schema_version": 3,
     "solution": false,
     "task": false
    }
   },
   "outputs": [],
   "source": [
    "struct serpent *s = new_serpent(10);\n",
    "s->ecailles[0] = -1;\n",
    "s->ecailles[5] = 1;\n",
    "s->tete = 32;\n",
    "avance(s);\n",
    "ASSERT(s->ecailles[1] == -1);\n",
    "ASSERT(s->ecailles[6] == 1);\n",
    "ASSERT(s->ecailles[9] == 0);\n",
    "ASSERT(s->ecailles[0]>=-2 && s->ecailles[0]<=0);\n",
    "ASSERT(s->tete == 33);"
   ]
  },
  {
   "cell_type": "markdown",
   "id": "f5b99baf",
   "metadata": {
    "deletable": false,
    "editable": false,
    "nbgrader": {
     "cell_type": "markdown",
     "checksum": "a67e48e89add59a0c75e762a930ad152",
     "grade": false,
     "grade_id": "cell-555267cb0859b1ad",
     "locked": true,
     "schema_version": 3,
     "solution": false,
     "task": false
    }
   },
   "source": [
    "4. En vue de pouvoir faire un affichage, on a besoin de transformer des données sous forme de type structuré serpent en un tableau bidimensionnel de booléens (l'affichage se fera sur deux couleurs).\n",
    "\n",
    "Écrire et documenter une fonction `image` qui prend en argument un pointeur sur serpent, un entier pour la largeur et un entier pour la hauteur et renvoie un tableau bidimensionnel aux bonnes dimensions avec des `false` dans toutes les cases où le serpent ne se trouve pas et des `true` là où il se trouve. On considèrera que le point de coordonnées $(0,0)$ se trouve sur le bord de gauche au milieu."
   ]
  },
  {
   "cell_type": "code",
   "execution_count": null,
   "id": "3308ef49",
   "metadata": {
    "deletable": false,
    "nbgrader": {
     "cell_type": "code",
     "checksum": "e963ec3558581cc2aaa2d2c27415ffe5",
     "grade": false,
     "grade_id": "cell-27b9d27eaa2feed9",
     "locked": false,
     "schema_version": 3,
     "solution": true,
     "task": false
    }
   },
   "outputs": [],
   "source": [
    "// écrire le code ici\n",
    "throw new Error();//instruction C++, n'existe pas en C, à supprimer une fois le code écrit"
   ]
  },
  {
   "cell_type": "markdown",
   "id": "d5a51f14",
   "metadata": {
    "deletable": false,
    "editable": false,
    "nbgrader": {
     "cell_type": "markdown",
     "checksum": "6d451f66e3c200c1437363f3eec93a67",
     "grade": false,
     "grade_id": "cell-3d8a3fec82dc2af3",
     "locked": true,
     "schema_version": 3,
     "solution": false,
     "task": false
    }
   },
   "source": [
    "On fournit maintenant une fonction qui permettra d'avoir une animation des mouvements du serpent dans un fichier `serpent.gif`. Pour cela, nous allons fabriquer un certain nombre de fichiers images au format `ppm`, et nous demanderons ensuite à `Imagemagick` de fabriquer le gif animé.\n",
    "\n",
    "La fonction pour écrire un fichier `ppm`:"
   ]
  },
  {
   "cell_type": "code",
   "execution_count": null,
   "id": "a6fd0490",
   "metadata": {
    "deletable": false,
    "editable": false,
    "nbgrader": {
     "cell_type": "code",
     "checksum": "a6155001b2fa6d70fdecbc175f6b43da",
     "grade": false,
     "grade_id": "cell-55f21c16e18a9a47",
     "locked": true,
     "schema_version": 3,
     "solution": false,
     "task": false
    }
   },
   "outputs": [],
   "source": [
    "/** n : un entier pour le nom de l'image\n",
    " * img : un tableau de booleen tel que sorti par la fonction image, de dimensions largeurxhauteur\n",
    " * sortie : entete écrite dans le fichier serpent-N.ppm, où N est l'entier n sur 3 chiffres\n",
    " */\n",
    "void ecrire_image(int n, bool **img, int largeur, int hauteur){\n",
    "    char fichier[20];\n",
    "    FILE *file;\n",
    "    char couleur[2][7] = {\"1 1 1 \", \"0 0 0 \"};\n",
    "    \n",
    "    sprintf(fichier, \"serpent-%03d.ppm\", n);\n",
    "    file = fopen(fichier, \"w\");\n",
    "    fprintf(file, \"P3\\%d %d\\n1\\n\", largeur, hauteur);\n",
    "    for(int j=0; j<hauteur; j=j+1){\n",
    "        for(int i=0; i<largeur; i=i+1){\n",
    "            fprintf(file, \"%s\", couleur[img[j][i]]);\n",
    "        }\n",
    "    }\n",
    "    fclose(file);\n",
    "}"
   ]
  },
  {
   "cell_type": "markdown",
   "id": "ab07abb2",
   "metadata": {
    "deletable": false,
    "editable": false,
    "nbgrader": {
     "cell_type": "markdown",
     "checksum": "cdccf60225391cd52b66620c3646d3c7",
     "grade": false,
     "grade_id": "cell-ce2e91b583849c68",
     "locked": true,
     "schema_version": 3,
     "solution": false,
     "task": false
    }
   },
   "source": [
    "5. Écrire et documenter une fonction `trajet` qui prend en argument la longueur d'un serpent, la largeur et la hauteur d'une fenêtre, et permet de créer tous les fichiers d'images correspondant à chaque étape de l'avancée du serpent. La cellule suivante devrait vous permettre de voir une animation de ce style :\n",
    "![](serpent_modele.gif)"
   ]
  },
  {
   "cell_type": "code",
   "execution_count": null,
   "id": "0c64aca4",
   "metadata": {
    "deletable": false,
    "nbgrader": {
     "cell_type": "code",
     "checksum": "96b3a6c625985d6fd54265e32b86ee4b",
     "grade": false,
     "grade_id": "cell-de0d77c160cae836",
     "locked": false,
     "schema_version": 3,
     "solution": true,
     "task": false
    }
   },
   "outputs": [],
   "source": [
    "// écrire le code ici\n",
    "throw new Error();//instruction C++, n'existe pas en C, à supprimer une fois le code écrit"
   ]
  },
  {
   "cell_type": "markdown",
   "id": "869733be",
   "metadata": {
    "deletable": false,
    "editable": false,
    "nbgrader": {
     "cell_type": "markdown",
     "checksum": "a2f21c91ba61d750124f244f411135b3",
     "grade": false,
     "grade_id": "cell-a5b542b8eb07b7b7",
     "locked": true,
     "points": 1,
     "schema_version": 3,
     "solution": false,
     "task": true
    }
   },
   "source": [
    "Cette cellule me permettra de mettre un commentaire."
   ]
  },
  {
   "cell_type": "code",
   "execution_count": null,
   "id": "44440f2f",
   "metadata": {
    "deletable": false,
    "editable": false,
    "nbgrader": {
     "cell_type": "code",
     "checksum": "5a977d1d58118b40c53c5ff2818b64ca",
     "grade": false,
     "grade_id": "cell-700181bbf7eb3068",
     "locked": true,
     "schema_version": 3,
     "solution": false,
     "task": false
    }
   },
   "outputs": [],
   "source": [
    "trajet(15, 100, 80);  // pour générer les images ppm"
   ]
  },
  {
   "cell_type": "code",
   "execution_count": null,
   "id": "8693bec5",
   "metadata": {
    "deletable": false,
    "editable": false,
    "nbgrader": {
     "cell_type": "code",
     "checksum": "23f1eb6705ad6cb91f2371abdeb81007",
     "grade": false,
     "grade_id": "cell-700181bbf7eb3069",
     "locked": true,
     "schema_version": 3,
     "solution": false,
     "task": false
    }
   },
   "outputs": [],
   "source": [
    "!convert -delay 1 -loop 0 serpent-*.ppm serpent.gif  # pour fabriquer le gif animé"
   ]
  },
  {
   "cell_type": "code",
   "execution_count": null,
   "id": "095b3156",
   "metadata": {
    "deletable": false,
    "editable": false,
    "nbgrader": {
     "cell_type": "code",
     "checksum": "cfe813c4ef81125d2be61bdc73491b9c",
     "grade": false,
     "grade_id": "cell-700181bbf7eb307-0",
     "locked": true,
     "schema_version": 3,
     "solution": false,
     "task": false
    }
   },
   "outputs": [],
   "source": [
    "!rm serpent-*.ppm  # pour supprimer les images ppm"
   ]
  },
  {
   "cell_type": "markdown",
   "id": "f6dbdbdb",
   "metadata": {
    "deletable": false,
    "editable": false,
    "nbgrader": {
     "cell_type": "markdown",
     "checksum": "5dd6970d1f5ec7a1197bdcbfbc51fa8e",
     "grade": false,
     "grade_id": "cell-f955b1d4a6cc778f",
     "locked": true,
     "schema_version": 3,
     "solution": false,
     "task": false
    }
   },
   "source": [
    "Vous pouvez voir votre animation ici : [serpent.gif](serpent.gif). (Je ne mets pas l'image directement pour contrer le cache de votre navigateur)."
   ]
  },
  {
   "cell_type": "markdown",
   "id": "3b35a76f",
   "metadata": {
    "deletable": false,
    "editable": false,
    "nbgrader": {
     "cell_type": "markdown",
     "checksum": "bf85a604aea6dff64299820254e0e992",
     "grade": false,
     "grade_id": "cell-b1c3f58341e3f743",
     "locked": true,
     "schema_version": 3,
     "solution": false,
     "task": false
    }
   },
   "source": [
    "Si vous en êtes là, c'est qu'il est temps de passer à la [première étoile](TP5_premiere_etoile.ipynb) !"
   ]
  }
 ],
 "metadata": {
  "kernelspec": {
   "display_name": "C++11",
   "language": "C++11",
   "name": "xcpp11"
  },
  "language_info": {
   "codemirror_mode": "text/x-c++src",
   "file_extension": ".cpp",
   "mimetype": "text/x-c++src",
   "name": "c++",
   "version": "11"
  }
 },
 "nbformat": 4,
 "nbformat_minor": 5
}
