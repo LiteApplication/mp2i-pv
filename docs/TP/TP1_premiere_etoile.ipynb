{
 "cells": [
  {
   "cell_type": "markdown",
   "id": "101f74d4",
   "metadata": {
    "deletable": false,
    "editable": false,
    "nbgrader": {
     "cell_type": "markdown",
     "checksum": "b70fb27d515b33af569e19ca57531b6e",
     "grade": false,
     "grade_id": "cell-dfcd7199489b7abc",
     "locked": true,
     "schema_version": 3,
     "solution": false,
     "task": false
    }
   },
   "source": [
    "# Informatique - MP2I\n",
    "---"
   ]
  },
  {
   "cell_type": "markdown",
   "id": "2fe020c1",
   "metadata": {
    "deletable": false,
    "editable": false,
    "nbgrader": {
     "cell_type": "markdown",
     "checksum": "78dff8f7970a9f520fab24a546249d7d",
     "grade": false,
     "grade_id": "cell-5e296318c6a0826a",
     "locked": true,
     "schema_version": 3,
     "solution": false,
     "task": false
    }
   },
   "source": [
    "# TP1 : bases du C\n",
    "## première étoile : pour ceux qui ont déjà programmé avant\n",
    "\n",
    "Ce TP est constitué de deux parties : une première partie sur la représentation des nombres en machine (mêmes questions que dans l'énoncé niveau flocon) et une deuxième partie dédiée à la programmation."
   ]
  },
  {
   "cell_type": "code",
   "execution_count": null,
   "id": "74473f54",
   "metadata": {
    "deletable": false,
    "editable": false,
    "nbgrader": {
     "cell_type": "code",
     "checksum": "ced96693616a188122ad6629c3bdf119",
     "grade": false,
     "grade_id": "cell-97fced6f891347b8",
     "locked": true,
     "schema_version": 3,
     "solution": false,
     "task": false
    }
   },
   "outputs": [],
   "source": [
    "/* cette cellule doit être exécutée pour les tests des autres cellules\n",
    "   attention : c'est du C++ */\n",
    "#ifndef ASSERT\n",
    "#define ASSERT(C) if ( !(C) ) { throw std::runtime_error(\"\\x1b[48;5;224mTest failed: \"#C); }\n",
    "#endif"
   ]
  },
  {
   "cell_type": "markdown",
   "id": "e66eeceb",
   "metadata": {
    "deletable": false,
    "editable": false,
    "nbgrader": {
     "cell_type": "markdown",
     "checksum": "0f4eadd4650705146d594b7145cabb55",
     "grade": false,
     "grade_id": "cell-1a2301a572e638ff",
     "locked": true,
     "schema_version": 3,
     "solution": false,
     "task": false
    }
   },
   "source": [
    "## Partie 1 : représentation des nombres en machine\n",
    "\n",
    "Il s'agit ici d'une suite de questions auxquelles vous devez répondre après avoir réfléchi sur un papier. Je ne vous demande pas forcément une valeur, vous pouvez donner la réponse sous forme de formule mathématique.\n",
    "\n",
    "Pour que ça ait l'air joli, vous pouvez écrire $2 * 3^4$ de la manière suivante : `$2 * 3^4$` (ce n'est pas du `C`, c'est du `LaTeX`; attention : l'opérateur `^` existe en `C` mais est sans rapport avec les puissances !)."
   ]
  },
  {
   "cell_type": "markdown",
   "id": "59606d05",
   "metadata": {
    "deletable": false,
    "editable": false,
    "nbgrader": {
     "cell_type": "markdown",
     "checksum": "9cd226bd7af2943828ee99a54b02ff83",
     "grade": false,
     "grade_id": "cell-8fdffeec68eccd61",
     "locked": true,
     "schema_version": 3,
     "solution": false,
     "task": false
    }
   },
   "source": [
    "Questions :\n",
    "\n",
    "1. Combien de valeurs différentes peut-on coder sur 4 bits ?\n",
    "1. Combien de valeurs différentes peut-on coder sur $n$ bits ?\n",
    "1. Combien de fichiers différents peut-on écrire sur 15437 octets ?"
   ]
  },
  {
   "cell_type": "markdown",
   "id": "0d28f195",
   "metadata": {
    "deletable": false,
    "nbgrader": {
     "cell_type": "markdown",
     "checksum": "60de9d7c86611531493ba586ad30092c",
     "grade": true,
     "grade_id": "cell-00fca425d14e20e9",
     "locked": false,
     "points": 1,
     "schema_version": 3,
     "solution": true,
     "task": false
    }
   },
   "source": [
    "Mettez votre réponse dans cette cellule."
   ]
  },
  {
   "cell_type": "markdown",
   "id": "27878a59",
   "metadata": {
    "deletable": false,
    "editable": false,
    "nbgrader": {
     "cell_type": "markdown",
     "checksum": "5d9cce16c46e7088efc5f547834fec97",
     "grade": false,
     "grade_id": "cell-8fdffeec68eccd62",
     "locked": true,
     "schema_version": 3,
     "solution": false,
     "task": false
    }
   },
   "source": [
    "4. On veut créer un type qui permet de code les lettres minuscules de `a` à `z`. Quel est le nombre minimal de bits nécessaires pour cela ?\n",
    "4. Et si on veut aussi code les lettres majuscules de `A` à `Z` ?\n",
    "4. Et avec les chiffres de `0` à `9` ?"
   ]
  },
  {
   "cell_type": "markdown",
   "id": "0d2949aa",
   "metadata": {
    "deletable": false,
    "nbgrader": {
     "cell_type": "markdown",
     "checksum": "1154bad1aad33558c13cb25594c6d463",
     "grade": true,
     "grade_id": "cell-b372b76209d0cf61",
     "locked": false,
     "points": 1,
     "schema_version": 3,
     "solution": true,
     "task": false
    }
   },
   "source": [
    "Mettez votre réponse dans cette cellule."
   ]
  },
  {
   "cell_type": "markdown",
   "id": "8b007058",
   "metadata": {
    "deletable": false,
    "editable": false,
    "nbgrader": {
     "cell_type": "markdown",
     "checksum": "c260528cdb84cb7b7bcd3b72ed435059",
     "grade": false,
     "grade_id": "cell-3195218fc1ae0439",
     "locked": true,
     "schema_version": 3,
     "solution": false,
     "task": false
    }
   },
   "source": [
    "7. Donner la représentation en complément à 2 sur 8 bits des entiers suivants : 5, 9, -18, -48, -128, 129."
   ]
  },
  {
   "cell_type": "markdown",
   "id": "2707cc2a",
   "metadata": {
    "deletable": false,
    "nbgrader": {
     "cell_type": "markdown",
     "checksum": "6f1562295285ea658b9321456bf059a9",
     "grade": true,
     "grade_id": "cell-5b7a76f457c98377",
     "locked": false,
     "points": 1,
     "schema_version": 3,
     "solution": true,
     "task": false
    }
   },
   "source": [
    "Mettez votre réponse dans cette cellule."
   ]
  },
  {
   "cell_type": "markdown",
   "id": "7c55c980",
   "metadata": {
    "deletable": false,
    "editable": false,
    "nbgrader": {
     "cell_type": "markdown",
     "checksum": "3d5cc45d39e8970390886ea859a369d1",
     "grade": false,
     "grade_id": "cell-5e296318c6a0826b",
     "locked": true,
     "schema_version": 3,
     "solution": false,
     "task": false
    }
   },
   "source": [
    "## Partie 2 : calculs de racine carrée\n",
    "\n",
    "Dans cette nous utilisons les notions de base en `C` qui sont plus ou moins communes avec `python`, en prenant le prétexte d'implémenter plusieurs algorithmes de calcul de racines carrées."
   ]
  },
  {
   "cell_type": "markdown",
   "id": "ab97fcac",
   "metadata": {
    "deletable": false,
    "editable": false,
    "nbgrader": {
     "cell_type": "markdown",
     "checksum": "0acb1d025f77c627aa928123788a8103",
     "grade": false,
     "grade_id": "cell-c751a634f4b0d5ff",
     "locked": true,
     "schema_version": 3,
     "solution": false,
     "task": false
    }
   },
   "source": [
    "Quand on programme, il faut prendre l'habitude de commenter ce qui est fait, notamment pour chaque fonction, si ce n'est pas clair grâce aux noms des arguments, il faut donner leur signification, et il faut mettre une courte phrase qui décrit la fonction. Le cas échéant, on peut aussi ajouter des considérations de complexité.\n",
    "\n",
    "Écrire et commenter un fonction `valeur_absolue` qui prend un double en arguments et renvoie sa valeur absolue."
   ]
  },
  {
   "cell_type": "code",
   "execution_count": null,
   "id": "5b80f076",
   "metadata": {
    "deletable": false,
    "nbgrader": {
     "cell_type": "code",
     "checksum": "b591e8c61761b62bce48f8adbabe64d5",
     "grade": false,
     "grade_id": "cell-e87ddbde58ac7ee7",
     "locked": false,
     "schema_version": 3,
     "solution": true,
     "task": false
    }
   },
   "outputs": [],
   "source": [
    "// écrire le code ici\n",
    "throw new Error();//instruction C++, n'existe pas en C, à supprimer une fois le code écrit"
   ]
  },
  {
   "cell_type": "code",
   "execution_count": null,
   "id": "42f29f4b",
   "metadata": {
    "deletable": false,
    "editable": false,
    "nbgrader": {
     "cell_type": "code",
     "checksum": "1eb9634407d32a37866a68516449d14b",
     "grade": true,
     "grade_id": "cell-368b0674bb92e0ee",
     "locked": true,
     "points": 1,
     "schema_version": 3,
     "solution": false,
     "task": false
    }
   },
   "outputs": [],
   "source": [
    "// les lignes qui suivent ne sont pas correctes en C, hors du noyau xeus-cling de jupyter, elles n'ont pas de sens\n",
    "#include <math.h>\n",
    "double epsilon = 0.0000001;\n",
    "ASSERT(fabs(valeur_absolue(0)) < epsilon);\n",
    "ASSERT(fabs(valeur_absolue(1.) - 1) < epsilon);\n",
    "ASSERT(fabs(valeur_absolue(-1.7) - 1.7) < epsilon);"
   ]
  },
  {
   "cell_type": "markdown",
   "id": "d014b57e",
   "metadata": {
    "deletable": false,
    "editable": false,
    "nbgrader": {
     "cell_type": "markdown",
     "checksum": "d5b7e00b3668fb2e3d67715988047a85",
     "grade": false,
     "grade_id": "cell-f25f8ff7fe705132",
     "locked": true,
     "schema_version": 3,
     "solution": false,
     "task": false
    }
   },
   "source": [
    "## Algorithme dichotomique\n",
    "Dans cette partie, nous allons aborder le problème du calcul de la racine carrée d'un nombre supposé positif (sans vérifier pour l'instant ce point), par une stratégie algorithmique classique, la _dichotomie_. Le principe de la dichotomie est le suivant :\n",
    "* on cherche la réponse dans un intervalle,\n",
    "* si la réponse est au milieu de l'intervalle, on a trouvé la solution,\n",
    "* sinon\n",
    "  * soit elle est inférieure à ce milieu et on regarde dans la moitié de gauche en suivant la même méthode,\n",
    "  * soit elle est supérieure et on regarde dans la moitié de droite en suivant la même méthode.\n",
    "C'est le principe que vous utilisez quand vous cherchez un mot dans un dictionnaire."
   ]
  },
  {
   "cell_type": "markdown",
   "id": "fd73a5b4",
   "metadata": {
    "deletable": false,
    "editable": false,
    "nbgrader": {
     "cell_type": "markdown",
     "checksum": "3afd3138b6d16d373e272492976b84ed",
     "grade": false,
     "grade_id": "cell-f25f8ff7fe705133",
     "locked": true,
     "schema_version": 3,
     "solution": false,
     "task": false
    }
   },
   "source": [
    "### Application au calcul de la racine\n",
    "Ici, si on note $x$ le nombre dont on cherche la racine carrée, on sait que celle-ci appartient à l'intervalle\n",
    "$[1,x]$ si $x\\geq 1$ et $[x,1]$ sinon (rappel : on suppose que $x\\geq 0$.) On peut alors comparer le carré de la valeur candidate (ici $(x+1)/2$) à $x$ : s'ils sont suffisamment proches, on considère qu'on a trouvé $\\sqrt{x}$, sinon on continue dans la bonne moitié de l'intervalle.\n",
    "\n",
    "Documenter et écrire la fonction `racine_par_dichotomie` qui prend en premier argument le flottant dont on chreche la racine, et en deuxième argument la précision qui permet de détecter si le carré de la valeur candidate est suffisamment proche de ce nombre."
   ]
  },
  {
   "cell_type": "code",
   "execution_count": null,
   "id": "731cc5f5",
   "metadata": {
    "deletable": false,
    "nbgrader": {
     "cell_type": "code",
     "checksum": "94d78ce09e68865c4e6fab3d2922802a",
     "grade": false,
     "grade_id": "cell-07f8007a4ae906d0",
     "locked": false,
     "schema_version": 3,
     "solution": true,
     "task": false
    }
   },
   "outputs": [],
   "source": [
    "// écrire le code ici\n",
    "throw new Error();//instruction C++, n'existe pas en C, à supprimer une fois le code écrit"
   ]
  },
  {
   "cell_type": "code",
   "execution_count": null,
   "id": "31d05ab2",
   "metadata": {
    "deletable": false,
    "editable": false,
    "nbgrader": {
     "cell_type": "code",
     "checksum": "472c7c0c20420284e6d2b0121c20033b",
     "grade": true,
     "grade_id": "cell-d41875ae5211e597",
     "locked": true,
     "points": 1,
     "schema_version": 3,
     "solution": false,
     "task": false
    }
   },
   "outputs": [],
   "source": [
    "// les lignes qui suivent ne sont pas correctes en C, hors du noyau xeus-cling de jupyter, elles n'ont pas de sens\n",
    "#include <math.h>\n",
    "\n",
    "double epsilon = 0.001;\n",
    "double precisiontest = 0.0000001;\n",
    "ASSERT(fabs(racine_par_dichotomie(0, precisiontest)) < epsilon);\n",
    "ASSERT(fabs(racine_par_dichotomie(.5, precisiontest) - sqrt(.5)) < epsilon);\n",
    "double xtest = 43643285.43;\n",
    "ASSERT(fabs(racine_par_dichotomie(xtest, precisiontest) - sqrt(xtest)) < epsilon);"
   ]
  },
  {
   "cell_type": "markdown",
   "id": "0e2dbf00",
   "metadata": {
    "deletable": false,
    "editable": false,
    "nbgrader": {
     "cell_type": "markdown",
     "checksum": "01b40d525730e341198c281b61899013",
     "grade": false,
     "grade_id": "cell-681d97fbf9e04d4f",
     "locked": true,
     "schema_version": 3,
     "solution": false,
     "task": false
    }
   },
   "source": [
    "De quels paramètres dépend la complexité temporelle de la fonction `racine_par_dichotomie` ? Donnez un ordre de grandeur de cette complexité dans le pire des cas, en justifiant votre réponse."
   ]
  },
  {
   "cell_type": "markdown",
   "id": "ed379d49",
   "metadata": {
    "deletable": false,
    "nbgrader": {
     "cell_type": "markdown",
     "checksum": "a5f6e2a8bd71d465054a6846943b1aa2",
     "grade": true,
     "grade_id": "cell-3b895374c66c5249",
     "locked": false,
     "points": 1,
     "schema_version": 3,
     "solution": true,
     "task": false
    }
   },
   "source": [
    "Mettez votre réponse dans cette cellule."
   ]
  },
  {
   "cell_type": "markdown",
   "id": "b8aafd44",
   "metadata": {
    "deletable": false,
    "editable": false,
    "nbgrader": {
     "cell_type": "markdown",
     "checksum": "469759cf8f8fdd887871423cf3872944",
     "grade": false,
     "grade_id": "cell-1858949ed64995d8",
     "locked": true,
     "schema_version": 3,
     "solution": false,
     "task": false
    }
   },
   "source": [
    "## Algorithme de Héron\n",
    "Chez les Grecs anciens, trouver la racine carrée de $x$ était un problème de gémétrie : cela revenait à trouver un carré de côté $c$ dont l'aire valait $x$. L'algorithme de Héron repose sur cette vision : \n",
    "* on part d'un rectangle dont on sait que l'aire est $x$ : le rectangle $1\\times x$,\n",
    "* tant que le rectangle ne peut pas être considéré comme un carré (c'est-à-dire tant que ses côtés sont suffisamment différents)\n",
    "  * on considère un nouveau rectangle dont un des côtés vaut la moyenne arithmétique des côtés de l'ancien rectangle, et l'autre ce qu'il faut pour que l'aire de ce rectangle soit encore $x$\n",
    "* on retourne $x$.\n",
    "\n",
    "Documenter et écrire la fonction `racine_Heron` qui prend les mêmes arguments que fonction `racine_par_dichotomie`."
   ]
  },
  {
   "cell_type": "code",
   "execution_count": null,
   "id": "9af5024d",
   "metadata": {
    "deletable": false,
    "nbgrader": {
     "cell_type": "code",
     "checksum": "aa0b116880448d67d4fe6fe9e01e81ad",
     "grade": false,
     "grade_id": "cell-1a5fc0ad5965c9c3",
     "locked": false,
     "schema_version": 3,
     "solution": true,
     "task": false
    }
   },
   "outputs": [],
   "source": [
    "// écrire le code ici\n",
    "throw new Error();//instruction C++, n'existe pas en C, à supprimer une fois le code écrit"
   ]
  },
  {
   "cell_type": "code",
   "execution_count": null,
   "id": "21127fc3",
   "metadata": {
    "deletable": false,
    "editable": false,
    "nbgrader": {
     "cell_type": "code",
     "checksum": "c89b2d1d44069c0d21e66a44f73a8f1b",
     "grade": true,
     "grade_id": "cell-70d1196509fbb825",
     "locked": true,
     "points": 1,
     "schema_version": 3,
     "solution": false,
     "task": false
    }
   },
   "outputs": [],
   "source": [
    "// les lignes qui suivent ne sont pas correctes en C, hors du noyau xeus-cling de jupyter, elles n'ont pas de sens\n",
    "ASSERT(fabs(racine_Heron(0.1, precisiontest) - sqrt(.1)) < epsilon);\n",
    "ASSERT(fabs(racine_Heron(.5, precisiontest) - sqrt(.5)) < epsilon);\n",
    "ASSERT(fabs(racine_Heron(xtest, precisiontest) - sqrt(xtest)) < epsilon);"
   ]
  },
  {
   "cell_type": "markdown",
   "id": "cd383749",
   "metadata": {
    "deletable": false,
    "editable": false,
    "nbgrader": {
     "cell_type": "markdown",
     "checksum": "5fa9db8f12bbd503865a6fafb49878cc",
     "grade": false,
     "grade_id": "cell-ac13cb81b50343a2",
     "locked": true,
     "schema_version": 3,
     "solution": false,
     "task": false
    }
   },
   "source": [
    "Comment se comporte la fonction `racine_Heron` pour le calcul de la racine de 0 ? Expliquez."
   ]
  },
  {
   "cell_type": "markdown",
   "id": "7c83b76e",
   "metadata": {
    "deletable": false,
    "nbgrader": {
     "cell_type": "markdown",
     "checksum": "6f064ece11b6be86787720206587a6c4",
     "grade": true,
     "grade_id": "cell-e94de1219d0ab06f",
     "locked": false,
     "points": 1,
     "schema_version": 3,
     "solution": true,
     "task": false
    }
   },
   "source": [
    "Mettez votre réponse dans cette cellule."
   ]
  },
  {
   "cell_type": "markdown",
   "id": "d45909a1",
   "metadata": {
    "deletable": false,
    "editable": false,
    "nbgrader": {
     "cell_type": "markdown",
     "checksum": "a19ae0b233a1c468abdf5da614364da5",
     "grade": false,
     "grade_id": "cell-93ad6cdb1d8b6a9d",
     "locked": true,
     "schema_version": 3,
     "solution": false,
     "task": false
    }
   },
   "source": [
    "## Comparaison des temps d'exécution\n",
    "Nous n'allons pas nous lancer sur l'analyse précise de la complexité temporelle de ces algorithmes (d'autant qu'au moment où j'écris cet énoncé, je ne sais pas si la notion aura déjà été vue en cours), mais nous pouvons comparer les temps d'exécution. Pour celà, nous utilisons la fonction magique de cellule (_magic cell function_) `%%timeit` qu'il faut écrire en début de cellule et nous lançons les calculs:\n",
    "\n",
    "[ Ne vous impatientez pas, cela prend quelques secondes car `timeit` exécute plusieurs fois ce que l'on demande pour faire une moyenne. ]"
   ]
  },
  {
   "cell_type": "code",
   "execution_count": null,
   "id": "df3539c1",
   "metadata": {
    "deletable": false,
    "editable": false,
    "nbgrader": {
     "cell_type": "code",
     "checksum": "ddb2179b83aa6b7f7631e8f3b3dba72d",
     "grade": false,
     "grade_id": "cell-56ad9fa1aa06245c",
     "locked": true,
     "schema_version": 3,
     "solution": false,
     "task": false
    }
   },
   "outputs": [],
   "source": [
    "%%timeit\n",
    "\n",
    "// écrire du code hors de toute fonction ça passe sur jupyter, mais ce n'est pas possible en C !!!\n",
    "double x = 43561;\n",
    "double precision = 0.000001;\n",
    "for(int i=0; i<100000; i=i+1)\n",
    "    racine_par_dichotomie(x+i, precision);"
   ]
  },
  {
   "cell_type": "code",
   "execution_count": null,
   "id": "13b53b47",
   "metadata": {
    "deletable": false,
    "editable": false,
    "nbgrader": {
     "cell_type": "code",
     "checksum": "00f02601b8c532a64427f43751345d09",
     "grade": false,
     "grade_id": "cell-de218aa352b64dbd",
     "locked": true,
     "schema_version": 3,
     "solution": false,
     "task": false
    }
   },
   "outputs": [],
   "source": [
    "%%timeit\n",
    "\n",
    "// écrire du code hors de toute fonction ça passe sur jupyter, mais ce n'est pas possible en C !!!\n",
    "double x = 43561;\n",
    "double precision = 0.000001;\n",
    "for(int i=0; i<100000; i=i+1)\n",
    "    racine_Heron(x+i, precision);"
   ]
  },
  {
   "cell_type": "markdown",
   "id": "a0fcbb6c",
   "metadata": {
    "deletable": false,
    "editable": false,
    "nbgrader": {
     "cell_type": "markdown",
     "checksum": "e8a2d91b556f655e20c3c2e3830267d0",
     "grade": false,
     "grade_id": "cell-a60acec7a116ca71",
     "locked": true,
     "schema_version": 3,
     "solution": false,
     "task": false
    }
   },
   "source": [
    "Vous pouvez vous convaincre que l'algorithme utilisé par la fonction `sqrt` déclarée dans le fichier d'en-tête `math.h` n'est aucun des algorithmes vus, en testant le temps d'exécution de cette fonction. (Pour les curieux, l'algorithme utilisé est une variante de l'algorithme de Cordic.)"
   ]
  },
  {
   "cell_type": "code",
   "execution_count": null,
   "id": "c1bccd0a",
   "metadata": {
    "deletable": false,
    "editable": false,
    "nbgrader": {
     "cell_type": "code",
     "checksum": "e9b207f8083bbbac2cf2bb5be44b3993",
     "grade": false,
     "grade_id": "cell-f3ba1e105ebc3de5",
     "locked": true,
     "schema_version": 3,
     "solution": false,
     "task": false
    }
   },
   "outputs": [],
   "source": [
    "%%timeit\n",
    "\n",
    "// écrire du code hors de toute fonction ça passe sur jupyter, mais ce n'est pas possible en C !!!\n",
    "#include <math.h>\n",
    "\n",
    "double x = 43561;\n",
    "double precision = 0.000001;\n",
    "for(int i=0; i<100000; i=i+1)\n",
    "    sqrt(x+i);"
   ]
  }
 ],
 "metadata": {
  "kernelspec": {
   "display_name": "C++11",
   "language": "C++11",
   "name": "xcpp11"
  },
  "language_info": {
   "codemirror_mode": "text/x-c++src",
   "file_extension": ".cpp",
   "mimetype": "text/x-c++src",
   "name": "c++",
   "version": "11"
  }
 },
 "nbformat": 4,
 "nbformat_minor": 5
}
