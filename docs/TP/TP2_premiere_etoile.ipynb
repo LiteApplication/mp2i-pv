{
 "cells": [
  {
   "cell_type": "markdown",
   "id": "9902fb46",
   "metadata": {
    "nbgrader": {
     "grade": false,
     "grade_id": "cell-42f77a1f3442b95c",
     "locked": true,
     "schema_version": 3,
     "solution": false,
     "task": false
    }
   },
   "source": [
    "# TP2 : fonctions et structures de contrôle\n",
    "## première étoile : pour ceux qui ont déjà programmé avant"
   ]
  },
  {
   "cell_type": "code",
   "execution_count": 12,
   "id": "16b38819",
   "metadata": {
    "nbgrader": {
     "grade": false,
     "grade_id": "cell-f831f2beff9b3e10",
     "locked": true,
     "schema_version": 3,
     "solution": false,
     "task": false
    }
   },
   "outputs": [],
   "source": [
    "/* cette cellule doit être exécutée pour les tests des autres cellules\n",
    "   attention : c'est du C++ */\n",
    "#ifndef ASSERT\n",
    "#define ASSERT(C) if ( !(C) ) { throw std::runtime_error(\"\\x1b[48;5;224mTest failed: \"#C); }\n",
    "#endif"
   ]
  },
  {
   "cell_type": "markdown",
   "id": "86f3f547",
   "metadata": {
    "nbgrader": {
     "grade": false,
     "grade_id": "cell-a6f25e13553bfcf9",
     "locked": true,
     "schema_version": 3,
     "solution": false,
     "task": false
    }
   },
   "source": [
    "Rappel: quand on utilise l'opérateur '/' entre deux entiers, on obtient le quotient de la division euclidienne. Le reste lui est obtenu grâce à l'opérateur `%`."
   ]
  },
  {
   "cell_type": "markdown",
   "id": "6d5fc4d0",
   "metadata": {
    "nbgrader": {
     "grade": false,
     "grade_id": "cell-336ecab943bc3316",
     "locked": true,
     "schema_version": 3,
     "solution": false,
     "task": false
    }
   },
   "source": [
    "Pour afficher la valeur d'un entier `n`, on utilise l'appel de fonction\n",
    "```C\n",
    "printf(\"%d\", n);\n",
    "```\n",
    "et pour effectuer un retour à la ligne, l'appel\n",
    "```C\n",
    "printf(\"\\n\");\n",
    "```"
   ]
  },
  {
   "cell_type": "markdown",
   "id": "19e15a86",
   "metadata": {
    "nbgrader": {
     "grade": false,
     "grade_id": "cell-51df5b74a4beb309",
     "locked": true,
     "schema_version": 3,
     "solution": false,
     "task": false
    }
   },
   "source": [
    "### Exo 1\n",
    "Écrire une fonction `ecriture_binaire_positif` qui prend en argument un entier supposé strictement positif et écrit sa représentation en base 2."
   ]
  },
  {
   "cell_type": "code",
   "execution_count": 1,
   "id": "d60a0b87",
   "metadata": {
    "nbgrader": {
     "grade": true,
     "grade_id": "cell-5e07f794c7d07fe9",
     "locked": false,
     "points": 1,
     "schema_version": 3,
     "solution": true,
     "task": false
    }
   },
   "outputs": [],
   "source": [
    "///BEGIN SOLUTION\n",
    "void ecriture_binaire_positif(int n){\n",
    "    if(n>0){\n",
    "        ecriture_binaire_positif(n/2);\n",
    "        printf(\"%d\", n%2);\n",
    "    }\n",
    "}\n",
    "///END SOLUTION"
   ]
  },
  {
   "cell_type": "markdown",
   "id": "12f7a666",
   "metadata": {
    "nbgrader": {
     "grade": false,
     "grade_id": "cell-3788e088ecb24a75",
     "locked": true,
     "schema_version": 3,
     "solution": false,
     "task": false
    }
   },
   "source": [
    "Vous pouvez ajouter une cellule pour tester votre fonction. (Je vous laisse les ajouter pour les exercices suivants, et les laisser pour moi ensuite.)"
   ]
  },
  {
   "cell_type": "code",
   "execution_count": 2,
   "id": "526a1d6e",
   "metadata": {
    "nbgrader": {
     "grade": false,
     "grade_id": "cell-8c99b458fd5da8b4",
     "locked": true,
     "schema_version": 3,
     "solution": false,
     "task": false
    }
   },
   "outputs": [
    {
     "name": "stdout",
     "output_type": "stream",
     "text": [
      "1010"
     ]
    }
   ],
   "source": [
    "ecriture_binaire_positif(10);"
   ]
  },
  {
   "cell_type": "markdown",
   "id": "ab65c0fc",
   "metadata": {
    "nbgrader": {
     "grade": false,
     "grade_id": "cell-582723d019e6eaa2",
     "locked": true,
     "schema_version": 3,
     "solution": false,
     "task": false
    }
   },
   "source": [
    "### Exo 2\n",
    "Écrire maintenant une fonction `representation_32_bits_positifs` qui prend en argument un entier positif supposé dans le bon ensemble pour pouvoir être représenté par un `int32_t` et affiche sa représentation en tant que `int32_t`.\n",
    "(La version actuellement installée du noyau ne permet pas d'écrire plusieurs fonctions dans la même cellule, je vous laisse donc plusieurs cellules pour la solution, n'hésitez pas à en profiter; vous pouvez aussi en ajouter vous-même.)"
   ]
  },
  {
   "cell_type": "code",
   "execution_count": 3,
   "id": "522ce8ed",
   "metadata": {
    "nbgrader": {
     "grade": true,
     "grade_id": "cell-8ed8d51a956c1c6c",
     "locked": false,
     "points": 1,
     "schema_version": 3,
     "solution": true,
     "task": false
    }
   },
   "outputs": [],
   "source": [
    "///BEGIN SOLUTION\n",
    "void representation_32_bits_positif(int n, int l){\n",
    "    if(l>0){\n",
    "        representation_32_bits_positif(n/2, l-1);\n",
    "        printf(\"%d\", n%2);\n",
    "    }\n",
    "}\n",
    "///END SOLUTION"
   ]
  },
  {
   "cell_type": "code",
   "execution_count": 4,
   "id": "a68cc779",
   "metadata": {
    "nbgrader": {
     "grade": true,
     "grade_id": "cell-1df79c294bcc3e88",
     "locked": false,
     "points": 1,
     "schema_version": 3,
     "solution": true,
     "task": false
    }
   },
   "outputs": [],
   "source": [
    "///BEGIN SOLUTION\n",
    "void representation_32_bits(int n){\n",
    "    printf(\"0\");\n",
    "    representation_32_bits_positif(n, 31);\n",
    "}\n",
    "///END SOLUTION"
   ]
  },
  {
   "cell_type": "markdown",
   "id": "2dc16b7a",
   "metadata": {
    "nbgrader": {
     "grade": false,
     "grade_id": "cell-8813172e35b19087",
     "locked": true,
     "schema_version": 3,
     "solution": false,
     "task": false
    }
   },
   "source": [
    "### Exo 3\n",
    "Un nombre _parfait_ est un nombre égal à la somme de ses diviseurs stricts. Écrire une fonction `parfait` qui prend en argument un entier supposé strictement positif et teste s'il est parfait. (Détail amusant: on ne connaît aucun nombre parfait impair.)"
   ]
  },
  {
   "cell_type": "code",
   "execution_count": 9,
   "id": "3411a0c8",
   "metadata": {
    "nbgrader": {
     "grade": false,
     "grade_id": "cell-3d6b0ca93ac34095",
     "locked": false,
     "schema_version": 3,
     "solution": true,
     "task": false
    }
   },
   "outputs": [],
   "source": [
    "///BEGIN SOLUTION\n",
    "bool parfait(int n){\n",
    "    int s = 0;\n",
    "    for(int i=1; i<n; i++){\n",
    "        if (n%i==0){\n",
    "            s += i;\n",
    "        }\n",
    "    }\n",
    "    return s==n;\n",
    "}\n",
    "///END SOLUTION"
   ]
  },
  {
   "cell_type": "code",
   "execution_count": 18,
   "id": "d64e2add",
   "metadata": {
    "nbgrader": {
     "grade": true,
     "grade_id": "cell-7331fb4ad2eb5e8e",
     "locked": true,
     "points": 1,
     "schema_version": 3,
     "solution": false,
     "task": false
    }
   },
   "outputs": [],
   "source": [
    "ASSERT(parfait(6));\n",
    "ASSERT(!parfait(15));\n",
    "ASSERT(parfait(8128));\n",
    "ASSERT(parfait(33550336));\n",
    "ASSERT(!parfait(64726437));"
   ]
  },
  {
   "cell_type": "markdown",
   "id": "44bf919a",
   "metadata": {
    "nbgrader": {
     "grade": false,
     "grade_id": "cell-14f703c92d340fc2",
     "locked": true,
     "schema_version": 3,
     "solution": false,
     "task": false
    }
   },
   "source": [
    "### Exo 4\n",
    "Écrire une fonction `nb_de_chiffres` qui prend en argument un entier supposé positif et renvoie le nombre de chiffres de cet entier en base 10."
   ]
  },
  {
   "cell_type": "code",
   "execution_count": 22,
   "id": "519fbaeb",
   "metadata": {
    "nbgrader": {
     "grade": false,
     "grade_id": "cell-e05e227d1d28362b",
     "locked": false,
     "schema_version": 3,
     "solution": true,
     "task": false
    }
   },
   "outputs": [],
   "source": [
    "///BEGIN SOLUTION\n",
    "int nb_de_chiffres(int n){\n",
    "    int nb = 0;\n",
    "    while (n > 0) {\n",
    "        nb = nb + 1;\n",
    "        n = n / 10;\n",
    "    }\n",
    "    return nb;\n",
    "}\n",
    "///END SOLUTION"
   ]
  },
  {
   "cell_type": "code",
   "execution_count": 23,
   "id": "fa6b71c9",
   "metadata": {
    "nbgrader": {
     "grade": true,
     "grade_id": "cell-2d85da1b8649aa0d",
     "locked": true,
     "points": 1,
     "schema_version": 3,
     "solution": false,
     "task": false
    }
   },
   "outputs": [],
   "source": [
    "ASSERT(nb_de_chiffres(0) == 0);\n",
    "ASSERT(nb_de_chiffres(1) == 1);\n",
    "ASSERT(nb_de_chiffres(9) == 1);\n",
    "ASSERT(nb_de_chiffres(10) == 2);\n",
    "ASSERT(nb_de_chiffres(99) == 2);\n",
    "ASSERT(nb_de_chiffres(100) == 3);\n",
    "ASSERT(nb_de_chiffres(865462) == 6);"
   ]
  },
  {
   "cell_type": "markdown",
   "id": "9bc28d52",
   "metadata": {
    "nbgrader": {
     "grade": false,
     "grade_id": "cell-47fbd2a1f0c704d0",
     "locked": true,
     "schema_version": 3,
     "solution": false,
     "task": false
    }
   },
   "source": [
    "### Exo 5\n",
    "D'après wikipedia, un [_nombre de Kaprekar_](https://fr.wikipedia.org/wiki/Nombre_de_Kaprekar) est un entier naturel qui, dans une base donnée, lorsqu'il est élevé au carré, peut être séparé en une partie gauche et une partie droite (non nulle) telles que la somme donne le nombre initial.\n",
    "\n",
    "Écrire une fonction `Kaprekar` qui teste si un nombre est de Kaprekar."
   ]
  },
  {
   "cell_type": "code",
   "execution_count": 24,
   "id": "8c42ca95",
   "metadata": {
    "nbgrader": {
     "grade": true,
     "grade_id": "cell-ade05ee86df9b4ba",
     "locked": true,
     "points": 1,
     "schema_version": 3,
     "solution": false,
     "task": false
    }
   },
   "outputs": [
    {
     "name": "stderr",
     "output_type": "stream",
     "text": [
      "input_line_34:2:9: error: use of undeclared identifier 'Kaprekar'\n",
      " ASSERT(Kaprekar(703));\n",
      "        ^\n",
      "input_line_34:3:8: error: use of undeclared identifier 'Kaprekar'\n",
      "ASSERT(Kaprekar(4879));\n",
      "       ^\n",
      "input_line_34:4:9: error: use of undeclared identifier 'Kaprekar'\n",
      "ASSERT(!Kaprekar(4329));\n",
      "        ^\n"
     ]
    },
    {
     "ename": "Interpreter Error",
     "evalue": "",
     "output_type": "error",
     "traceback": [
      "Interpreter Error: "
     ]
    }
   ],
   "source": [
    "ASSERT(Kaprekar(703));\n",
    "ASSERT(Kaprekar(4879));\n",
    "ASSERT(!Kaprekar(4329));"
   ]
  }
 ],
 "metadata": {
  "celltoolbar": "Create Assignment",
  "kernelspec": {
   "display_name": "C++11",
   "language": "C++11",
   "name": "xcpp11"
  },
  "language_info": {
   "codemirror_mode": "text/x-c++src",
   "file_extension": ".cpp",
   "mimetype": "text/x-c++src",
   "name": "c++",
   "version": "11"
  }
 },
 "nbformat": 4,
 "nbformat_minor": 5
}
