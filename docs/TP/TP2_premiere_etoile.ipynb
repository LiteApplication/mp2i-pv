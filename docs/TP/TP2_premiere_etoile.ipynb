{
 "cells": [
  {
   "cell_type": "markdown",
   "id": "78e6d9bf",
   "metadata": {
    "deletable": false,
    "editable": false,
    "nbgrader": {
     "cell_type": "markdown",
     "checksum": "b70fb27d515b33af569e19ca57531b6e",
     "grade": false,
     "grade_id": "cell-dfcd7199489b7abc",
     "locked": true,
     "schema_version": 3,
     "solution": false,
     "task": false
    }
   },
   "source": [
    "# Informatique - MP2I\n",
    "---"
   ]
  },
  {
   "cell_type": "markdown",
   "id": "9902fb46",
   "metadata": {
    "deletable": false,
    "editable": false,
    "nbgrader": {
     "cell_type": "markdown",
     "checksum": "c0d7a88a1c3dc772af107a33efb21ec9",
     "grade": false,
     "grade_id": "cell-42f77a1f3442b95c",
     "locked": true,
     "schema_version": 3,
     "solution": false,
     "task": false
    }
   },
   "source": [
    "# TP2 : fonctions et structures de contrôle\n",
    "## première étoile : pour ceux qui ont déjà programmé avant"
   ]
  },
  {
   "cell_type": "code",
   "execution_count": null,
   "id": "16b38819",
   "metadata": {
    "deletable": false,
    "editable": false,
    "nbgrader": {
     "cell_type": "code",
     "checksum": "ed7ceca44c85184cdd0f181d0f120664",
     "grade": false,
     "grade_id": "cell-f831f2beff9b3e10",
     "locked": true,
     "schema_version": 3,
     "solution": false,
     "task": false
    }
   },
   "outputs": [],
   "source": [
    "/* cette cellule doit être exécutée pour les tests des autres cellules\n",
    "   attention : c'est du C++ */\n",
    "#ifndef ASSERT\n",
    "#define ASSERT(C) if ( !(C) ) { throw std::runtime_error(\"\\x1b[48;5;224mTest failed: \"#C); }\n",
    "#endif"
   ]
  },
  {
   "cell_type": "markdown",
   "id": "86f3f547",
   "metadata": {
    "deletable": false,
    "editable": false,
    "nbgrader": {
     "cell_type": "markdown",
     "checksum": "f19a9c31b4afe91bbe0ad6fc7333a998",
     "grade": false,
     "grade_id": "cell-a6f25e13553bfcf9",
     "locked": true,
     "schema_version": 3,
     "solution": false,
     "task": false
    }
   },
   "source": [
    "Rappel: quand on utilise l'opérateur '/' entre deux entiers, on obtient le quotient de la division euclidienne. Le reste lui est obtenu grâce à l'opérateur `%`."
   ]
  },
  {
   "cell_type": "markdown",
   "id": "6d5fc4d0",
   "metadata": {
    "deletable": false,
    "editable": false,
    "nbgrader": {
     "cell_type": "markdown",
     "checksum": "1366ab1a470125df5e958ccfbf09d97c",
     "grade": false,
     "grade_id": "cell-336ecab943bc3316",
     "locked": true,
     "schema_version": 3,
     "solution": false,
     "task": false
    }
   },
   "source": [
    "Pour afficher la valeur d'un entier `n`, on utilise l'appel de fonction\n",
    "```C\n",
    "printf(\"%d\", n);\n",
    "```\n",
    "et pour effectuer un retour à la ligne, l'appel\n",
    "```C\n",
    "printf(\"\\n\");\n",
    "```"
   ]
  },
  {
   "cell_type": "markdown",
   "id": "19e15a86",
   "metadata": {
    "deletable": false,
    "editable": false,
    "nbgrader": {
     "cell_type": "markdown",
     "checksum": "190ca0516a4c25d5874598d94cf0d311",
     "grade": false,
     "grade_id": "cell-51df5b74a4beb309",
     "locked": true,
     "schema_version": 3,
     "solution": false,
     "task": false
    }
   },
   "source": [
    "### Exo 1\n",
    "Écrire une fonction `ecriture_binaire_positif` qui prend en argument un entier supposé strictement positif et écrit sa représentation en base 2."
   ]
  },
  {
   "cell_type": "code",
   "execution_count": null,
   "id": "d60a0b87",
   "metadata": {
    "deletable": false,
    "nbgrader": {
     "cell_type": "code",
     "checksum": "bcdd8e555134fb6c3a4227a666762d03",
     "grade": true,
     "grade_id": "cell-5e07f794c7d07fe9",
     "locked": false,
     "points": 1,
     "schema_version": 3,
     "solution": true,
     "task": false
    }
   },
   "outputs": [],
   "source": [
    "// écrire le code ici\n",
    "throw new Error();//instruction C++, n'existe pas en C, à supprimer une fois le code écrit"
   ]
  },
  {
   "cell_type": "markdown",
   "id": "12f7a666",
   "metadata": {
    "deletable": false,
    "editable": false,
    "nbgrader": {
     "cell_type": "markdown",
     "checksum": "c6dc4f06b1fac63de789687bf4366e37",
     "grade": false,
     "grade_id": "cell-3788e088ecb24a75",
     "locked": true,
     "schema_version": 3,
     "solution": false,
     "task": false
    }
   },
   "source": [
    "Vous pouvez ajouter une cellule pour tester votre fonction. (Je vous laisse les ajouter pour les exercices suivants, et les laisser pour moi ensuite.)"
   ]
  },
  {
   "cell_type": "code",
   "execution_count": null,
   "id": "526a1d6e",
   "metadata": {
    "deletable": false,
    "editable": false,
    "nbgrader": {
     "cell_type": "code",
     "checksum": "3cd0caa4b5af65d83323d9a3d971491d",
     "grade": false,
     "grade_id": "cell-8c99b458fd5da8b4",
     "locked": true,
     "schema_version": 3,
     "solution": false,
     "task": false
    }
   },
   "outputs": [],
   "source": [
    "ecriture_binaire_positif(10);"
   ]
  },
  {
   "cell_type": "markdown",
   "id": "ab65c0fc",
   "metadata": {
    "deletable": false,
    "editable": false,
    "nbgrader": {
     "cell_type": "markdown",
     "checksum": "6be21dcbb4b03d273745d5a3b305c29c",
     "grade": false,
     "grade_id": "cell-582723d019e6eaa2",
     "locked": true,
     "schema_version": 3,
     "solution": false,
     "task": false
    }
   },
   "source": [
    "### Exo 2\n",
    "Écrire maintenant une fonction `representation_32_bits_positifs` qui prend en argument un entier positif supposé dans le bon ensemble pour pouvoir être représenté par un `int32_t` et affiche sa représentation en tant que `int32_t`.\n",
    "(La version actuellement installée du noyau ne permet pas d'écrire plusieurs fonctions dans la même cellule, je vous laisse donc plusieurs cellules pour la solution, n'hésitez pas à en profiter; vous pouvez aussi en ajouter vous-même.)"
   ]
  },
  {
   "cell_type": "code",
   "execution_count": null,
   "id": "522ce8ed",
   "metadata": {
    "deletable": false,
    "nbgrader": {
     "cell_type": "code",
     "checksum": "c35e2228befdedaaca16b2a1c46f2029",
     "grade": true,
     "grade_id": "cell-8ed8d51a956c1c6c",
     "locked": false,
     "points": 1,
     "schema_version": 3,
     "solution": true,
     "task": false
    }
   },
   "outputs": [],
   "source": [
    "// écrire le code ici\n",
    "throw new Error();//instruction C++, n'existe pas en C, à supprimer une fois le code écrit"
   ]
  },
  {
   "cell_type": "code",
   "execution_count": null,
   "id": "a68cc779",
   "metadata": {
    "deletable": false,
    "nbgrader": {
     "cell_type": "code",
     "checksum": "a86e1a2f4441da31738c39b13de80691",
     "grade": true,
     "grade_id": "cell-1df79c294bcc3e88",
     "locked": false,
     "points": 1,
     "schema_version": 3,
     "solution": true,
     "task": false
    }
   },
   "outputs": [],
   "source": [
    "// écrire le code ici\n",
    "throw new Error();//instruction C++, n'existe pas en C, à supprimer une fois le code écrit"
   ]
  },
  {
   "cell_type": "markdown",
   "id": "2dc16b7a",
   "metadata": {
    "deletable": false,
    "editable": false,
    "nbgrader": {
     "cell_type": "markdown",
     "checksum": "1cb65dc640928de3e515c0998a40b7e7",
     "grade": false,
     "grade_id": "cell-8813172e35b19087",
     "locked": true,
     "schema_version": 3,
     "solution": false,
     "task": false
    }
   },
   "source": [
    "### Exo 3\n",
    "Un nombre _parfait_ est un nombre égal à la somme de ses diviseurs stricts. Écrire une fonction `parfait` qui prend en argument un entier supposé strictement positif et teste s'il est parfait. (Détail amusant: on ne connaît aucun nombre parfait impair.)"
   ]
  },
  {
   "cell_type": "code",
   "execution_count": null,
   "id": "3411a0c8",
   "metadata": {
    "deletable": false,
    "nbgrader": {
     "cell_type": "code",
     "checksum": "2bf64fcf0a72a08a7c35569e46e468a6",
     "grade": false,
     "grade_id": "cell-3d6b0ca93ac34095",
     "locked": false,
     "schema_version": 3,
     "solution": true,
     "task": false
    }
   },
   "outputs": [],
   "source": [
    "// écrire le code ici\n",
    "throw new Error();//instruction C++, n'existe pas en C, à supprimer une fois le code écrit"
   ]
  },
  {
   "cell_type": "code",
   "execution_count": null,
   "id": "d64e2add",
   "metadata": {
    "deletable": false,
    "editable": false,
    "nbgrader": {
     "cell_type": "code",
     "checksum": "8f23981f1d6ba3afeda82c282badc086",
     "grade": true,
     "grade_id": "cell-7331fb4ad2eb5e8e",
     "locked": true,
     "points": 1,
     "schema_version": 3,
     "solution": false,
     "task": false
    }
   },
   "outputs": [],
   "source": [
    "ASSERT(parfait(6));\n",
    "ASSERT(!parfait(15));\n",
    "ASSERT(parfait(8128));\n",
    "ASSERT(parfait(33550336));\n",
    "ASSERT(!parfait(64726437));"
   ]
  },
  {
   "cell_type": "markdown",
   "id": "44bf919a",
   "metadata": {
    "deletable": false,
    "editable": false,
    "nbgrader": {
     "cell_type": "markdown",
     "checksum": "c6bbe751e71ed149a0a81aec5aa770f4",
     "grade": false,
     "grade_id": "cell-14f703c92d340fc2",
     "locked": true,
     "schema_version": 3,
     "solution": false,
     "task": false
    }
   },
   "source": [
    "### Exo 4\n",
    "Écrire une fonction `nb_de_chiffres` qui prend en argument un entier supposé positif et renvoie le nombre de chiffres de cet entier en base 10."
   ]
  },
  {
   "cell_type": "code",
   "execution_count": null,
   "id": "519fbaeb",
   "metadata": {
    "deletable": false,
    "nbgrader": {
     "cell_type": "code",
     "checksum": "ffa34e911fa42e7a766c884ba1d896dd",
     "grade": false,
     "grade_id": "cell-e05e227d1d28362b",
     "locked": false,
     "schema_version": 3,
     "solution": true,
     "task": false
    }
   },
   "outputs": [],
   "source": [
    "// écrire le code ici\n",
    "throw new Error();//instruction C++, n'existe pas en C, à supprimer une fois le code écrit"
   ]
  },
  {
   "cell_type": "code",
   "execution_count": null,
   "id": "fa6b71c9",
   "metadata": {
    "deletable": false,
    "editable": false,
    "nbgrader": {
     "cell_type": "code",
     "checksum": "5ff7983fd28f0bb199852ba1f518ed8d",
     "grade": true,
     "grade_id": "cell-2d85da1b8649aa0d",
     "locked": true,
     "points": 1,
     "schema_version": 3,
     "solution": false,
     "task": false
    }
   },
   "outputs": [],
   "source": [
    "ASSERT(nb_de_chiffres(0) == 0);\n",
    "ASSERT(nb_de_chiffres(1) == 1);\n",
    "ASSERT(nb_de_chiffres(9) == 1);\n",
    "ASSERT(nb_de_chiffres(10) == 2);\n",
    "ASSERT(nb_de_chiffres(99) == 2);\n",
    "ASSERT(nb_de_chiffres(100) == 3);\n",
    "ASSERT(nb_de_chiffres(865462) == 6);"
   ]
  },
  {
   "cell_type": "markdown",
   "id": "9bc28d52",
   "metadata": {
    "deletable": false,
    "editable": false,
    "nbgrader": {
     "cell_type": "markdown",
     "checksum": "8d0f39a75855df13e506e2ac04b54811",
     "grade": false,
     "grade_id": "cell-47fbd2a1f0c704d0",
     "locked": true,
     "schema_version": 3,
     "solution": false,
     "task": false
    }
   },
   "source": [
    "### Exo 5\n",
    "D'après wikipedia, un [_nombre de Kaprekar_](https://fr.wikipedia.org/wiki/Nombre_de_Kaprekar) est un entier naturel qui, dans une base donnée, lorsqu'il est élevé au carré, peut être séparé en une partie gauche et une partie droite (non nulle) telles que la somme donne le nombre initial.\n",
    "\n",
    "Écrire une fonction `Kaprekar` qui teste si un nombre est de Kaprekar."
   ]
  },
  {
   "cell_type": "code",
   "execution_count": null,
   "id": "8c42ca95",
   "metadata": {
    "deletable": false,
    "editable": false,
    "nbgrader": {
     "cell_type": "code",
     "checksum": "b9ac1e5bcdfbdaf2a55a7efd4b53fb9a",
     "grade": true,
     "grade_id": "cell-ade05ee86df9b4ba",
     "locked": true,
     "points": 1,
     "schema_version": 3,
     "solution": false,
     "task": false
    }
   },
   "outputs": [],
   "source": [
    "ASSERT(Kaprekar(703));\n",
    "ASSERT(Kaprekar(4879));\n",
    "ASSERT(!Kaprekar(4329));"
   ]
  }
 ],
 "metadata": {
  "kernelspec": {
   "display_name": "C++11",
   "language": "C++11",
   "name": "xcpp11"
  },
  "language_info": {
   "codemirror_mode": "text/x-c++src",
   "file_extension": ".cpp",
   "mimetype": "text/x-c++src",
   "name": "c++",
   "version": "11"
  }
 },
 "nbformat": 4,
 "nbformat_minor": 5
}
