{
 "cells": [
  {
   "cell_type": "markdown",
   "id": "f2996c2e",
   "metadata": {
    "nbgrader": {
     "grade": false,
     "grade_id": "cell-5679a9306cd43801",
     "locked": true,
     "schema_version": 3,
     "solution": false,
     "task": false
    }
   },
   "source": [
    "# TP1 : bases du C\n",
    "## flocon : pour ceux qui débutent en programmation\n",
    "\n",
    "Ce TP est constitué de deux parties : une première partie sur la représentation (mêmes questions que dans l'énoncé niveau première étoile) des nombres en machine et une deuxième partie dédiée à la programmation."
   ]
  },
  {
   "cell_type": "code",
   "execution_count": 4,
   "id": "aa0fde03",
   "metadata": {
    "nbgrader": {
     "grade": false,
     "grade_id": "cell-6e108eb163b85379",
     "locked": true,
     "schema_version": 3,
     "solution": false,
     "task": false
    }
   },
   "outputs": [],
   "source": [
    "/* cette cellule doit être exécutée pour les tests des autres cellules\n",
    "   attention : c'est du C++ */\n",
    "#ifndef ASSERT\n",
    "#define ASSERT(C) if ( !(C) ) { throw std::runtime_error(\"\\x1b[48;5;224mTest failed: \"#C); }\n",
    "#endif"
   ]
  },
  {
   "cell_type": "markdown",
   "id": "0c588a87",
   "metadata": {
    "nbgrader": {
     "grade": false,
     "grade_id": "cell-6a77d7202d4a1d7a",
     "locked": true,
     "schema_version": 3,
     "solution": false,
     "task": false
    }
   },
   "source": [
    "## Partie 1 : représentation des nombres en machine\n",
    "\n",
    "Il s'agit ici d'une suite de questions auxquelles vous devez répondre après avoir réfléchi sur un papier. Je ne vous demande pas forcément une valeur, vous pouvez donner la réponse sous forme de formule mathématique.\n",
    "\n",
    "Pour que ça ait l'air joli, vous pouvez écrire $2 * 3^4$ de la manière suivante : `$2 * 3^4$` (ce n'est pas du `C`, c'est du `LaTeX`; attention : l'opérateur `^` existe en `C` mais est sans rapport avec les puissances !)."
   ]
  },
  {
   "cell_type": "markdown",
   "id": "20ecb959",
   "metadata": {
    "nbgrader": {
     "grade": false,
     "grade_id": "cell-e3804b805f1aa0a5",
     "locked": true,
     "schema_version": 3,
     "solution": false,
     "task": false
    }
   },
   "source": [
    "Questions :\n",
    "\n",
    "1. Combien de valeurs différentes peut-on coder sur 4 bits ?\n",
    "1. Combien de valeurs différentes peut-on coder sur $n$ bits ?\n",
    "1. Combien de fichiers différents peut-on écrire sur 15437 octets ?"
   ]
  },
  {
   "cell_type": "code",
   "execution_count": 2,
   "id": "abc26f16",
   "metadata": {
    "nbgrader": {
     "grade": true,
     "grade_id": "cell-56fde803251ace0d",
     "locked": false,
     "points": 1,
     "schema_version": 3,
     "solution": true,
     "task": false
    }
   },
   "outputs": [],
   "source": [
    "réponses :"
   ]
  },
  {
   "cell_type": "markdown",
   "id": "ab9b10c1",
   "metadata": {
    "nbgrader": {
     "grade": false,
     "grade_id": "cell-e08bc683cd96b3f1",
     "locked": true,
     "schema_version": 3,
     "solution": false,
     "task": false
    }
   },
   "source": [
    "4. On veut créer un type qui permet de code les lettres minuscules de `a` à `z`. Quel est le nombre minimal de bits nécessaires pour cela ?\n",
    "4. Et si on veut aussi code les lettres majuscules de `A` à `Z` ?\n",
    "4. Et avec les chiffres de `0` à `9` ?"
   ]
  },
  {
   "cell_type": "markdown",
   "id": "d795145a",
   "metadata": {
    "nbgrader": {
     "grade": true,
     "grade_id": "cell-fdc1ea9450113da8",
     "locked": false,
     "points": 1,
     "schema_version": 3,
     "solution": true,
     "task": false
    }
   },
   "source": [
    "réponses :"
   ]
  },
  {
   "cell_type": "markdown",
   "id": "7e1c6b65",
   "metadata": {
    "nbgrader": {
     "grade": false,
     "grade_id": "cell-c131fb272b26d499",
     "locked": true,
     "schema_version": 3,
     "solution": false,
     "task": false
    }
   },
   "source": [
    "7. Donner la représentation en complément à 2 sur 8 bits des entiers suivants : 5, 9, -18, -48, -128, 129."
   ]
  },
  {
   "cell_type": "markdown",
   "id": "9373622f",
   "metadata": {
    "nbgrader": {
     "grade": true,
     "grade_id": "cell-d3aff44539b2c854",
     "locked": false,
     "points": 1,
     "schema_version": 3,
     "solution": true,
     "task": false
    }
   },
   "source": [
    "réponse :"
   ]
  },
  {
   "cell_type": "markdown",
   "id": "eee2f0e9",
   "metadata": {
    "nbgrader": {
     "grade": false,
     "grade_id": "cell-ff825c1cdf197bf1",
     "locked": true,
     "schema_version": 3,
     "solution": false,
     "task": false
    }
   },
   "source": [
    "## Partie 2 : premières fonctions\n",
    "\n",
    "Dans cette partie, on vous demande de programmer quelques fonctions simples."
   ]
  },
  {
   "cell_type": "code",
   "execution_count": 17,
   "id": "04ef874c",
   "metadata": {},
   "outputs": [],
   "source": [
    "/* cette cellule doit être exécutée pour les tests des autres cellules\n",
    "   attention : c'est du C++ */\n",
    "#ifndef ASSERT\n",
    "#define ASSERT(C) if ( !(C) ) { throw std::runtime_error(\"\\x1b[48;5;224mTest failed: \"#C); }\n",
    "#endif"
   ]
  },
  {
   "cell_type": "markdown",
   "id": "64df491a",
   "metadata": {
    "nbgrader": {
     "grade": false,
     "grade_id": "cell-6bac01e943642c04",
     "locked": true,
     "schema_version": 3,
     "solution": false,
     "task": false
    }
   },
   "source": [
    "Écrire une fonction `aire_rectangle` qui prend en argument deux nombres à virgule flottante représentant la largeur et la longueur d'un rectangle et renvoie l'air de ce rectangle."
   ]
  },
  {
   "cell_type": "code",
   "execution_count": 18,
   "id": "810ad02e",
   "metadata": {
    "nbgrader": {
     "grade": false,
     "grade_id": "cell-c6c91953bca17e82",
     "locked": false,
     "schema_version": 3,
     "solution": true,
     "task": false
    }
   },
   "outputs": [],
   "source": [
    "///BEGIN SOLUTION\n",
    "double aire_rectangle(double largeur, double longueur){\n",
    "    return largeur*longueur;\n",
    "}\n",
    "///END SOLUTION"
   ]
  },
  {
   "cell_type": "code",
   "execution_count": 19,
   "id": "e2b9f83f",
   "metadata": {
    "nbgrader": {
     "grade": true,
     "grade_id": "cell-23ea8defe7c8fc30",
     "locked": true,
     "points": 1,
     "schema_version": 3,
     "solution": false,
     "task": false
    }
   },
   "outputs": [],
   "source": [
    "// les lignes qui suivent ne sont pas correctes en C, hors du noyau xeus-cling de jupyter, elles n'ont pas de sens\n",
    "\n",
    "#include <math.h>\n",
    "double epsilon = 0.0001;\n",
    "\n",
    "ASSERT(fabs(aire_rectangle(0,7)) < epsilon);\n",
    "ASSERT(fabs(aire_rectangle(3.4,5.2) - 17.68) < epsilon)"
   ]
  },
  {
   "cell_type": "markdown",
   "id": "3edca7c8",
   "metadata": {
    "nbgrader": {
     "grade": false,
     "grade_id": "cell-40d07f8555bb86f3",
     "locked": true,
     "schema_version": 3,
     "solution": false,
     "task": false
    }
   },
   "source": [
    "Écrire une fonction `hypothenuse` qui prend en argument deux entiers représentant les longueurs des deux côtés les plus courts d'un triangle rectangle et renvoie la longueur approchée du troisième côté. Vous pouvez utiliser la fonction `sqrt` pour le calcule de la racine carrée."
   ]
  },
  {
   "cell_type": "code",
   "execution_count": 20,
   "id": "4bbf5691",
   "metadata": {
    "nbgrader": {
     "grade": false,
     "grade_id": "cell-8a2c8e038b150234",
     "locked": false,
     "schema_version": 3,
     "solution": true,
     "task": false
    }
   },
   "outputs": [],
   "source": [
    "#include <math.h>  //cette ligne permet l'utilisation de sqrt\n",
    "\n",
    "///BEGIN SOLUTION\n",
    "double hypothenuse(int a, int b){\n",
    "    return sqrt(a*a+b*b);\n",
    "}\n",
    "///END SOLUTION"
   ]
  },
  {
   "cell_type": "code",
   "execution_count": 21,
   "id": "d1de5c16",
   "metadata": {
    "nbgrader": {
     "grade": true,
     "grade_id": "cell-5b34395601754b71",
     "locked": true,
     "points": 0,
     "schema_version": 3,
     "solution": false,
     "task": false
    }
   },
   "outputs": [],
   "source": [
    "// les lignes qui suivent ne sont pas correctes en C, hors du noyau xeus-cling de jupyter, elles n'ont pas de sens\n",
    "#include <math.h>\n",
    "double epsilon = 0.0001;\n",
    "\n",
    "ASSERT(fabs(hypothenuse(3,4) - 5) < epsilon);\n",
    "ASSERT(fabs(hypothenuse(7,9) - 11.401754) < epsilon);"
   ]
  },
  {
   "cell_type": "markdown",
   "id": "7f442626",
   "metadata": {
    "nbgrader": {
     "grade": false,
     "grade_id": "cell-fe3eef5fc9e28e32",
     "locked": true,
     "schema_version": 3,
     "solution": false,
     "task": false
    }
   },
   "source": [
    "Écrire une fonction `cotes_triangle` qui prend en argument trois nombres à virgule flottante et teste s'ils peuvent représenter les longueurs des côtés d'un triangle. (Rappel : cela revient à tester si chaque longueur est inférieure à la somme des deux autres longueurs.)"
   ]
  },
  {
   "cell_type": "code",
   "execution_count": 22,
   "id": "2cf17f92",
   "metadata": {
    "nbgrader": {
     "grade": false,
     "grade_id": "cell-6d7f2a71a4a4fe32",
     "locked": false,
     "schema_version": 3,
     "solution": true,
     "task": false
    }
   },
   "outputs": [],
   "source": [
    "#include <stdbool.h>\n",
    "\n",
    "///BEGIN SOLUTION\n",
    "bool cotes_triangle(double a, double b, double c){\n",
    "    return a>0 && b>0 && c>0 && a < b+c && b < c+a && c < a+b;\n",
    "}\n",
    "///END SOLUTION"
   ]
  },
  {
   "cell_type": "code",
   "execution_count": 23,
   "id": "f1529f96",
   "metadata": {
    "nbgrader": {
     "grade": true,
     "grade_id": "cell-0a0eb198502b6bd0",
     "locked": true,
     "points": 0,
     "schema_version": 3,
     "solution": false,
     "task": false
    }
   },
   "outputs": [],
   "source": [
    "ASSERT(cotes_triangle(3,4,5));\n",
    "ASSERT(!cotes_triangle(0,4,5));\n",
    "ASSERT(!cotes_triangle(5,7,13));"
   ]
  }
 ],
 "metadata": {
  "celltoolbar": "Create Assignment",
  "kernelspec": {
   "display_name": "C++11",
   "language": "C++11",
   "name": "xcpp11"
  },
  "language_info": {
   "codemirror_mode": "text/x-c++src",
   "file_extension": ".cpp",
   "mimetype": "text/x-c++src",
   "name": "c++",
   "version": "11"
  }
 },
 "nbformat": 4,
 "nbformat_minor": 5
}
