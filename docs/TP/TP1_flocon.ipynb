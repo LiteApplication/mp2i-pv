{
 "cells": [
  {
   "cell_type": "markdown",
   "id": "a6aedcbb",
   "metadata": {
    "deletable": false,
    "editable": false,
    "nbgrader": {
     "cell_type": "markdown",
     "checksum": "b70fb27d515b33af569e19ca57531b6e",
     "grade": false,
     "grade_id": "cell-dfcd7199489b7abc",
     "locked": true,
     "schema_version": 3,
     "solution": false,
     "task": false
    }
   },
   "source": [
    "# Informatique - MP2I\n",
    "---"
   ]
  },
  {
   "cell_type": "markdown",
   "id": "f2996c2e",
   "metadata": {
    "deletable": false,
    "editable": false,
    "nbgrader": {
     "cell_type": "markdown",
     "checksum": "348d71384f3c53cfabc6078ff0e7f90c",
     "grade": false,
     "grade_id": "cell-5679a9306cd43801",
     "locked": true,
     "schema_version": 3,
     "solution": false,
     "task": false
    }
   },
   "source": [
    "# TP1 : bases du C\n",
    "## flocon : pour ceux qui débutent en programmation\n",
    "\n",
    "Ce TP est constitué de deux parties : une première partie sur la représentation (mêmes questions que dans l'énoncé niveau première étoile) des nombres en machine et une deuxième partie dédiée à la programmation."
   ]
  },
  {
   "cell_type": "code",
   "execution_count": null,
   "id": "aa0fde03",
   "metadata": {
    "deletable": false,
    "editable": false,
    "nbgrader": {
     "cell_type": "code",
     "checksum": "42c5e2e23c6eacfa1a6eb4ec308cd134",
     "grade": false,
     "grade_id": "cell-6e108eb163b85379",
     "locked": true,
     "schema_version": 3,
     "solution": false,
     "task": false
    }
   },
   "outputs": [],
   "source": [
    "/* cette cellule doit être exécutée pour les tests des autres cellules\n",
    "   attention : c'est du C++ */\n",
    "#ifndef ASSERT\n",
    "#define ASSERT(C) if ( !(C) ) { throw std::runtime_error(\"\\x1b[48;5;224mTest failed: \"#C); }\n",
    "#endif"
   ]
  },
  {
   "cell_type": "markdown",
   "id": "0c588a87",
   "metadata": {
    "deletable": false,
    "editable": false,
    "nbgrader": {
     "cell_type": "markdown",
     "checksum": "da1dbd1c8287adecceb86aec1cdced94",
     "grade": false,
     "grade_id": "cell-6a77d7202d4a1d7a",
     "locked": true,
     "schema_version": 3,
     "solution": false,
     "task": false
    }
   },
   "source": [
    "## Partie 1 : représentation des nombres en machine\n",
    "\n",
    "Il s'agit ici d'une suite de questions auxquelles vous devez répondre après avoir réfléchi sur un papier. Je ne vous demande pas forcément une valeur, vous pouvez donner la réponse sous forme de formule mathématique.\n",
    "\n",
    "Pour que ça ait l'air joli, vous pouvez écrire $2 * 3^4$ de la manière suivante : `$2 * 3^4$` (ce n'est pas du `C`, c'est du `LaTeX`; attention : l'opérateur `^` existe en `C` mais est sans rapport avec les puissances !)."
   ]
  },
  {
   "cell_type": "markdown",
   "id": "20ecb959",
   "metadata": {
    "deletable": false,
    "editable": false,
    "nbgrader": {
     "cell_type": "markdown",
     "checksum": "3b6538045efff63b8045de7dc415caea",
     "grade": false,
     "grade_id": "cell-e3804b805f1aa0a5",
     "locked": true,
     "schema_version": 3,
     "solution": false,
     "task": false
    }
   },
   "source": [
    "Questions :\n",
    "\n",
    "1. Combien de valeurs différentes peut-on coder sur 4 bits ?\n",
    "1. Combien de valeurs différentes peut-on coder sur $n$ bits ?\n",
    "1. Combien de fichiers différents peut-on écrire sur 15437 octets ?"
   ]
  },
  {
   "cell_type": "code",
   "execution_count": null,
   "id": "abc26f16",
   "metadata": {
    "deletable": false,
    "nbgrader": {
     "cell_type": "code",
     "checksum": "75e86d61bac3777ab5204a01c027b40a",
     "grade": true,
     "grade_id": "cell-56fde803251ace0d",
     "locked": false,
     "points": 1,
     "schema_version": 3,
     "solution": true,
     "task": false
    }
   },
   "outputs": [],
   "source": [
    "// écrire le code ici\n",
    "throw new Error();//instruction C++, n'existe pas en C, à supprimer une fois le code écrit"
   ]
  },
  {
   "cell_type": "markdown",
   "id": "ab9b10c1",
   "metadata": {
    "deletable": false,
    "editable": false,
    "nbgrader": {
     "cell_type": "markdown",
     "checksum": "44c05e8f61803c3a640fb42651671fd1",
     "grade": false,
     "grade_id": "cell-e08bc683cd96b3f1",
     "locked": true,
     "schema_version": 3,
     "solution": false,
     "task": false
    }
   },
   "source": [
    "4. On veut créer un type qui permet de code les lettres minuscules de `a` à `z`. Quel est le nombre minimal de bits nécessaires pour cela ?\n",
    "4. Et si on veut aussi code les lettres majuscules de `A` à `Z` ?\n",
    "4. Et avec les chiffres de `0` à `9` ?"
   ]
  },
  {
   "cell_type": "markdown",
   "id": "d795145a",
   "metadata": {
    "deletable": false,
    "nbgrader": {
     "cell_type": "markdown",
     "checksum": "dddb87f74cc21b11bfaa8b7c5bdd6c0b",
     "grade": true,
     "grade_id": "cell-fdc1ea9450113da8",
     "locked": false,
     "points": 1,
     "schema_version": 3,
     "solution": true,
     "task": false
    }
   },
   "source": [
    "Mettez votre réponse dans cette cellule."
   ]
  },
  {
   "cell_type": "markdown",
   "id": "7e1c6b65",
   "metadata": {
    "deletable": false,
    "editable": false,
    "nbgrader": {
     "cell_type": "markdown",
     "checksum": "ff3c5f4c51f7494dd0df1517a9c0461e",
     "grade": false,
     "grade_id": "cell-c131fb272b26d499",
     "locked": true,
     "schema_version": 3,
     "solution": false,
     "task": false
    }
   },
   "source": [
    "7. Donner la représentation en complément à 2 sur 8 bits des entiers suivants : 5, 9, -18, -48, -128, 129."
   ]
  },
  {
   "cell_type": "markdown",
   "id": "9373622f",
   "metadata": {
    "deletable": false,
    "nbgrader": {
     "cell_type": "markdown",
     "checksum": "4f1b97cbfce9b4270cafccb8dc688e49",
     "grade": true,
     "grade_id": "cell-d3aff44539b2c854",
     "locked": false,
     "points": 1,
     "schema_version": 3,
     "solution": true,
     "task": false
    }
   },
   "source": [
    "Mettez votre réponse dans cette cellule."
   ]
  },
  {
   "cell_type": "markdown",
   "id": "eee2f0e9",
   "metadata": {
    "deletable": false,
    "editable": false,
    "nbgrader": {
     "cell_type": "markdown",
     "checksum": "e82d0e62c657f5c4475ce0ab2f449bfe",
     "grade": false,
     "grade_id": "cell-ff825c1cdf197bf1",
     "locked": true,
     "schema_version": 3,
     "solution": false,
     "task": false
    }
   },
   "source": [
    "## Partie 2 : premières fonctions\n",
    "\n",
    "Dans cette partie, on vous demande de programmer quelques fonctions simples."
   ]
  },
  {
   "cell_type": "code",
   "execution_count": null,
   "id": "04ef874c",
   "metadata": {},
   "outputs": [],
   "source": [
    "/* cette cellule doit être exécutée pour les tests des autres cellules\n",
    "   attention : c'est du C++ */\n",
    "#ifndef ASSERT\n",
    "#define ASSERT(C) if ( !(C) ) { throw std::runtime_error(\"\\x1b[48;5;224mTest failed: \"#C); }\n",
    "#endif"
   ]
  },
  {
   "cell_type": "markdown",
   "id": "64df491a",
   "metadata": {
    "deletable": false,
    "editable": false,
    "nbgrader": {
     "cell_type": "markdown",
     "checksum": "ed4cc7f7eac0bf37e2664b9e5a766769",
     "grade": false,
     "grade_id": "cell-6bac01e943642c04",
     "locked": true,
     "schema_version": 3,
     "solution": false,
     "task": false
    }
   },
   "source": [
    "Écrire une fonction `aire_rectangle` qui prend en argument deux nombres à virgule flottante représentant la largeur et la longueur d'un rectangle et renvoie l'air de ce rectangle."
   ]
  },
  {
   "cell_type": "code",
   "execution_count": null,
   "id": "810ad02e",
   "metadata": {
    "deletable": false,
    "nbgrader": {
     "cell_type": "code",
     "checksum": "140c9895e456cabaefb10abcae5aef50",
     "grade": false,
     "grade_id": "cell-c6c91953bca17e82",
     "locked": false,
     "schema_version": 3,
     "solution": true,
     "task": false
    }
   },
   "outputs": [],
   "source": [
    "// écrire le code ici\n",
    "throw new Error();//instruction C++, n'existe pas en C, à supprimer une fois le code écrit"
   ]
  },
  {
   "cell_type": "code",
   "execution_count": null,
   "id": "e2b9f83f",
   "metadata": {
    "deletable": false,
    "editable": false,
    "nbgrader": {
     "cell_type": "code",
     "checksum": "e2a696e420a3ef387544961ff9031f14",
     "grade": true,
     "grade_id": "cell-23ea8defe7c8fc30",
     "locked": true,
     "points": 1,
     "schema_version": 3,
     "solution": false,
     "task": false
    }
   },
   "outputs": [],
   "source": [
    "// les lignes qui suivent ne sont pas correctes en C, hors du noyau xeus-cling de jupyter, elles n'ont pas de sens\n",
    "\n",
    "#include <math.h>\n",
    "double epsilon = 0.0001;\n",
    "\n",
    "ASSERT(fabs(aire_rectangle(0,7)) < epsilon);\n",
    "ASSERT(fabs(aire_rectangle(3.4,5.2) - 17.68) < epsilon)"
   ]
  },
  {
   "cell_type": "markdown",
   "id": "3edca7c8",
   "metadata": {
    "deletable": false,
    "editable": false,
    "nbgrader": {
     "cell_type": "markdown",
     "checksum": "9f071aadad1149a94edb4f8a1e3f4c6c",
     "grade": false,
     "grade_id": "cell-40d07f8555bb86f3",
     "locked": true,
     "schema_version": 3,
     "solution": false,
     "task": false
    }
   },
   "source": [
    "Écrire une fonction `hypothenuse` qui prend en argument deux entiers représentant les longueurs des deux côtés les plus courts d'un triangle rectangle et renvoie la longueur approchée du troisième côté. Vous pouvez utiliser la fonction `sqrt` pour le calcule de la racine carrée."
   ]
  },
  {
   "cell_type": "code",
   "execution_count": null,
   "id": "4bbf5691",
   "metadata": {
    "deletable": false,
    "nbgrader": {
     "cell_type": "code",
     "checksum": "111d85ea1b2df9708770051dc4f70d3f",
     "grade": false,
     "grade_id": "cell-8a2c8e038b150234",
     "locked": false,
     "schema_version": 3,
     "solution": true,
     "task": false
    }
   },
   "outputs": [],
   "source": [
    "#include <math.h>  //cette ligne permet l'utilisation de sqrt\n",
    "\n",
    "// écrire le code ici\n",
    "throw new Error();//instruction C++, n'existe pas en C, à supprimer une fois le code écrit"
   ]
  },
  {
   "cell_type": "code",
   "execution_count": null,
   "id": "d1de5c16",
   "metadata": {
    "deletable": false,
    "editable": false,
    "nbgrader": {
     "cell_type": "code",
     "checksum": "f04f20df2cccdd40230e365da4e4f22a",
     "grade": true,
     "grade_id": "cell-5b34395601754b71",
     "locked": true,
     "points": 0,
     "schema_version": 3,
     "solution": false,
     "task": false
    }
   },
   "outputs": [],
   "source": [
    "// les lignes qui suivent ne sont pas correctes en C, hors du noyau xeus-cling de jupyter, elles n'ont pas de sens\n",
    "#include <math.h>\n",
    "double epsilon = 0.0001;\n",
    "\n",
    "ASSERT(fabs(hypothenuse(3,4) - 5) < epsilon);\n",
    "ASSERT(fabs(hypothenuse(7,9) - 11.401754) < epsilon);"
   ]
  },
  {
   "cell_type": "markdown",
   "id": "7f442626",
   "metadata": {
    "deletable": false,
    "editable": false,
    "nbgrader": {
     "cell_type": "markdown",
     "checksum": "7624e49e3ea54e9b086237ec78b0a434",
     "grade": false,
     "grade_id": "cell-fe3eef5fc9e28e32",
     "locked": true,
     "schema_version": 3,
     "solution": false,
     "task": false
    }
   },
   "source": [
    "Écrire une fonction `cotes_triangle` qui prend en argument trois nombres à virgule flottante et teste s'ils peuvent représenter les longueurs des côtés d'un triangle. (Rappel : cela revient à tester si chaque longueur est inférieure à la somme des deux autres longueurs.)"
   ]
  },
  {
   "cell_type": "code",
   "execution_count": null,
   "id": "2cf17f92",
   "metadata": {
    "deletable": false,
    "nbgrader": {
     "cell_type": "code",
     "checksum": "a083658e66f3ea13f18275b978dd6955",
     "grade": false,
     "grade_id": "cell-6d7f2a71a4a4fe32",
     "locked": false,
     "schema_version": 3,
     "solution": true,
     "task": false
    }
   },
   "outputs": [],
   "source": [
    "#include <stdbool.h>\n",
    "\n",
    "// écrire le code ici\n",
    "throw new Error();//instruction C++, n'existe pas en C, à supprimer une fois le code écrit"
   ]
  },
  {
   "cell_type": "code",
   "execution_count": null,
   "id": "f1529f96",
   "metadata": {
    "deletable": false,
    "editable": false,
    "nbgrader": {
     "cell_type": "code",
     "checksum": "708528556a9003d90f763b536b1fd111",
     "grade": true,
     "grade_id": "cell-0a0eb198502b6bd0",
     "locked": true,
     "points": 0,
     "schema_version": 3,
     "solution": false,
     "task": false
    }
   },
   "outputs": [],
   "source": [
    "ASSERT(cotes_triangle(3,4,5));\n",
    "ASSERT(!cotes_triangle(0,4,5));\n",
    "ASSERT(!cotes_triangle(5,7,13));"
   ]
  }
 ],
 "metadata": {
  "kernelspec": {
   "display_name": "C++11",
   "language": "C++11",
   "name": "xcpp11"
  },
  "language_info": {
   "codemirror_mode": "text/x-c++src",
   "file_extension": ".cpp",
   "mimetype": "text/x-c++src",
   "name": "c++",
   "version": "11"
  }
 },
 "nbformat": 4,
 "nbformat_minor": 5
}
