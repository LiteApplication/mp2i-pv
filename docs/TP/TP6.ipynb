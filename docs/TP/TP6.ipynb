{
 "cells": [
  {
   "cell_type": "markdown",
   "id": "947fe4de",
   "metadata": {
    "deletable": false,
    "editable": false,
    "nbgrader": {
     "cell_type": "markdown",
     "checksum": "b70fb27d515b33af569e19ca57531b6e",
     "grade": false,
     "grade_id": "cell-dfcd7199489b7abc",
     "locked": true,
     "schema_version": 3,
     "solution": false,
     "task": false
    }
   },
   "source": [
    "# Informatique - MP2I\n",
    "---"
   ]
  },
  {
   "cell_type": "markdown",
   "id": "49b0ccc8",
   "metadata": {
    "deletable": false,
    "editable": false,
    "nbgrader": {
     "cell_type": "markdown",
     "checksum": "f4b4556daa9c2aaddde1acea8ba5f739",
     "grade": false,
     "grade_id": "cell-70afd4b9d7e24761",
     "locked": true,
     "schema_version": 3,
     "solution": false,
     "task": false
    }
   },
   "source": [
    "# TP6 : Vol d'oiseaux (version simplifiée)\n",
    "## flocon : pour ceux qui débutent en programmation"
   ]
  },
  {
   "cell_type": "code",
   "execution_count": null,
   "id": "39eca94c",
   "metadata": {
    "deletable": false,
    "editable": false,
    "nbgrader": {
     "cell_type": "code",
     "checksum": "abd6f6297a0de7127fb05ae5245bfeb8",
     "grade": false,
     "grade_id": "cell-a2ff648494b21cc8",
     "locked": true,
     "schema_version": 3,
     "solution": false,
     "task": false
    }
   },
   "outputs": [],
   "source": [
    "/* cette cellule doit être exécutée pour les tests des autres cellules\n",
    "   attention : c'est du C++ */\n",
    "#ifndef ASSERT\n",
    "#define ASSERT(C) if ( !(C) ) { throw std::runtime_error(\"\\x1b[48;5;224mTest failed: \"#C); }\n",
    "#endif"
   ]
  },
  {
   "cell_type": "markdown",
   "id": "cabed2f7",
   "metadata": {
    "deletable": false,
    "editable": false,
    "nbgrader": {
     "cell_type": "markdown",
     "checksum": "b0b8b87038dc37b8c11d830d817d0d63",
     "grade": false,
     "grade_id": "cell-46cf7c18930c5aa4",
     "locked": true,
     "schema_version": 3,
     "solution": false,
     "task": false
    }
   },
   "source": [
    "### Exo 1 : Hasard\n",
    "Écrire et documenter une fonction `hasard` qui tire un entier positif ou nul au hasard, majoré par une borne donnée en premier paramètre, et ayant comme deuxième paramètre une valeur à éviter.  \n",
    "\n",
    "Pour rappel, la fonction `random()` (déclaré dans le fichier d'en-tête `stdlib.h`) renvoie un entier entre 0 et une constante `RAND_MAX` (également définie dans le fichier d'en-tête `stdlib.h`)."
   ]
  },
  {
   "cell_type": "code",
   "execution_count": null,
   "id": "101a400b",
   "metadata": {
    "deletable": false,
    "nbgrader": {
     "cell_type": "code",
     "checksum": "257da2d0530fd76f435e673674b3107d",
     "grade": false,
     "grade_id": "cell-8c139a03ecf2f56b",
     "locked": false,
     "schema_version": 3,
     "solution": true,
     "task": false
    }
   },
   "outputs": [],
   "source": [
    "// écrire le code ici\n",
    "throw new Error();//instruction C++, n'existe pas en C, à supprimer une fois le code écrit"
   ]
  },
  {
   "cell_type": "code",
   "execution_count": null,
   "id": "c90cf9cd",
   "metadata": {
    "deletable": false,
    "editable": false,
    "nbgrader": {
     "cell_type": "code",
     "checksum": "35be6ea6bfa42e6efb7e776689b35978",
     "grade": true,
     "grade_id": "cell-a19d811aedffc469",
     "locked": true,
     "points": 2,
     "schema_version": 3,
     "solution": false,
     "task": false
    }
   },
   "outputs": [],
   "source": [
    "int n = random()%30;\n",
    "for(int i=0; i<50; i=i+1){\n",
    "    ASSERT(hasard(30, n) != n);\n",
    "}"
   ]
  },
  {
   "cell_type": "markdown",
   "id": "b0509f4e",
   "metadata": {
    "deletable": false,
    "editable": false,
    "nbgrader": {
     "cell_type": "markdown",
     "checksum": "03ccd073f5f9925887a195fa2dbed31d",
     "grade": false,
     "grade_id": "cell-dca00107678ab956",
     "locked": true,
     "schema_version": 3,
     "solution": false,
     "task": false
    }
   },
   "source": [
    "### Exo 2 : Vol d'oiseaux (version simplifiée)\n",
    "On désire modéliser le vol d'une nuée d'oiseaux. Pour cela, on modélise chaque oiseau comme un point, et on lui attribue un ami et un ennemi:"
   ]
  },
  {
   "cell_type": "code",
   "execution_count": null,
   "id": "d8ed8107",
   "metadata": {
    "deletable": false,
    "editable": false,
    "nbgrader": {
     "cell_type": "code",
     "checksum": "1cce2b1b4a707291b5ea98be23b04e3c",
     "grade": false,
     "grade_id": "cell-d4093f8c40a1e25a",
     "locked": true,
     "schema_version": 3,
     "solution": false,
     "task": false
    }
   },
   "outputs": [],
   "source": [
    "struct oiseau {\n",
    "    double x, y; // entre 0 et 1 pour être visible\n",
    "    int ami;     // indice de l'ami dans la nuee (voir ci-dessous)\n",
    "    int ennemi;  // indice de l'ennemi dans la nuee\n",
    "};"
   ]
  },
  {
   "cell_type": "markdown",
   "id": "051d0cbf",
   "metadata": {
    "deletable": false,
    "editable": false,
    "nbgrader": {
     "cell_type": "markdown",
     "checksum": "369421843a22fdcabc865eb3240f0519",
     "grade": false,
     "grade_id": "cell-72800128e5714ba5",
     "locked": true,
     "schema_version": 3,
     "solution": false,
     "task": false
    }
   },
   "source": [
    "Une nuée d'oiseaux est un ensemble d'oiseaux. On définit le type structuré:"
   ]
  },
  {
   "cell_type": "code",
   "execution_count": null,
   "id": "2b18474c",
   "metadata": {
    "deletable": false,
    "editable": false,
    "nbgrader": {
     "cell_type": "code",
     "checksum": "5b00556e54391ff4dd8ecfe2610a2975",
     "grade": false,
     "grade_id": "cell-a1a342f26b172a56",
     "locked": true,
     "schema_version": 3,
     "solution": false,
     "task": false
    }
   },
   "outputs": [],
   "source": [
    "struct nuee {\n",
    "    int taille; // nombre d'oiseaux\n",
    "    struct oiseau *cui;\n",
    "}"
   ]
  },
  {
   "cell_type": "markdown",
   "id": "55a1df0f",
   "metadata": {
    "deletable": false,
    "editable": false,
    "nbgrader": {
     "cell_type": "markdown",
     "checksum": "c8c15cd9ac7b18ebc3f6214a25e62419",
     "grade": false,
     "grade_id": "cell-b67f55ac9eb442aa",
     "locked": true,
     "schema_version": 3,
     "solution": false,
     "task": false
    }
   },
   "source": [
    "À chaque étape de vol, chaque oiseau se déplace selon le vecteur\n",
    "$$0.01 * \\vec{u} + 0.05*\\vec{v} -0.03*\\vec{w}\\:,$$ où $\\vec{u}$ est le vecteur unitaire de l'oiseau vers le point $(0.5, 0.5)$, $\\vec{v}$ est le vecteur unitaire de l'oiseau vers son ami et $\\vec{w}$ est le vecteur unitaire de l'oiseau vers son ennemi."
   ]
  },
  {
   "cell_type": "markdown",
   "id": "9bc465b9",
   "metadata": {
    "deletable": false,
    "editable": false,
    "nbgrader": {
     "cell_type": "markdown",
     "checksum": "6507ae85866fa649788204fb10ad79f3",
     "grade": false,
     "grade_id": "cell-0230a35f10e36b2f",
     "locked": true,
     "schema_version": 3,
     "solution": false,
     "task": false
    }
   },
   "source": [
    "1. Écrire et documenter une fonction `deplacement_oiseau` qui prend en paramètre (dans cet ordre) un pointeur sur nuée et deux pointeurs sur oiseau : le premier donne l'oiseau au temps $t$, le deuxième l'oiseau au temps $t+1$ (même ami et même ennemi, mais coordonnées mises à jour selon les règles établies ci-dessus ---si elles dépassent les limites pour être visible ce n'est pas grave)."
   ]
  },
  {
   "cell_type": "code",
   "execution_count": null,
   "id": "fd58a0cb",
   "metadata": {
    "deletable": false,
    "nbgrader": {
     "cell_type": "code",
     "checksum": "d2721a3bd96d5b843b42100582371673",
     "grade": false,
     "grade_id": "cell-f4799d2ff3c7697b",
     "locked": false,
     "schema_version": 3,
     "solution": true,
     "task": false
    }
   },
   "outputs": [],
   "source": [
    "// écrire le code ici\n",
    "throw new Error();//instruction C++, n'existe pas en C, à supprimer une fois le code écrit"
   ]
  },
  {
   "cell_type": "code",
   "execution_count": null,
   "id": "0e49e775",
   "metadata": {
    "deletable": false,
    "editable": false,
    "nbgrader": {
     "cell_type": "code",
     "checksum": "4b4c67691e603466900878850b6eaf42",
     "grade": true,
     "grade_id": "cell-db109c1745e370c5",
     "locked": true,
     "points": 2,
     "schema_version": 3,
     "solution": false,
     "task": false
    }
   },
   "outputs": [],
   "source": [
    "struct nuee nu = { 3, NULL };\n",
    "struct oiseau oi;\n",
    "\n",
    "nu.cui = (struct oiseau *)malloc(3*sizeof(struct oiseau));\n",
    "for(int i=0; i<3; i=i+1){\n",
    "    nu.cui[i].x = .2*i+.1;\n",
    "    nu.cui[i].y = .3*i+.1;\n",
    "    nu.cui[i].ami = (i+2)%3;\n",
    "    nu.cui[i].ennemi = (i+1)%3;\n",
    "}\n",
    "deplacement_oiseau(&nu, &nu.cui[0], &oi);\n",
    "\n",
    "ASSERT(fabs(oi.x-0.11816507) < 0.00001);\n",
    "ASSERT(fabs(oi.y-0.12371207) < 0.00001);"
   ]
  },
  {
   "cell_type": "markdown",
   "id": "4b691605",
   "metadata": {
    "deletable": false,
    "editable": false,
    "nbgrader": {
     "cell_type": "markdown",
     "checksum": "59745cae4b353b82f9a70a9c55aa881c",
     "grade": false,
     "grade_id": "cell-a4d27610d1a13d23",
     "locked": true,
     "schema_version": 3,
     "solution": false,
     "task": false
    }
   },
   "source": [
    "2. Écrire un documenter une fonction `alloue_nuee` qui prend en argument un entier qui est la taille de la nuée et alloue la mémoire nécessaire pour une nouvelle nuee (et renvoie l'adresse de cette nouvelle nuée)."
   ]
  },
  {
   "cell_type": "code",
   "execution_count": null,
   "id": "03bfe22a",
   "metadata": {
    "deletable": false,
    "nbgrader": {
     "cell_type": "code",
     "checksum": "ac8a38e65a16dda11d4124198425fa61",
     "grade": false,
     "grade_id": "cell-5c6bdb72dfe4e409",
     "locked": false,
     "schema_version": 3,
     "solution": true,
     "task": false
    }
   },
   "outputs": [],
   "source": [
    "// écrire le code ici\n",
    "throw new Error();//instruction C++, n'existe pas en C, à supprimer une fois le code écrit"
   ]
  },
  {
   "cell_type": "code",
   "execution_count": null,
   "id": "e640615d",
   "metadata": {
    "deletable": false,
    "editable": false,
    "nbgrader": {
     "cell_type": "code",
     "checksum": "71919e78b8e408bbcdaf70feadb8c796",
     "grade": true,
     "grade_id": "cell-c23794013add130e",
     "locked": true,
     "points": 2,
     "schema_version": 3,
     "solution": false,
     "task": false
    }
   },
   "outputs": [],
   "source": [
    "struct nuee *nu = alloue_nuee(10);\n",
    "ASSERT(nu->taille == 10);\n",
    "free(nu->cui);\n",
    "free(nu);"
   ]
  },
  {
   "cell_type": "markdown",
   "id": "d3120194",
   "metadata": {
    "deletable": false,
    "editable": false,
    "nbgrader": {
     "cell_type": "markdown",
     "checksum": "5e1c0c5f3fda009e6f10d9c2a08c8d4f",
     "grade": false,
     "grade_id": "cell-8c58d3b353333686",
     "locked": true,
     "schema_version": 3,
     "solution": false,
     "task": false
    }
   },
   "source": [
    "3. Écrire une fonction `init_nuee` qui prend en argument un entier qui est la taille de la nuéeet crée la nuée en tirant au hasard les abscisse, ordonnée, ami et ennemi de chaque oiseau (abscisse et ordonnée entre 0 et 1).\n",
    "\n"
   ]
  },
  {
   "cell_type": "code",
   "execution_count": null,
   "id": "bea26597",
   "metadata": {
    "deletable": false,
    "nbgrader": {
     "cell_type": "code",
     "checksum": "4def7198567352c2ad87e9c58fdcccf5",
     "grade": false,
     "grade_id": "cell-add9117f07ed9210",
     "locked": false,
     "schema_version": 3,
     "solution": true,
     "task": false
    }
   },
   "outputs": [],
   "source": [
    "// écrire le code ici\n",
    "throw new Error();//instruction C++, n'existe pas en C, à supprimer une fois le code écrit"
   ]
  },
  {
   "cell_type": "code",
   "execution_count": null,
   "id": "f84b4ff2",
   "metadata": {
    "deletable": false,
    "editable": false,
    "nbgrader": {
     "cell_type": "code",
     "checksum": "745e34fcf4da60ed1d239976c7f6c708",
     "grade": true,
     "grade_id": "cell-0d16a260a762fa09",
     "locked": true,
     "points": 2,
     "schema_version": 3,
     "solution": false,
     "task": false
    }
   },
   "outputs": [],
   "source": [
    "struct nuee *nu = init_nuee(10);\n",
    "ASSERT(nu->cui[0].x>=0 && nu->cui[0].x<=1);\n",
    "ASSERT(nu->cui[9].ami>=0 && nu->cui[9].ami<=8);"
   ]
  },
  {
   "cell_type": "markdown",
   "id": "69e765ea",
   "metadata": {
    "deletable": false,
    "editable": false,
    "nbgrader": {
     "cell_type": "markdown",
     "checksum": "1e761d4662245fe6b71304d20e2c594a",
     "grade": false,
     "grade_id": "cell-dfad46b70ea88728",
     "locked": true,
     "schema_version": 3,
     "solution": false,
     "task": false
    }
   },
   "source": [
    "4. Pour éviter d'effectuer sans arrêt des copies de données, les données liées à une nuée d'oiseau vont en fait alterner entre deux emplacements mémoire de type `struct nuee`. En permanence, l'un correspondra à l'étape qu'on est en train de calculer, tandis que l'autre correspondra à l'étape précédente (et bien sûr ils inverseront leur rôle à chaque changement d'étape). Écrire et documenter une fonction `deplacement` qui prend en argument un pointeur sur une nuée correspondant à l'état actuelle de la nuée, et un second pointeur sur une nuée qui permettra d'écrire les nouvelles coordonnées des oiseaux de la nuée. "
   ]
  },
  {
   "cell_type": "code",
   "execution_count": null,
   "id": "92ba9bca",
   "metadata": {
    "deletable": false,
    "nbgrader": {
     "cell_type": "code",
     "checksum": "d53794a02b9f3897f01122a10644f20c",
     "grade": false,
     "grade_id": "cell-b9f1b350abfcf763",
     "locked": false,
     "schema_version": 3,
     "solution": true,
     "task": false
    }
   },
   "outputs": [],
   "source": [
    "// écrire le code ici\n",
    "throw new Error();//instruction C++, n'existe pas en C, à supprimer une fois le code écrit"
   ]
  },
  {
   "cell_type": "code",
   "execution_count": null,
   "id": "fb0fb146",
   "metadata": {
    "deletable": false,
    "editable": false,
    "nbgrader": {
     "cell_type": "code",
     "checksum": "f6a5bf7ee5c5a12e2e35a898f62b2e27",
     "grade": true,
     "grade_id": "cell-a54f2680405e7821",
     "locked": true,
     "points": 2,
     "schema_version": 3,
     "solution": false,
     "task": false
    }
   },
   "outputs": [],
   "source": [
    "struct nuee nu = { 3, NULL }, *future;\n",
    "\n",
    "nu.cui = (struct oiseau *)malloc(3*sizeof(struct oiseau));\n",
    "for(int i=0; i<3; i=i+1){\n",
    "    nu.cui[i].x = .2*i+.1;\n",
    "    nu.cui[i].y = .3*i+.1;\n",
    "    nu.cui[i].ami = (i+2)%3;\n",
    "    nu.cui[i].ennemi = (i+1)%3;\n",
    "}\n",
    "\n",
    "future = alloue_nuee(3);\n",
    "\n",
    "deplacement(&nu, future);\n",
    "\n",
    "ASSERT(fabs(future->cui[0].x-0.11816507) < 0.00001);\n",
    "ASSERT(fabs(future->cui[0].y-0.12371207) < 0.00001);\n",
    "ASSERT(fabs(future->cui[2].x-0.48890600) < 0.00001);\n",
    "ASSERT(fabs(future->cui[2].y-0.67335899) < 0.00001);\n",
    "free(future);"
   ]
  },
  {
   "cell_type": "markdown",
   "id": "5b748ba3",
   "metadata": {
    "deletable": false,
    "editable": false,
    "nbgrader": {
     "cell_type": "markdown",
     "checksum": "439314e837aabdf829b5e23e8ec12db3",
     "grade": false,
     "grade_id": "cell-432eea03fdf70dfa",
     "locked": true,
     "schema_version": 3,
     "solution": false,
     "task": false
    }
   },
   "source": [
    "5. De temps en temps, pour relancer la dynamique de la nuée, il faut modifier les ami et ennemi de chaque oiseau. Écrire et documenter une fonction `change_amities` qui a comme paramètre un pointeur sur nuee et retire au hasard les ami et ennemi de chaque oiseau."
   ]
  },
  {
   "cell_type": "code",
   "execution_count": null,
   "id": "e8f8d578",
   "metadata": {
    "deletable": false,
    "nbgrader": {
     "cell_type": "code",
     "checksum": "c9b991374949d1332823133c5fdda524",
     "grade": false,
     "grade_id": "cell-4d923d68209fc001",
     "locked": false,
     "schema_version": 3,
     "solution": true,
     "task": false
    }
   },
   "outputs": [],
   "source": [
    "// écrire le code ici\n",
    "throw new Error();//instruction C++, n'existe pas en C, à supprimer une fois le code écrit"
   ]
  },
  {
   "cell_type": "code",
   "execution_count": null,
   "id": "50a48ea2",
   "metadata": {
    "deletable": false,
    "editable": false,
    "nbgrader": {
     "cell_type": "code",
     "checksum": "af6f32636519e3fc344cfd35fa0c8248",
     "grade": true,
     "grade_id": "cell-18293c95b9826802",
     "locked": true,
     "points": 2,
     "schema_version": 3,
     "solution": false,
     "task": false
    }
   },
   "outputs": [],
   "source": [
    "struct nuee nu = { 10, NULL };\n",
    "bool id = true;\n",
    "nu.cui = (struct oiseau *)malloc(10*sizeof(struct oiseau));\n",
    "for(int i=0; i<10; i=i+1){\n",
    "    nu.cui[i].x = .2*i+.1;\n",
    "    nu.cui[i].y = .3*i+.1;\n",
    "    nu.cui[i].ami = (i+2)%10;\n",
    "    nu.cui[i].ennemi = (i+1)%10;\n",
    "}\n",
    "change_amities(&nu);\n",
    "for(int i=0; i<nu.taille; i=i+1){\n",
    "    id = id && nu.cui[i].ami==(i+2)%3 && nu.cui[i].ennemi==(i+1)%3;\n",
    "}\n",
    "ASSERT(!id);"
   ]
  },
  {
   "cell_type": "markdown",
   "id": "72ba895b",
   "metadata": {
    "deletable": false,
    "editable": false,
    "nbgrader": {
     "cell_type": "markdown",
     "checksum": "221fd6256ebcdcfc77620bb12e914d28",
     "grade": false,
     "grade_id": "cell-0d5960277194e626",
     "locked": true,
     "schema_version": 3,
     "solution": false,
     "task": false
    }
   },
   "source": [
    "6. Pour les affichages, il faut transformer une nuée en image. Écrire et documenter une fonction `image` qui prend en argument un pointeur sur nuee et renvoie un tableau bidimensionnel de booléens de taille 300x300 où une case vaut `false` si et seulement s'il y a un oiseau dedans (n'oubliez pas que les coordonnées visibles des oiseaux sont entre 0 et 1, il faut donc appliquer un coefficient multiplicatif pour se ramener à 0-300)."
   ]
  },
  {
   "cell_type": "code",
   "execution_count": null,
   "id": "0aacdb56",
   "metadata": {
    "deletable": false,
    "nbgrader": {
     "cell_type": "code",
     "checksum": "e8c1d94283da198a549a2ed0d634b7a9",
     "grade": false,
     "grade_id": "cell-e6c5278bb34127b4",
     "locked": false,
     "schema_version": 3,
     "solution": true,
     "task": false
    }
   },
   "outputs": [],
   "source": [
    "// écrire le code ici\n",
    "throw new Error();//instruction C++, n'existe pas en C, à supprimer une fois le code écrit"
   ]
  },
  {
   "cell_type": "code",
   "execution_count": null,
   "id": "825949d5",
   "metadata": {
    "deletable": false,
    "editable": false,
    "nbgrader": {
     "cell_type": "code",
     "checksum": "2ed900afba7af7430d10a051a0569b4f",
     "grade": true,
     "grade_id": "cell-264d62e439f5cade",
     "locked": true,
     "points": 2,
     "schema_version": 3,
     "solution": false,
     "task": false
    }
   },
   "outputs": [],
   "source": [
    "struct nuee nu = { 10, NULL };\n",
    "bool **img;\n",
    "\n",
    "nu.cui = (struct oiseau *)malloc(10*sizeof(struct oiseau));\n",
    "for(int i=0; i<10; i=i+1){\n",
    "    nu.cui[i].x = .05*i+.1;\n",
    "    nu.cui[i].y = .03*i+.1;\n",
    "    nu.cui[i].ami = (i+2)%10;\n",
    "    nu.cui[i].ennemi = (i+1)%10;\n",
    "}\n",
    "img = image(&nu);\n",
    "\n",
    "ASSERT(img[50][100]);\n",
    "ASSERT(!img[120][84]);"
   ]
  },
  {
   "cell_type": "markdown",
   "id": "6b33e586",
   "metadata": {
    "deletable": false,
    "editable": false,
    "nbgrader": {
     "cell_type": "markdown",
     "checksum": "d42ac8436cce258657cd39babacfa198",
     "grade": false,
     "grade_id": "cell-7659834156b3394f",
     "locked": true,
     "schema_version": 3,
     "solution": false,
     "task": false
    }
   },
   "source": [
    "7. Je vous fournis une fonction qui permet de créer un fichier image au format `ppm` à partir d'un tableau bidimensionnel de booléens."
   ]
  },
  {
   "cell_type": "code",
   "execution_count": null,
   "id": "87b1941d",
   "metadata": {
    "deletable": false,
    "editable": false,
    "nbgrader": {
     "cell_type": "code",
     "checksum": "bd93dda6b44ff2d65f1b19ed3ebea34f",
     "grade": false,
     "grade_id": "cell-6bfdab856d720679",
     "locked": true,
     "schema_version": 3,
     "solution": false,
     "task": false
    }
   },
   "outputs": [],
   "source": [
    "/** n : un entier pour le nom de l'image\n",
    " * img : un tableau de booleen tel que sorti par la fonction image, de dimensions largeurxhauteur\n",
    " * sortie : entete écrite dans le fichier serpent-N.ppm, où N est l'entier n sur 3 chiffres\n",
    " */\n",
    "void ecrire_image(int n, bool **img, int largeur, int hauteur){\n",
    "    char fichier[20];\n",
    "    FILE *file;\n",
    "    char couleur[2][7] = {\"1 1 1 \", \"0 0 0 \"};\n",
    "    \n",
    "    sprintf(fichier, \"oiseaux-%03d.ppm\", n);\n",
    "    file = fopen(fichier, \"w\");\n",
    "    fprintf(file, \"P3\\%d %d\\n1\\n\", largeur, hauteur);\n",
    "    for(int j=0; j<hauteur; j=j+1){\n",
    "        for(int i=0; i<largeur; i=i+1){\n",
    "            fprintf(file, \"%s\", couleur[img[j][i]]);\n",
    "        }\n",
    "    }\n",
    "    fclose(file);\n",
    "}"
   ]
  },
  {
   "cell_type": "markdown",
   "id": "d071c389",
   "metadata": {
    "deletable": false,
    "editable": false,
    "nbgrader": {
     "cell_type": "markdown",
     "checksum": "beabf5796fc5d6c1f52cec8520c4ff9b",
     "grade": false,
     "grade_id": "cell-34765a27af33b3d3",
     "locked": true,
     "schema_version": 3,
     "solution": false,
     "task": false
    }
   },
   "source": [
    "Écrire (hors de toutes fonctions, dans la vraie vie, ce serait le `main` de votre programme) ce qu'il faut pour créer plusieurs étapes de déplacement de la nuée et écrire un fichier à chaque fois (en numérotant les fichiers dans l'ordre). Vous pouvez prendre les paramètres suivants:\n",
    "* nombre d'oiseaux : 300\n",
    "* nombre de pas : 200\n",
    "* changement d'ami/ennemi : tous les 30 pas"
   ]
  },
  {
   "cell_type": "code",
   "execution_count": null,
   "id": "273637bb",
   "metadata": {
    "deletable": false,
    "nbgrader": {
     "cell_type": "code",
     "checksum": "8b612037b986ec9d81cdd964884044c1",
     "grade": false,
     "grade_id": "cell-161ed93785661969",
     "locked": false,
     "schema_version": 3,
     "solution": true,
     "task": false
    }
   },
   "outputs": [],
   "source": [
    "// écrire le code ici\n",
    "throw new Error();//instruction C++, n'existe pas en C, à supprimer une fois le code écrit"
   ]
  },
  {
   "cell_type": "code",
   "execution_count": null,
   "id": "e6226f9b",
   "metadata": {
    "deletable": false,
    "editable": false,
    "nbgrader": {
     "cell_type": "code",
     "checksum": "3f124f884bd0b9b431b2b335b89099ae",
     "grade": true,
     "grade_id": "cell-7ab5b4b92834043a",
     "locked": true,
     "points": 2,
     "schema_version": 3,
     "solution": false,
     "task": false
    }
   },
   "outputs": [],
   "source": [
    "ASSERT(true);//je mets ça pour pouvoir vous faire un retour ici"
   ]
  },
  {
   "cell_type": "markdown",
   "id": "71d69137",
   "metadata": {
    "deletable": false,
    "editable": false,
    "nbgrader": {
     "cell_type": "markdown",
     "checksum": "d1d3a0ff671e10df6850feedb03687dd",
     "grade": false,
     "grade_id": "cell-803c0d6e4ad58c07",
     "locked": true,
     "schema_version": 3,
     "solution": false,
     "task": false
    }
   },
   "source": [
    "Les deux cellules suivantes permettent de créer le gif animé et de faire le ménage dans les autres fichiers.  Vous avez ensuite un lien vers votre gif animé. Le mien pour que vous ayez une idée : ![oiseaux_modele.gif](oiseaux_modele.gif)"
   ]
  },
  {
   "cell_type": "code",
   "execution_count": null,
   "id": "5769f3fc",
   "metadata": {
    "deletable": false,
    "editable": false,
    "nbgrader": {
     "cell_type": "code",
     "checksum": "5a641b0c064860db4e47078167e0f9cc",
     "grade": false,
     "grade_id": "cell-8ae4933e99bbbfe2",
     "locked": true,
     "schema_version": 3,
     "solution": false,
     "task": false
    }
   },
   "outputs": [],
   "source": [
    "!convert -delay .1 -loop 0 oiseaux-*.ppm oiseaux.gif  # pour fabriquer le gif animé"
   ]
  },
  {
   "cell_type": "code",
   "execution_count": null,
   "id": "46ac0046",
   "metadata": {
    "deletable": false,
    "editable": false,
    "nbgrader": {
     "cell_type": "code",
     "checksum": "d6094864f0cbc2da962f1aca4a97b0a5",
     "grade": false,
     "grade_id": "cell-594656ba73a965d1",
     "locked": true,
     "schema_version": 3,
     "solution": false,
     "task": false
    }
   },
   "outputs": [],
   "source": [
    "!rm oiseaux-*.ppm  # pour supprimer les images ppm"
   ]
  },
  {
   "cell_type": "markdown",
   "id": "1cec1e1b",
   "metadata": {
    "deletable": false,
    "editable": false,
    "nbgrader": {
     "cell_type": "markdown",
     "checksum": "f2e850a93a27edf7fdb3038f3de069da",
     "grade": false,
     "grade_id": "cell-d016db0902208a9b",
     "locked": true,
     "schema_version": 3,
     "solution": false,
     "task": false
    }
   },
   "source": [
    "[oiseaux.gif](oiseaux.gif)"
   ]
  },
  {
   "cell_type": "markdown",
   "id": "7e986f46",
   "metadata": {
    "deletable": false,
    "editable": false,
    "nbgrader": {
     "cell_type": "markdown",
     "checksum": "5cf836f8bddd9bff563ca9bad23cbbb1",
     "grade": false,
     "grade_id": "cell-803991f817640c84",
     "locked": true,
     "schema_version": 3,
     "solution": false,
     "task": false
    }
   },
   "source": [
    "### Exo 3 : Vol d'oiseau (version plus réaliste)\n",
    "Dans une version plus réaliste, la modification de la position d'un oiseau dépend toujours du vecteur $\\vec{u}$ vers le centre et du vecteur $\\vec{w}$ vers l'ennemi, mais le vecteur $\\vec{v}$ est remplacé par la différence entre le déplacement de l'oiseau au pas précédent et la moyenne de déplacement de ses voisins au pas précédent.\n",
    "Pour garder une complexité raisonnable, la fenêtre est séparée en 10x10 zones carrées (de même taille), et on considère que les voisins d'un oiseau sont les oiseaux présents dans la même zone que lui.\n",
    "\n",
    "À vous de jouer !"
   ]
  }
 ],
 "metadata": {
  "kernelspec": {
   "display_name": "C++11",
   "language": "C++11",
   "name": "xcpp11"
  },
  "language_info": {
   "codemirror_mode": "text/x-c++src",
   "file_extension": ".cpp",
   "mimetype": "text/x-c++src",
   "name": "c++",
   "version": "11"
  }
 },
 "nbformat": 4,
 "nbformat_minor": 5
}
