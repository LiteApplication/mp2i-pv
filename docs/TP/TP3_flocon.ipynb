{
 "cells": [
  {
   "cell_type": "markdown",
   "id": "c4564dc8",
   "metadata": {
    "deletable": false,
    "editable": false,
    "nbgrader": {
     "cell_type": "markdown",
     "checksum": "b70fb27d515b33af569e19ca57531b6e",
     "grade": false,
     "grade_id": "cell-dfcd7199489b7abc",
     "locked": true,
     "schema_version": 3,
     "solution": false,
     "task": false
    }
   },
   "source": [
    "# Informatique - MP2I\n",
    "---"
   ]
  },
  {
   "cell_type": "markdown",
   "id": "00d74c47",
   "metadata": {
    "deletable": false,
    "editable": false,
    "nbgrader": {
     "cell_type": "markdown",
     "checksum": "304bd8bf0341d7fea6e27ae0a9897827",
     "grade": false,
     "grade_id": "cell-20e390f347be8f4a",
     "locked": true,
     "schema_version": 3,
     "solution": false,
     "task": false
    }
   },
   "source": [
    "# TP3 tableaux\n",
    "## flocon : pour ceux qui débutent en programmation"
   ]
  },
  {
   "cell_type": "markdown",
   "id": "3d70e021",
   "metadata": {
    "deletable": false,
    "editable": false,
    "nbgrader": {
     "cell_type": "markdown",
     "checksum": "4172cd421a436de8205fec1b403425b1",
     "grade": false,
     "grade_id": "cell-4dd7e927eee54503",
     "locked": true,
     "schema_version": 3,
     "solution": false,
     "task": false
    }
   },
   "source": [
    "Dans ce TP, nous allons écrire du code en dehors de toute fonction, ce qui n'est pas possible en `C`. Nous profitons des possibilités offertes par le noyau `C++` qui tourne sous `jupyter`. Le but est de vous faire faire des manipulations de base de tableaux."
   ]
  },
  {
   "cell_type": "code",
   "execution_count": null,
   "id": "ae4d7efe",
   "metadata": {
    "deletable": false,
    "editable": false,
    "nbgrader": {
     "cell_type": "code",
     "checksum": "c2b740a7beed081bff874a93572efa89",
     "grade": false,
     "grade_id": "cell-4bb055ea6991eb84",
     "locked": true,
     "schema_version": 3,
     "solution": false,
     "task": false
    }
   },
   "outputs": [],
   "source": [
    "/* cette cellule doit être exécutée pour les tests des autres cellules\n",
    "   attention : c'est du C++ */\n",
    "#ifndef ASSERT\n",
    "#define ASSERT(C) if ( !(C) ) { throw std::runtime_error(\"\\x1b[48;5;224mTest failed: \"#C); }\n",
    "#endif"
   ]
  },
  {
   "cell_type": "markdown",
   "id": "669a1816",
   "metadata": {
    "deletable": false,
    "editable": false,
    "nbgrader": {
     "cell_type": "markdown",
     "checksum": "4cf8711de6a43914ee8bf91af997008d",
     "grade": false,
     "grade_id": "cell-319f44cb326f0795",
     "locked": true,
     "schema_version": 3,
     "solution": false,
     "task": false
    }
   },
   "source": [
    "### Exo 1 : Nombre d'éléments positifs\n",
    "\n",
    "Dans ce qui suit, un tableau d'entiers de taille 250 est déclaré et initialisé. Déclarez une variable `nombres_positifs` et faites en sorte que sa valeur contienne le nombre d'entiers positifs ou nuls du tableau."
   ]
  },
  {
   "cell_type": "code",
   "execution_count": null,
   "id": "ee1f1273",
   "metadata": {
    "deletable": false,
    "nbgrader": {
     "cell_type": "code",
     "checksum": "c11887776d204793831ccc0bed21b7e0",
     "grade": false,
     "grade_id": "cell-b1f0b822f3237d85",
     "locked": false,
     "schema_version": 3,
     "solution": true,
     "task": false
    }
   },
   "outputs": [],
   "source": [
    "//rappel : dans un vrai programme c'est à mettre dans une fonction\n",
    "int t[] = {39, -1, -7, -24, 30, -8, 15, 27, 18, -24, -30, -43, -17, 37, -26, -2, 15, 19, 38, 33, 12, 18, 29, -18, -50, 48, -13, -13, 43, -44, -44, 32, 5, -1, -42, 37, -6, -25, 14, -38, -47, -13, 22, -13, 26, -2, -13, 43, -33, -24, 26, 29, -4, -43, 14, 48, -45, -49, -15, 0, 9, -9, -18, 16, -7, 42, 3, 37, -33, 20, 1, 23, -43, 25, -40, 33, -26, 49, -22, 43, -25, -46, 23, 21, -39, 39, 19, 18, -8, 6, 20, -48, 48, -48, 18, 43, -4, -28, -18, -35, 42, -15, 38, 1, 13, 0, 36, -11, 0, -36, -18, -23, 20, 7, 1, 31, -4, 22, -49, 39, -21, 21, 41, -23, -25, -39, 22, -27, -17, 6, -12, 27, -7, -23, -22, -44, -21, 16, -5, 29, 30, -20, -43, 0, 37, 8, 33, -16, -20, 34, -27, 9, -43, 16, -12, -18, 27, 12, -43, 13, -32, -4, 42, 12, -25, -29, 18, 4, -11, 16, -16, -30, 46, -9, -28, 33, 1, -44, 19, 31, -8, -6, -9, -48, 12, -19, 36, 42, 44, 44, 5, -38, -10, -3, 24, -33, -30, 45, 21, 10, -37, -45, -18, -41, 48, 4, -6, -1, -38, 16, 33, -43, -40, 26, -41, -25, -43, 45, -33, -49, -9, -26, -36, 31, 21, -10, 48, -6, 37, -28, 6, -50, 29, 38, 11, 28, 44, 8, 29, 9, -26, -36, 16, 36, 40, -23, -39, 48, 24, -22};\n",
    "\n",
    "// écrire le code ici\n",
    "throw new Error();//instruction C++, n'existe pas en C, à supprimer une fois le code écrit"
   ]
  },
  {
   "cell_type": "code",
   "execution_count": null,
   "id": "011782c5",
   "metadata": {
    "deletable": false,
    "editable": false,
    "nbgrader": {
     "cell_type": "code",
     "checksum": "e49b6281e1284547cde5c614e893afed",
     "grade": true,
     "grade_id": "cell-51ccdc3c89bf0eb1",
     "locked": true,
     "points": 1,
     "schema_version": 3,
     "solution": false,
     "task": false
    }
   },
   "outputs": [],
   "source": [
    "ASSERT(nombres_positifs == 124);"
   ]
  },
  {
   "cell_type": "markdown",
   "id": "4f7d019e",
   "metadata": {
    "deletable": false,
    "editable": false,
    "nbgrader": {
     "cell_type": "markdown",
     "checksum": "32b4456bcd660a0dea72ca5caea09809",
     "grade": false,
     "grade_id": "cell-970d5d40fb87e57b",
     "locked": true,
     "schema_version": 3,
     "solution": false,
     "task": false
    }
   },
   "source": [
    "### Exo 2 : Somme des éléments d'un tableau\n",
    "\n",
    "Dans ce qui suit, un tableau de `double` de taille 25 est déclaré et initialisé. Déclarez une variable `somme` et faites en sorte que sa valeur soit la somme des éléments du tableau."
   ]
  },
  {
   "cell_type": "code",
   "execution_count": null,
   "id": "2cb7a4c6",
   "metadata": {
    "deletable": false,
    "nbgrader": {
     "cell_type": "code",
     "checksum": "f1443cc54ef9dc158199eaeb3b649e4a",
     "grade": false,
     "grade_id": "cell-cb7fa3edaf8f718a",
     "locked": false,
     "schema_version": 3,
     "solution": true,
     "task": false
    }
   },
   "outputs": [],
   "source": [
    "//rappel : dans un vrai programme c'est à mettre dans une fonction\n",
    "double tab[] = {15.091159, 17.018564, 2.303721, 10.299249, 2.287905, 18.939696, 16.623742, 19.695700, 3.364164, 3.737904, 14.405662, 15.179672, 11.332850, 2.557379, 2.805298, 19.833425, 0.348194, 4.880141, 19.848426, 3.562896, 11.594663, 7.337706, 11.706009, 15.299541, 14.497066};\n",
    "\n",
    "// écrire le code ici\n",
    "throw new Error();//instruction C++, n'existe pas en C, à supprimer une fois le code écrit"
   ]
  },
  {
   "cell_type": "code",
   "execution_count": null,
   "id": "48280f75",
   "metadata": {
    "deletable": false,
    "editable": false,
    "nbgrader": {
     "cell_type": "code",
     "checksum": "e5f8f0bcf0e0808bd2b380bc6eb84629",
     "grade": true,
     "grade_id": "cell-2a2b54dbb4c2898b",
     "locked": true,
     "points": 1,
     "schema_version": 3,
     "solution": false,
     "task": false
    }
   },
   "outputs": [],
   "source": [
    "ASSERT(abs(somme - 264.55073) < 0.0001 );"
   ]
  },
  {
   "cell_type": "markdown",
   "id": "b918cf9d",
   "metadata": {
    "deletable": false,
    "editable": false,
    "nbgrader": {
     "cell_type": "markdown",
     "checksum": "a80e3aca7944b3704c74ef7c67527ba3",
     "grade": false,
     "grade_id": "cell-1db33db041eac86a",
     "locked": true,
     "schema_version": 3,
     "solution": false,
     "task": false
    }
   },
   "source": [
    "### Exo 3 : Recherche d'un élément\n",
    "\n",
    "1. Dans ce qui suit, un tableau d'entiers de taille 500 est déclaré et initialisé. Déclarez deux variables booléennes `trouve_532` et `trouve_212` et faites en sorte que la première vaille vrai si et seulement si 532 apparaît dans le tableau, et la deuxième si et seulement si 212 apparaît, en faisant une seule boucle."
   ]
  },
  {
   "cell_type": "code",
   "execution_count": null,
   "id": "112a6153",
   "metadata": {
    "deletable": false,
    "nbgrader": {
     "cell_type": "code",
     "checksum": "242cafdcff4b1611a6dc2ed58cb62dd7",
     "grade": false,
     "grade_id": "cell-5edcdcbeaa7f95ab",
     "locked": false,
     "schema_version": 3,
     "solution": true,
     "task": false
    }
   },
   "outputs": [],
   "source": [
    "//rappel : dans un vrai programme c'est à mettre dans une fonction\n",
    "int t[] = {4594, 7358, 6959, 7710, 2090, 1442, 2712, 6598, 4694, 9727, 3040, 7515, 4478, 4427, 5218, 6053, 8873, 4516, 2904, 2743, 9017, 4148, 6223, 6408, 9466, 8821, 711, 5124, 6691, 3892, 8749, 1285, 7602, 2060, 5347, 9693, 3502, 8060, 6291, 4548, 7787, 9331, 8415, 8618, 110, 3634, 4671, 5335, 4502, 3927, 8078, 3519, 8076, 653, 6279, 3894, 5826, 6990, 5371, 2517, 883, 4120, 154, 8485, 2532, 5501, 4530, 2386, 3561, 821, 6934, 7701, 6504, 1701, 6319, 6614, 5335, 7342, 8301, 9837, 1270, 2731, 9708, 9346, 3384, 5987, 3240, 9210, 9330, 8611, 8079, 6565, 9083, 8233, 1402, 1615, 3735, 5933, 4001, 7296, 3106, 7287, 1349, 9611, 8989, 7668, 2577, 676, 5011, 879, 514, 2633, 3610, 222, 1979, 6995, 2562, 1571, 2557, 8244, 6535, 637, 4809, 5618, 8870, 6211, 3586, 2605, 8496, 3939, 6254, 1603, 1227, 7603, 7566, 6568, 1624, 143, 7244, 2987, 1022, 4110, 5620, 985, 685, 3951, 4332, 9599, 1874, 6889, 7843, 8409, 3878, 2652, 380, 2749, 5215, 3966, 1706, 64, 7905, 4312, 1667, 5484, 8268, 9233, 8404, 9892, 5728, 2001, 9231, 3103, 2463, 1203, 4088, 3148, 5154, 8420, 9099, 3380, 1661, 6942, 1790, 5540, 5946, 2170, 8289, 1162, 2488, 6347, 7578, 6745, 660, 9245, 8582, 8928, 4830, 6986, 5172, 558, 5339, 4403, 13, 7803, 1958, 4101, 7303, 3464, 8873, 6403, 6844, 535, 9697, 8634, 6075, 5644, 804, 716, 3158, 9644, 3415, 736, 6390, 4075, 9981, 4972, 3003, 1163, 1958, 4527, 8073, 3650, 8930, 8087, 1453, 7240, 8540, 5108, 704, 7414, 7863, 7549, 7949, 7561, 6183, 376, 3205, 3340, 7444, 6363, 2984, 859, 7099, 5726, 1287, 3432, 698, 4290, 947, 9009, 5170, 9020, 2659, 4100, 3459, 464, 1341, 2000, 5572, 8397, 9414, 9788, 5946, 3715, 7349, 8482, 443, 554, 8174, 7887, 6917, 1158, 5098, 368, 6885, 6385, 152, 3935, 7028, 1099, 2944, 2198, 6471, 5603, 2650, 9931, 2419, 343, 8283, 4344, 8741, 4049, 4132, 4687, 7764, 1481, 9521, 4559, 2035, 7695, 8798, 5304, 5206, 3896, 2024, 2091, 6634, 2176, 2378, 3662, 3275, 5323, 5860, 6098, 7278, 8510, 6029, 9698, 5206, 664, 4042, 3947, 4713, 8174, 4986, 8829, 6007, 4508, 3388, 8042, 2203, 2186, 9698, 7409, 2435, 1722, 5852, 9069, 250, 8231, 2731, 9877, 3554, 4943, 5975, 7184, 9805, 8357, 6882, 5011, 9021, 7276, 8958, 3735, 5450, 297, 2564, 1457, 4805, 2305, 5851, 3360, 843, 1901, 770, 3278, 9975, 2974, 8699, 225, 1205, 7782, 6454, 1111, 2725, 2430, 8296, 8883, 7139, 1530, 3894, 6160, 8807, 9205, 6247, 609, 9502, 5164, 8419, 659, 7469, 622, 4019, 4664, 2524, 1141, 7943, 2499, 4116, 2994, 9077, 1673, 777, 5531, 9137, 9854, 4313, 3785, 8737, 1452, 5315, 2632, 7613, 474, 8189, 212, 1084, 4043, 5376, 5855, 4702, 2845, 6477, 5073, 3862, 9001, 6215, 8157, 7853, 6683, 1151, 3282, 8356, 1928, 5165, 3845, 1783, 9479, 7630, 520, 931, 9298, 9504, 4896, 9772, 7693, 5109, 7208, 8088, 6837, 3063, 2790, 6035, 5893, 7864, 9897, 1246, 431, 8054, 9099, 7114, 9205, 8733, 1822, 7486, 3899, 5668, 5621, 3378, 9650, 2493, 661, 8948, 1998, 1910, 8721, 6043, 3371, 5929, 4132, 208, 5345, 3274, 6243, 1238, 7490, 2492, 2484, 7921, 546};\n",
    "\n",
    "// écrire le code ici\n",
    "throw new Error();//instruction C++, n'existe pas en C, à supprimer une fois le code écrit"
   ]
  },
  {
   "cell_type": "code",
   "execution_count": null,
   "id": "63d82237",
   "metadata": {
    "deletable": false,
    "editable": false,
    "nbgrader": {
     "cell_type": "code",
     "checksum": "e9bd2b21d2a0eb4388f57440d1d0bc24",
     "grade": true,
     "grade_id": "cell-24e27df117aae648",
     "locked": true,
     "points": 1,
     "schema_version": 3,
     "solution": false,
     "task": false
    }
   },
   "outputs": [],
   "source": [
    "ASSERT(not trouve_532);\n",
    "ASSERT(trouve_212);"
   ]
  },
  {
   "cell_type": "markdown",
   "id": "17ee1626",
   "metadata": {
    "deletable": false,
    "editable": false,
    "nbgrader": {
     "cell_type": "markdown",
     "checksum": "29584e0d249c77c6d8d603f2930e9cfd",
     "grade": false,
     "grade_id": "cell-98ac434f326ca4b7",
     "locked": true,
     "schema_version": 3,
     "solution": false,
     "task": false
    }
   },
   "source": [
    "L'instruction `break` permet de sortir de la boucle dans laquelle elle est exécutée. Par exemple :"
   ]
  },
  {
   "cell_type": "code",
   "execution_count": null,
   "id": "6028c805",
   "metadata": {
    "deletable": false,
    "editable": false,
    "nbgrader": {
     "cell_type": "code",
     "checksum": "a2dd7782180a07b14f2f65737c2ff7d8",
     "grade": false,
     "grade_id": "cell-540333868617452f",
     "locked": true,
     "schema_version": 3,
     "solution": false,
     "task": false
    }
   },
   "outputs": [],
   "source": [
    "//rappel : dans un vrai programme c'est à mettre dans une fonction\n",
    "int i;\n",
    "for(i = 0; i<53; i = i+1){\n",
    "    if(i == 27){\n",
    "        break;\n",
    "    }\n",
    "}\n",
    "printf(\"valeur de i à la sortie de la boucle : %d\\n\", i);"
   ]
  },
  {
   "cell_type": "markdown",
   "id": "005c0899",
   "metadata": {
    "deletable": false,
    "editable": false,
    "nbgrader": {
     "cell_type": "markdown",
     "checksum": "e112529e6d5a1d7981147fd84601bc89",
     "grade": false,
     "grade_id": "cell-4314032674a78444",
     "locked": true,
     "schema_version": 3,
     "solution": false,
     "task": false
    }
   },
   "source": [
    "Reprenez le bout de code écrit pour la recherche d'un élément. Cherchez maintenant les éléments 212 et 431 (en donnant une valeur aux variables `trouve_212` et `trouve_431`) en minimisant le nombre d'itérations dans la boucle."
   ]
  },
  {
   "cell_type": "code",
   "execution_count": null,
   "id": "e1993533",
   "metadata": {
    "deletable": false,
    "nbgrader": {
     "cell_type": "code",
     "checksum": "e6ac020bcf6fb0a3f05132dc503c3daa",
     "grade": false,
     "grade_id": "cell-5417c5c4240e9914",
     "locked": false,
     "schema_version": 3,
     "solution": true,
     "task": false
    }
   },
   "outputs": [],
   "source": [
    "// écrire le code ici\n",
    "throw new Error();//instruction C++, n'existe pas en C, à supprimer une fois le code écrit"
   ]
  },
  {
   "cell_type": "code",
   "execution_count": null,
   "id": "f81f7eec",
   "metadata": {
    "deletable": false,
    "editable": false,
    "nbgrader": {
     "cell_type": "code",
     "checksum": "e76c5f7cf35c43e241c907988d0aef3f",
     "grade": true,
     "grade_id": "cell-19d927ed5c9d8749",
     "locked": true,
     "points": 1,
     "schema_version": 3,
     "solution": false,
     "task": false
    }
   },
   "outputs": [],
   "source": [
    "ASSERT(trouve_431);\n",
    "ASSERT(trouve_212);"
   ]
  },
  {
   "cell_type": "markdown",
   "id": "5e191633",
   "metadata": {
    "deletable": false,
    "editable": false,
    "nbgrader": {
     "cell_type": "markdown",
     "checksum": "9af430a36e102c0923c2de3c0c19d211",
     "grade": false,
     "grade_id": "cell-8e2e4498c89b6515",
     "locked": true,
     "schema_version": 3,
     "solution": false,
     "task": false
    }
   },
   "source": [
    "### Exo 4 : Inversion des éléments\n",
    "\n",
    "1. Dans ce qui suit, un tableau de taille 127 est déclaré et initialisé. Déclarer et remplir un tableau `inverse` de même taille qui contient les éléments en ordre inverse."
   ]
  },
  {
   "cell_type": "code",
   "execution_count": null,
   "id": "43c2000f",
   "metadata": {
    "deletable": false,
    "nbgrader": {
     "cell_type": "code",
     "checksum": "509f1302a364f42fa3d0a76c7c8cbb7f",
     "grade": false,
     "grade_id": "cell-fe83080b3f7ffeff",
     "locked": false,
     "schema_version": 3,
     "solution": true,
     "task": false
    }
   },
   "outputs": [],
   "source": [
    "//rappel : dans un vrai programme c'est à mettre dans une fonction\n",
    "bool xxx[] = {true, false, false, true, false, true, true, true, false, false, false, false, false, false, false, true, true, true, true, true, false, false, true, true, true, true, false, true, true, false, true, false, false, true, true, false, false, false, true, true, false, true, true, false, true, false, true, true, true, false, false, true, false, true, false, true, true, false, false, false, false, true, false, true, true, true, true, true, true, true, false, true, false, false, false, false, false, true, true, true, false, true, false, false, false, false, false, true, false, false, true, false, false, true, true, true, false, true, false, true, false, true, true, false, true, true, false, true, false, true, false, false, false, false, true, true, false, true, false, false, true, false, false, true, true, false, false};\n",
    "\n",
    "// écrire le code ici\n",
    "throw new Error();//instruction C++, n'existe pas en C, à supprimer une fois le code écrit"
   ]
  },
  {
   "cell_type": "code",
   "execution_count": null,
   "id": "3bff2b78",
   "metadata": {
    "deletable": false,
    "editable": false,
    "nbgrader": {
     "cell_type": "code",
     "checksum": "38004b5a09ff546d000aab8452d4a55e",
     "grade": true,
     "grade_id": "cell-66cb3fd56ba5ca49",
     "locked": true,
     "points": 1,
     "schema_version": 3,
     "solution": false,
     "task": false
    }
   },
   "outputs": [],
   "source": [
    "ASSERT(not inverse[0]);\n",
    "ASSERT(inverse[32]);\n",
    "ASSERT(not inverse[86]);\n",
    "ASSERT(not inverse[117]);"
   ]
  }
 ],
 "metadata": {
  "kernelspec": {
   "display_name": "C++11",
   "language": "C++11",
   "name": "xcpp11"
  },
  "language_info": {
   "codemirror_mode": "text/x-c++src",
   "file_extension": ".cpp",
   "mimetype": "text/x-c++src",
   "name": "c++",
   "version": "11"
  }
 },
 "nbformat": 4,
 "nbformat_minor": 5
}
