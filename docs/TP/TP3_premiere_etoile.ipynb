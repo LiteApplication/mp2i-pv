{
 "cells": [
  {
   "cell_type": "markdown",
   "id": "4e1bcaf1",
   "metadata": {
    "deletable": false,
    "editable": false,
    "nbgrader": {
     "cell_type": "markdown",
     "checksum": "b70fb27d515b33af569e19ca57531b6e",
     "grade": false,
     "grade_id": "cell-dfcd7199489b7abc",
     "locked": true,
     "schema_version": 3,
     "solution": false,
     "task": false
    }
   },
   "source": [
    "# Informatique - MP2I\n",
    "---"
   ]
  },
  {
   "cell_type": "markdown",
   "id": "9d5dae14",
   "metadata": {
    "deletable": false,
    "editable": false,
    "nbgrader": {
     "cell_type": "markdown",
     "checksum": "fabdca8828c8a2417d90ae2fa894d4d1",
     "grade": false,
     "grade_id": "cell-ae23d1b459169820",
     "locked": true,
     "schema_version": 3,
     "solution": false,
     "task": false
    }
   },
   "source": [
    "# TP3 tableaux\n",
    "## première étoile : pour ceux qui ont déjà programmé avant"
   ]
  },
  {
   "cell_type": "markdown",
   "id": "df31b714",
   "metadata": {
    "deletable": false,
    "editable": false,
    "nbgrader": {
     "cell_type": "markdown",
     "checksum": "1c4919585a50335be84f286c502e855d",
     "grade": false,
     "grade_id": "cell-d642087d3981b930",
     "locked": true,
     "schema_version": 3,
     "solution": false,
     "task": false
    }
   },
   "source": [
    "Nous n'avons pas encore vu comment utiliser les tableaux comme des arguments pour les fonctions. Toutes les en-têtes de fonctions seront donc écrites dans ce TP, et vous lirez les commentaires pour savoir quel paramètre est un tableau (sans essayer de comprendre pourquoi)."
   ]
  },
  {
   "cell_type": "code",
   "execution_count": null,
   "id": "512560ef",
   "metadata": {
    "deletable": false,
    "editable": false,
    "nbgrader": {
     "cell_type": "code",
     "checksum": "0afa4d76072e95de9d959deee05b5ffa",
     "grade": false,
     "grade_id": "cell-a0a261fa05f6fa99",
     "locked": true,
     "schema_version": 3,
     "solution": false,
     "task": false
    }
   },
   "outputs": [],
   "source": [
    "/* cette cellule doit être exécutée pour les tests des autres cellules\n",
    "   attention : c'est du C++ */\n",
    "#ifndef ASSERT\n",
    "#define ASSERT(C) if ( !(C) ) { throw std::runtime_error(\"\\x1b[48;5;224mTest failed: \"#C); }\n",
    "#endif"
   ]
  },
  {
   "cell_type": "markdown",
   "id": "1bac2443",
   "metadata": {
    "deletable": false,
    "editable": false,
    "nbgrader": {
     "cell_type": "markdown",
     "checksum": "5c73ca74546a246504cdc6bb644bd0f8",
     "grade": false,
     "grade_id": "cell-29e111afa74e86bc",
     "locked": true,
     "schema_version": 3,
     "solution": false,
     "task": false
    }
   },
   "source": [
    "### Exo 1 : Plus petite distance\n",
    "\n",
    "Écrire une fonction `plus_petite_distance` qui prend en argument un tableau de `double` supposé trié dans l'ordre croissant (sans avoir à le vérifier) et sa longueur et renvoie la plus petite distance entre deux nombres de ce tableau, sinon la constante `INFINITY` définie dans le fichier d'en-tête `math.h`."
   ]
  },
  {
   "cell_type": "code",
   "execution_count": null,
   "id": "914e608f",
   "metadata": {
    "deletable": false,
    "nbgrader": {
     "cell_type": "code",
     "checksum": "8d2b7836db730517507dc6d83d8d318b",
     "grade": false,
     "grade_id": "cell-caf8b7c4aa6d7d91",
     "locked": false,
     "schema_version": 3,
     "solution": true,
     "task": false
    }
   },
   "outputs": [],
   "source": [
    "/** t : tableau trié\n",
    " * n : longueur de t\n",
    " * sortie : plus petite distance entre deux éléments de t\n",
    " */\n",
    "double plus_petite_distance(double *t, int n){\n",
    "    // écrire le code ici\n",
    "    throw new Error();//instruction C++, n'existe pas en C, à supprimer une fois le code écrit\n",
    "}"
   ]
  },
  {
   "cell_type": "code",
   "execution_count": null,
   "id": "4b6c58b9",
   "metadata": {
    "deletable": false,
    "editable": false,
    "nbgrader": {
     "cell_type": "code",
     "checksum": "01a5bd383edc4f86060556a6a7aa8790",
     "grade": true,
     "grade_id": "cell-5b712397a559b129",
     "locked": true,
     "points": 1,
     "schema_version": 3,
     "solution": false,
     "task": false
    }
   },
   "outputs": [],
   "source": [
    "double tab[] = {-4.3, -3.1, 0, 1.2, 5.6, 6.3};\n",
    "plus_petite_distance(tab, 6);"
   ]
  },
  {
   "cell_type": "markdown",
   "id": "d13ad4ba",
   "metadata": {
    "deletable": false,
    "editable": false,
    "nbgrader": {
     "cell_type": "markdown",
     "checksum": "69de62f85f603f96501d09fc3ef6f3f8",
     "grade": false,
     "grade_id": "cell-361a96c8290f8dd8",
     "locked": true,
     "schema_version": 3,
     "solution": false,
     "task": false
    }
   },
   "source": [
    "### Exo 2 : Périodicité\n",
    "Écrire une fonction qui teste si un tableau est `p`-périodique (c'est-à-dire si ses valeurs se répètent toutes les `p` cases, on ne cherche pas à ce que `p` soit la plus petite période).\n"
   ]
  },
  {
   "cell_type": "code",
   "execution_count": null,
   "id": "a9c49c40",
   "metadata": {
    "deletable": false,
    "nbgrader": {
     "cell_type": "code",
     "checksum": "6a30e3ec56f75a8777c0ae7bcbdf8eae",
     "grade": false,
     "grade_id": "cell-abc21483338267db",
     "locked": false,
     "schema_version": 3,
     "solution": true,
     "task": false
    }
   },
   "outputs": [],
   "source": [
    "/** t : tableau d'entiers\n",
    " * n : longueur de t\n",
    " * p : entier non nul\n",
    " * sortie : teste si t est p-périodique */\n",
    "bool periodique (int *t, int n, int p){\n",
    "    // écrire le code ici\n",
    "    throw new Error();//instruction C++, n'existe pas en C, à supprimer une fois le code écrit\n",
    "}"
   ]
  },
  {
   "cell_type": "code",
   "execution_count": null,
   "id": "b459bcef",
   "metadata": {
    "deletable": false,
    "editable": false,
    "nbgrader": {
     "cell_type": "code",
     "checksum": "bbe61c467c3d7a703ecd6409890abdd0",
     "grade": true,
     "grade_id": "cell-c0c15e7b735f3937",
     "locked": true,
     "points": 1,
     "schema_version": 3,
     "solution": false,
     "task": false
    }
   },
   "outputs": [],
   "source": [
    "int t[] = {1, 2, 3, 1, 2, 3, 1, 2, 3, 1, 2};\n",
    "ASSERT(periodique(t, 11, 3));\n",
    "ASSERT(not periodique(t, 11, 2));"
   ]
  },
  {
   "cell_type": "markdown",
   "id": "478af81e",
   "metadata": {
    "deletable": false,
    "editable": false,
    "nbgrader": {
     "cell_type": "markdown",
     "checksum": "352f85e3240ab448fb1f0a2141b0e8ab",
     "grade": false,
     "grade_id": "cell-9e9e41b533eafb09",
     "locked": true,
     "schema_version": 3,
     "solution": false,
     "task": false
    }
   },
   "source": [
    "### Exo 3 : Maxima locaux\n",
    "\n",
    "Si je considère un tableaux de valeurs comparables (par exemple des nombres), je peux définir une case comme un _maximum local_ si ses deux voisines ont des valeurs strictement inférieures à elle (une case avec une seule voisine n'est pas un maximum local).\n",
    "\n",
    "1. Écrire une fonction `maximum_local` qui prend en argument un tableau d'entiers, sa taille et un indice et teste si la valeur à cet indice est un maximum local."
   ]
  },
  {
   "cell_type": "code",
   "execution_count": null,
   "id": "424c9552",
   "metadata": {
    "deletable": false,
    "nbgrader": {
     "cell_type": "code",
     "checksum": "7fef67ec143459926b1a365e6cce7501",
     "grade": false,
     "grade_id": "cell-5da21937264088ee",
     "locked": false,
     "schema_version": 3,
     "solution": true,
     "task": false
    }
   },
   "outputs": [],
   "source": [
    "#include <stdbool.h>\n",
    "\n",
    "/** t : tableau d'entiers\n",
    " * n : longueur de t\n",
    " * i : entier\n",
    " * sortie : si l'entier i est un indice valide pour t, teste si la case d'indice i est un maximum local,\n",
    " * sinon renvoie faux */\n",
    "bool maximum_local(int *t, int n, int i){\n",
    "    // écrire le code ici\n",
    "    throw new Error();//instruction C++, n'existe pas en C, à supprimer une fois le code écrit\n",
    "}"
   ]
  },
  {
   "cell_type": "code",
   "execution_count": null,
   "id": "f613b204",
   "metadata": {
    "deletable": false,
    "editable": false,
    "nbgrader": {
     "cell_type": "code",
     "checksum": "9cfa71ecb044cebc33e57e5d9c2075eb",
     "grade": true,
     "grade_id": "cell-83ca8861b18869be",
     "locked": true,
     "points": 1,
     "schema_version": 3,
     "solution": false,
     "task": false
    }
   },
   "outputs": [],
   "source": [
    "int t[] = {1, 2, 3, 2, 1, -1, -2, -1, -3, 5, 5, 2};\n",
    "ASSERT(not maximum_local(t, 12, 0));\n",
    "ASSERT(maximum_local(t, 12, 2));\n",
    "ASSERT(maximum_local(t, 12, 7));\n",
    "ASSERT(not maximum_local(t, 12, 9));\n",
    "ASSERT(not maximum_local(t, 12, 12));"
   ]
  },
  {
   "cell_type": "markdown",
   "id": "d7af06d0",
   "metadata": {
    "deletable": false,
    "editable": false,
    "nbgrader": {
     "cell_type": "markdown",
     "checksum": "d9b6a3687aafc0fff396fdc20aa8247a",
     "grade": false,
     "grade_id": "cell-eb2123fe2cf62f18",
     "locked": true,
     "schema_version": 3,
     "solution": false,
     "task": false
    }
   },
   "source": [
    "L'instruction `break` permet de sortir de la boucle dans laquelle elle est exécutée. Par exemple :"
   ]
  },
  {
   "cell_type": "code",
   "execution_count": null,
   "id": "b6dca2ef",
   "metadata": {
    "deletable": false,
    "editable": false,
    "nbgrader": {
     "cell_type": "code",
     "checksum": "4cd6a1e76a9f4bde952a8fc960f4e134",
     "grade": false,
     "grade_id": "cell-d2cf514f4e4bcac8",
     "locked": true,
     "schema_version": 3,
     "solution": false,
     "task": false
    }
   },
   "outputs": [],
   "source": [
    "//rappel : dans un vrai programme c'est à mettre dans une fonction\n",
    "int i;\n",
    "for(i = 0; i<53; i = i+1){\n",
    "    if(i == 27){\n",
    "        break;\n",
    "    }\n",
    "}\n",
    "printf(\"valeur de i à la sortie de la boucle : %d\\n\", i);"
   ]
  },
  {
   "cell_type": "markdown",
   "id": "6e40d77a",
   "metadata": {
    "deletable": false,
    "editable": false,
    "nbgrader": {
     "cell_type": "markdown",
     "checksum": "559a25f9ff2ba6e254a3d0da4d7b8518",
     "grade": false,
     "grade_id": "cell-cd532208445caaa0",
     "locked": true,
     "schema_version": 3,
     "solution": false,
     "task": false
    }
   },
   "source": [
    "2. Parfois on a des plateaux (plusieurs cases de suite qui ont la même valeur), et il faut donc aller chercher plus loin si la valeur descend ou pas. Écrire une fonction `vrai_maximum_local` en adaptant `maximum_local` pour que cela tienne compte de cette situation possible : une case est maintenant un maximum local si elle appartient à un plateau qui est encadré de valeurs strictement inférieures."
   ]
  },
  {
   "cell_type": "code",
   "execution_count": null,
   "id": "59852463",
   "metadata": {
    "deletable": false,
    "nbgrader": {
     "cell_type": "code",
     "checksum": "0fe35eec115cfcc301ea5ae190620b56",
     "grade": false,
     "grade_id": "cell-525f2d9df8a67789",
     "locked": false,
     "schema_version": 3,
     "solution": true,
     "task": false
    }
   },
   "outputs": [],
   "source": [
    "/** t : tableau d'entiers\n",
    " * n : longueur de t\n",
    " * i : entier\n",
    " * sortie : si l'entier i est un indice valide pour t, teste si la case d'indice i est un maximum local,\n",
    " * en tenant compte des plateaux,\n",
    " * sinon renvoie faux */\n",
    "bool vrai_maximum_local(int *t, int n, int i){\n",
    "    // écrire le code ici\n",
    "    throw new Error();//instruction C++, n'existe pas en C, à supprimer une fois le code écrit\n",
    "}"
   ]
  },
  {
   "cell_type": "code",
   "execution_count": null,
   "id": "bf5d435c",
   "metadata": {
    "deletable": false,
    "editable": false,
    "nbgrader": {
     "cell_type": "code",
     "checksum": "32f05a35cccb1d7ee9355e486d81a1de",
     "grade": true,
     "grade_id": "cell-566343a5dff0fb59",
     "locked": true,
     "points": 1,
     "schema_version": 3,
     "solution": false,
     "task": false
    }
   },
   "outputs": [],
   "source": [
    "int t2[] = {1, 2, 3, 2, 1, -1, -2, -1, -3, 5, 5, 2, 3, 3, 3, 3, 1, 4, 4, 4};\n",
    "ASSERT(not vrai_maximum_local(t2, 20, 0));\n",
    "ASSERT(vrai_maximum_local(t2, 20, 2));\n",
    "ASSERT(vrai_maximum_local(t2, 20, 7));\n",
    "ASSERT(vrai_maximum_local(t2, 20, 9));\n",
    "ASSERT(vrai_maximum_local(t2, 20, 12));\n",
    "ASSERT(vrai_maximum_local(t2, 20, 13));\n",
    "ASSERT(vrai_maximum_local(t2, 20, 14));\n",
    "ASSERT(vrai_maximum_local(t2, 20, 15));\n",
    "ASSERT(not vrai_maximum_local(t2, 20, 16));\n",
    "ASSERT(not vrai_maximum_local(t2, 20, 18));\n",
    "ASSERT(not vrai_maximum_local(t2, 20, 19));"
   ]
  }
 ],
 "metadata": {
  "kernelspec": {
   "display_name": "C++11",
   "language": "C++11",
   "name": "xcpp11"
  },
  "language_info": {
   "codemirror_mode": "text/x-c++src",
   "file_extension": ".cpp",
   "mimetype": "text/x-c++src",
   "name": "c++",
   "version": "11"
  }
 },
 "nbformat": 4,
 "nbformat_minor": 5
}
