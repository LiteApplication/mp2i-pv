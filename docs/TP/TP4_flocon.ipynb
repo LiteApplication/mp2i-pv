{
 "cells": [
  {
   "cell_type": "markdown",
   "id": "ec5867d2",
   "metadata": {
    "deletable": false,
    "editable": false,
    "nbgrader": {
     "cell_type": "markdown",
     "checksum": "b70fb27d515b33af569e19ca57531b6e",
     "grade": false,
     "grade_id": "cell-dfcd7199489b7abc",
     "locked": true,
     "schema_version": 3,
     "solution": false,
     "task": false
    }
   },
   "source": [
    "# Informatique - MP2I\n",
    "---"
   ]
  },
  {
   "cell_type": "markdown",
   "id": "21614f6b",
   "metadata": {
    "deletable": false,
    "editable": false,
    "nbgrader": {
     "cell_type": "markdown",
     "checksum": "0f7eea68dfbb5252a377413d255eead8",
     "grade": false,
     "grade_id": "cell-2eba1171ccb181ee",
     "locked": true,
     "schema_version": 3,
     "solution": false,
     "task": false
    }
   },
   "source": [
    "# TP 4 : tableaux et pointeurs\n",
    "## flocon : pour ceux qui débutent en programmation"
   ]
  },
  {
   "cell_type": "code",
   "execution_count": null,
   "id": "d15817a4",
   "metadata": {
    "deletable": false,
    "editable": false,
    "nbgrader": {
     "cell_type": "code",
     "checksum": "ec0d0c2b039a2771d9b2b2423b4412e7",
     "grade": false,
     "grade_id": "cell-d2be317b3a174fc1",
     "locked": true,
     "schema_version": 3,
     "solution": false,
     "task": false
    }
   },
   "outputs": [],
   "source": [
    "/* cette cellule doit être exécutée pour les tests des autres cellules\n",
    "   attention : c'est du C++ */\n",
    "#ifndef ASSERT\n",
    "#define ASSERT(C) if ( !(C) ) { throw std::runtime_error(\"\\x1b[48;5;224mTest failed: \"#C); }\n",
    "#endif"
   ]
  },
  {
   "cell_type": "markdown",
   "id": "4feeb41e",
   "metadata": {
    "deletable": false,
    "editable": false,
    "nbgrader": {
     "cell_type": "markdown",
     "checksum": "c7e271fe5e2200ed07324fa5506e61a7",
     "grade": false,
     "grade_id": "cell-3c1cd5a42de5cf53",
     "locked": true,
     "schema_version": 3,
     "solution": false,
     "task": false
    }
   },
   "source": [
    "### Exo 1 : Échange d'entiers\n",
    "La fonction suivante en `C` ne fonctionne pas :\n",
    "```C\n",
    "void echange_errone(int a, int b){\n",
    "    int c = a;\n",
    "    a = b;\n",
    "    b = c;\n",
    "}\n",
    "```\n",
    "Proposer une fonction `echange` qui permette d'échanger les valeurs de deux variables entières."
   ]
  },
  {
   "cell_type": "code",
   "execution_count": null,
   "id": "772bd65d",
   "metadata": {
    "deletable": false,
    "nbgrader": {
     "cell_type": "code",
     "checksum": "f48fe6d75a6f355f9a0249a968717ad1",
     "grade": false,
     "grade_id": "cell-bcef2293567f8126",
     "locked": false,
     "schema_version": 3,
     "solution": true,
     "task": false
    }
   },
   "outputs": [],
   "source": [
    "// écrire le code ici\n",
    "throw new Error();//instruction C++, n'existe pas en C, à supprimer une fois le code écrit"
   ]
  },
  {
   "cell_type": "code",
   "execution_count": null,
   "id": "a8abbb1c",
   "metadata": {
    "deletable": false,
    "editable": false,
    "nbgrader": {
     "cell_type": "code",
     "checksum": "6a091d73ff82774ad57811502a3e5dfa",
     "grade": true,
     "grade_id": "cell-4f6d06dcdd6eaf45",
     "locked": true,
     "points": 1,
     "schema_version": 3,
     "solution": false,
     "task": false
    }
   },
   "outputs": [],
   "source": [
    "int a = 1, b = 2;\n",
    "echange(&a, &b);\n",
    "ASSERT(a == 2);\n",
    "ASSERT(b == 1);"
   ]
  },
  {
   "cell_type": "markdown",
   "id": "47d2ba1a",
   "metadata": {
    "deletable": false,
    "editable": false,
    "nbgrader": {
     "cell_type": "markdown",
     "checksum": "85131ad90b8268ea5205c6d57324f47c",
     "grade": false,
     "grade_id": "cell-8c67c5b94df9b373",
     "locked": true,
     "schema_version": 3,
     "solution": false,
     "task": false
    }
   },
   "source": [
    "### Exo 2 : Plagiat\n",
    "Écrire et documenter une fonction `copie` qui prend en argument un tableau d'entiers et sa taille et renvoie une copie de ce tableau."
   ]
  },
  {
   "cell_type": "code",
   "execution_count": null,
   "id": "55bd5b46",
   "metadata": {
    "deletable": false,
    "nbgrader": {
     "cell_type": "code",
     "checksum": "c40040e1e2fce1cee9480bed6b9aa7af",
     "grade": false,
     "grade_id": "cell-5c3e6a7e42497b18",
     "locked": false,
     "schema_version": 3,
     "solution": true,
     "task": false
    }
   },
   "outputs": [],
   "source": [
    "// écrire le code ici\n",
    "throw new Error();//instruction C++, n'existe pas en C, à supprimer une fois le code écrit"
   ]
  },
  {
   "cell_type": "code",
   "execution_count": null,
   "id": "27184ec6",
   "metadata": {
    "deletable": false,
    "editable": false,
    "nbgrader": {
     "cell_type": "code",
     "checksum": "67e6f7e9654a0d6a50c3d34556223622",
     "grade": true,
     "grade_id": "cell-48550e5cfacdabd5",
     "locked": true,
     "points": 1,
     "schema_version": 3,
     "solution": false,
     "task": false
    }
   },
   "outputs": [],
   "source": [
    "int a[] = {9};\n",
    "int *a2 = copie(a, 1);\n",
    "ASSERT(a[0] == a2[0]);\n",
    "\n",
    "int b[] = {6, 10, -3, 4, 5};\n",
    "int *b2 = copie(b, 5);\n",
    "ASSERT(b[0] == b2[0]);\n",
    "ASSERT(b[4] == b2[4]);"
   ]
  },
  {
   "cell_type": "markdown",
   "id": "557caa72",
   "metadata": {
    "deletable": false,
    "editable": false,
    "nbgrader": {
     "cell_type": "markdown",
     "checksum": "ac0b1b315123115924192174bd362c4c",
     "grade": false,
     "grade_id": "cell-38b21d4b97bdf2d4",
     "locked": true,
     "schema_version": 3,
     "solution": false,
     "task": false
    }
   },
   "source": [
    "### Exo 3 : Suite récurrente\n",
    "On considère une suite numérique $(u_n)_{n\\geq 0}$ donnée par son premier terme $(u_0)$ et la relation de récurrence $u_{n+1}=au_n+b$, où $u_0$, $a$ et $b$ sont des réels. Le but de cet exercice est de calculer les premiers termes de cette suite.\n",
    "\n",
    "Écrire et documenter une fonction `premiers_termes` dont les paramètres sont, dans l'ordre, le terme initial de la suite, les coefficients $a$ et $b$, et le nombre de termes à calculer $n$ et renvoie un tableau qui contient les $n$ premiers termes de la suite."
   ]
  },
  {
   "cell_type": "code",
   "execution_count": null,
   "id": "f598d0b3",
   "metadata": {
    "deletable": false,
    "nbgrader": {
     "cell_type": "code",
     "checksum": "f67e270bba63320e81a2314aabe1bce7",
     "grade": false,
     "grade_id": "cell-e97ede740b38bb92",
     "locked": false,
     "schema_version": 3,
     "solution": true,
     "task": false
    }
   },
   "outputs": [],
   "source": [
    "// écrire le code ici\n",
    "throw new Error();//instruction C++, n'existe pas en C, à supprimer une fois le code écrit"
   ]
  },
  {
   "cell_type": "code",
   "execution_count": null,
   "id": "087d4af3",
   "metadata": {
    "deletable": false,
    "editable": false,
    "nbgrader": {
     "cell_type": "code",
     "checksum": "bcafce3523b5dbe9216f9eb4edc1e161",
     "grade": true,
     "grade_id": "cell-abe0e74121609cd0",
     "locked": true,
     "points": 1,
     "schema_version": 3,
     "solution": false,
     "task": false
    }
   },
   "outputs": [],
   "source": [
    "double epsilon = 0.0001;\n",
    "\n",
    "double *u = premiers_termes(2, 3, 0, 35);\n",
    "ASSERT(fabs(u[0] - 2) < epsilon);\n",
    "ASSERT(fabs(u[10] - 2*pow(3, 10)) < epsilon);\n",
    "ASSERT(fabs(u[34] - 2*pow(3, 34)) < epsilon);\n",
    "\n",
    "double *v = premiers_termes(-1, 1, 1.7, 28);\n",
    "ASSERT(fabs(v[0] + 1) < epsilon);\n",
    "ASSERT(fabs(v[21] - (-1+1.7*21)) < epsilon);\n",
    "ASSERT(fabs(v[27] - (-1+1.7*27)) < epsilon);\n",
    "\n",
    "double *w = premiers_termes(3.14, 0, 1.4142, 53);\n",
    "ASSERT(fabs(w[0] - 3.14) < epsilon);\n",
    "ASSERT(fabs(w[52] - 1.4142) < epsilon);"
   ]
  },
  {
   "cell_type": "markdown",
   "id": "88455b10",
   "metadata": {
    "deletable": false,
    "editable": false,
    "nbgrader": {
     "cell_type": "markdown",
     "checksum": "12929f6daf229591bf267d8f63b535c8",
     "grade": false,
     "grade_id": "cell-3732db97e55cf5d8",
     "locked": true,
     "schema_version": 3,
     "solution": false,
     "task": false
    }
   },
   "source": [
    "### Exo 4 : Tri par dénombrement\n",
    "Le tri par dénombrement peut être utilisé dans le cas où on doit trier des entiers positifs pas nécessairement distincts dont on connaît un majorant. Il est efficace si ce majorant n'est pas trop grand par rapport au nombre d'entiers à trier.\n",
    "Son principe est le suivant : on parcourt les données et pour chaque valeur qui apparaît, on maintient à jour un compteur qui nous permet de savoir combien de fois chaque valeur a été vue. Avec ces nombres d'occurences, on peut à la fin reconstruire les données dans l'ordre croissant.\n",
    "\n",
    "1. Écrire et documenter une fonction `tri_denombrement` qui prend dans l'ordre un tableau d'entiers supposés positifs ou nuls, sa taille et un majorant (sans faire de vérification), et renvoie un nouveau tableau avec les données dans l'ordre croissant."
   ]
  },
  {
   "cell_type": "code",
   "execution_count": null,
   "id": "ccd07a4e",
   "metadata": {
    "deletable": false,
    "nbgrader": {
     "cell_type": "code",
     "checksum": "32491bc120057104770e447c56cb4f32",
     "grade": false,
     "grade_id": "cell-86fa093121a6e6b9",
     "locked": false,
     "schema_version": 3,
     "solution": true,
     "task": false
    }
   },
   "outputs": [],
   "source": [
    "// écrire le code ici\n",
    "throw new Error();//instruction C++, n'existe pas en C, à supprimer une fois le code écrit"
   ]
  },
  {
   "cell_type": "code",
   "execution_count": null,
   "id": "b514f96c",
   "metadata": {
    "deletable": false,
    "editable": false,
    "nbgrader": {
     "cell_type": "code",
     "checksum": "2e14bfa5a594448a31fb84601b402f8d",
     "grade": true,
     "grade_id": "cell-244f9cfc9e610b87",
     "locked": true,
     "points": 1,
     "schema_version": 3,
     "solution": false,
     "task": false
    }
   },
   "outputs": [],
   "source": [
    "int a1[] = {1};\n",
    "int *a2 = tri_denombrement(a1, 1, 5);\n",
    "ASSERT(a2[0]==1);\n",
    "free(a2);\n",
    "\n",
    "int b1[] = {1, 1, 1};\n",
    "int *b2 = tri_denombrement(b1, 3, 5);\n",
    "for(int i=0; i<3; i=i+1){\n",
    "    ASSERT(b2[i]==1);\n",
    "}\n",
    "free(b2);\n",
    "\n",
    "int c1[] = {5, 4, 3, 2, 1, 0};\n",
    "int *c2 = tri_denombrement(c1, 6, 5);\n",
    "for(int i=0; i<6; i=i+1){\n",
    "    ASSERT(c2[i]==i);\n",
    "}\n",
    "free(c2);\n",
    "\n",
    "int d1[] = {2, 3, 1, 2, 0, 1, 5, 5, 4, 3, 0, 4};\n",
    "int *d2 = tri_denombrement(d1, 12, 5);\n",
    "for(int i=0; i<12; i=i+1){\n",
    "    ASSERT(d2[i]==i/2);\n",
    "}\n",
    "free(d2);"
   ]
  },
  {
   "cell_type": "markdown",
   "id": "47611abc",
   "metadata": {
    "deletable": false,
    "editable": false,
    "nbgrader": {
     "cell_type": "markdown",
     "checksum": "298afc4df8e97485977f135b3d60cd3b",
     "grade": false,
     "grade_id": "cell-072268b60a83e66f",
     "locked": true,
     "schema_version": 3,
     "solution": false,
     "task": false
    }
   },
   "source": [
    "2. Quelle est la complexité du tri par dénombrement ?"
   ]
  },
  {
   "cell_type": "markdown",
   "id": "9af4f02e",
   "metadata": {
    "deletable": false,
    "nbgrader": {
     "cell_type": "markdown",
     "checksum": "3aceb80aaad65d752e91a00f4f28e575",
     "grade": true,
     "grade_id": "cell-45de436a01a49394",
     "locked": false,
     "points": 1,
     "schema_version": 3,
     "solution": true,
     "task": false
    }
   },
   "source": [
    "Mettez votre réponse dans cette cellule."
   ]
  },
  {
   "cell_type": "markdown",
   "id": "a5c96f7a",
   "metadata": {
    "deletable": false,
    "editable": false,
    "nbgrader": {
     "cell_type": "markdown",
     "checksum": "9e34d12f9bd7d57bebd20071b0436754",
     "grade": false,
     "grade_id": "cell-0bf07ecc5a60c0f0",
     "locked": true,
     "schema_version": 3,
     "solution": false,
     "task": false
    }
   },
   "source": [
    "### Exo 5 : Crible D'Eratosthene\n",
    "Le crible d'Eratosthene est un algorithme pour trouver les nombres premiers parmi les $n$ premiers entiers. Son principe est le suivant : on considère un tableau représentant les entiers de 2 à $n$. Le plus petit entier non entouré et non barré est premier, on l'entoure et on barre tous ses multiples, puis on recommence, comme illustré dans l'animation ci-dessous :\n",
    "\n",
    "![](https://upload.wikimedia.org/wikipedia/commons/8/8c/New_Animation_Sieve_of_Eratosthenes.gif)"
   ]
  },
  {
   "cell_type": "markdown",
   "id": "718c988b",
   "metadata": {
    "deletable": false,
    "editable": false,
    "nbgrader": {
     "cell_type": "markdown",
     "checksum": "4997410f2d71a1ff9a3de8bf05c1e636",
     "grade": false,
     "grade_id": "cell-5b3ad65607b67b86",
     "locked": true,
     "schema_version": 3,
     "solution": false,
     "task": false
    }
   },
   "source": [
    "Écrire et documenter une fonction `eratosthene` qui prend en argument un entier $n$. Si cet entier est positif ou nul, elle doit renvoyer un tableau de booléens de taille $n+1$ tel que la case $i$ du tableau vaut `true` si et seulement si $i$ est un nombre premier."
   ]
  },
  {
   "cell_type": "code",
   "execution_count": null,
   "id": "a6958e74",
   "metadata": {
    "deletable": false,
    "nbgrader": {
     "cell_type": "code",
     "checksum": "37935befcad68b76234db2789b56f15f",
     "grade": false,
     "grade_id": "cell-b39056f564b7501d",
     "locked": false,
     "schema_version": 3,
     "solution": true,
     "task": false
    }
   },
   "outputs": [],
   "source": [
    "// écrire le code ici\n",
    "throw new Error();//instruction C++, n'existe pas en C, à supprimer une fois le code écrit"
   ]
  },
  {
   "cell_type": "code",
   "execution_count": null,
   "id": "df188d91",
   "metadata": {
    "deletable": false,
    "editable": false,
    "nbgrader": {
     "cell_type": "code",
     "checksum": "dba451519260200767b36436949b995a",
     "grade": true,
     "grade_id": "cell-442b355b9f1683b8",
     "locked": true,
     "points": 1,
     "schema_version": 3,
     "solution": false,
     "task": false
    }
   },
   "outputs": [],
   "source": [
    "ASSERT(eratosthene(-1) == NULL);\n",
    "bool *premier = eratosthene(200);\n",
    "ASSERT(!premier[0]);\n",
    "ASSERT(!premier[1]);\n",
    "ASSERT(premier[2]);\n",
    "ASSERT(premier[3]);\n",
    "ASSERT(premier[137]);\n",
    "ASSERT(!premier[169]);\n",
    "free(premier);"
   ]
  },
  {
   "cell_type": "markdown",
   "id": "a46db8c2",
   "metadata": {
    "deletable": false,
    "editable": false,
    "nbgrader": {
     "cell_type": "markdown",
     "checksum": "abca9cfb5272dcac58e63f128e5ec42f",
     "grade": false,
     "grade_id": "cell-d945acce95420740",
     "locked": true,
     "schema_version": 3,
     "solution": false,
     "task": false
    }
   },
   "source": [
    "Si vous êtes arrivés là, c'est qu'il est temps d'attaquer le sujet [1ère étoile](TP4_premiere_etoile.ipynb) ! (Et si ça a été compliqué d'arriver là, pensez à faire le sujet 1ère étoile plus tard, comme entraînement.)"
   ]
  }
 ],
 "metadata": {
  "kernelspec": {
   "display_name": "C++11",
   "language": "C++11",
   "name": "xcpp11"
  },
  "language_info": {
   "codemirror_mode": "text/x-c++src",
   "file_extension": ".cpp",
   "mimetype": "text/x-c++src",
   "name": "c++",
   "version": "11"
  }
 },
 "nbformat": 4,
 "nbformat_minor": 5
}
