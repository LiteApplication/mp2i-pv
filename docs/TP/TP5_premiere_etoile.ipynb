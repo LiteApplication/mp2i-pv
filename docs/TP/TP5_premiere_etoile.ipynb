{
 "cells": [
  {
   "cell_type": "markdown",
   "id": "21137a96",
   "metadata": {
    "deletable": false,
    "editable": false,
    "nbgrader": {
     "cell_type": "markdown",
     "checksum": "b70fb27d515b33af569e19ca57531b6e",
     "grade": false,
     "grade_id": "cell-dfcd7199489b7abc",
     "locked": true,
     "schema_version": 3,
     "solution": false,
     "task": false
    }
   },
   "source": [
    "# Informatique - MP2I\n",
    "---"
   ]
  },
  {
   "cell_type": "markdown",
   "id": "1aaef785",
   "metadata": {
    "deletable": false,
    "editable": false,
    "nbgrader": {
     "cell_type": "markdown",
     "checksum": "8922cea70b93ceaea4c592ee1aca0491",
     "grade": false,
     "grade_id": "cell-1e045407030d2ba7",
     "locked": true,
     "schema_version": 3,
     "solution": false,
     "task": false
    }
   },
   "source": [
    "# TP5 : tableaux, pointeurs et structures\n",
    "## première étoile : pour ceux qui ont déjà programmé avant"
   ]
  },
  {
   "cell_type": "code",
   "execution_count": null,
   "id": "8554f447",
   "metadata": {
    "deletable": false,
    "editable": false,
    "nbgrader": {
     "cell_type": "code",
     "checksum": "39e3c12e1b59364836585da828b18cb2",
     "grade": false,
     "grade_id": "cell-cdf5f1866cb8784a",
     "locked": true,
     "schema_version": 3,
     "solution": false,
     "task": false
    }
   },
   "outputs": [],
   "source": [
    "/* cette cellule doit être exécutée pour les tests des autres cellules\n",
    "   attention : c'est du C++ */\n",
    "#ifndef ASSERT\n",
    "#define ASSERT(C) if ( !(C) ) { throw std::runtime_error(\"\\x1b[48;5;224mTest failed: \"#C); }\n",
    "#endif"
   ]
  },
  {
   "cell_type": "markdown",
   "id": "53f11fc8",
   "metadata": {
    "deletable": false,
    "editable": false,
    "nbgrader": {
     "cell_type": "markdown",
     "checksum": "85e3abbf067aa4c812f7edea3dc11242",
     "grade": false,
     "grade_id": "cell-0df4b94fd918ad92",
     "locked": true,
     "schema_version": 3,
     "solution": false,
     "task": false
    }
   },
   "source": [
    "### Exo 1 : Chemins\n",
    "\n",
    "Dans cet exercice, le but sera de transformer la description d'un chemin donné sous la forme d'un pixel initial et d'une suite de directions (des constantes non nulles de type entier `N`, `S`, `W` et `E`) en une représentation dans un tableau bidimensionnel de booléens qui représente un écran.\n",
    "\n",
    "Par exemple sur un écran 13x8 si le pixel initial est `(2,3)` et la suite de direction $\\begin{array}{|c|c|c|c|c|}\\hline \\texttt{N} & \\texttt{N} & \\texttt{E} & \\texttt{E} & \\texttt{E} \\\\\\hline\\end{array}$, l'image doit ressembler à\n",
    "\n",
    "TTTTTTTTTTTTT<br />\n",
    "TTTTTTTTTTTTT<br />\n",
    "TTFFFFTTTTTTT<br />\n",
    "TTFTTTTTTTTTT<br />\n",
    "TTFTTTTTTTTTT<br />\n",
    "TTTTTTTTTTTTT<br />\n",
    "TTTTTTTTTTTTT<br />\n",
    "TTTTTTTTTTTTT\n",
    "\n",
    "Dans la suite de l'exercice, tous les écrans seront supposés posséder 80 colonnes et 30 lignes pour simplifier."
   ]
  },
  {
   "cell_type": "code",
   "execution_count": null,
   "id": "b1fe788a",
   "metadata": {
    "deletable": false,
    "editable": false,
    "nbgrader": {
     "cell_type": "code",
     "checksum": "2fa8714c31e161aed54a15a04196716b",
     "grade": false,
     "grade_id": "cell-836c414a4f3f58fe",
     "locked": true,
     "schema_version": 3,
     "solution": false,
     "task": false
    }
   },
   "outputs": [],
   "source": [
    "const int largeur = 80;\n",
    "const int hauteur = 30;"
   ]
  },
  {
   "cell_type": "markdown",
   "id": "3ff44c74",
   "metadata": {
    "deletable": false,
    "editable": false,
    "nbgrader": {
     "cell_type": "markdown",
     "checksum": "451761f435df5dc0d010982de1e2e03f",
     "grade": false,
     "grade_id": "cell-25d2dbcefe1871da",
     "locked": true,
     "schema_version": 3,
     "solution": false,
     "task": false
    }
   },
   "source": [
    "1. Définir les constantes `N`, `S`, `E`, `O`."
   ]
  },
  {
   "cell_type": "code",
   "execution_count": null,
   "id": "835b3d24",
   "metadata": {
    "deletable": false,
    "nbgrader": {
     "cell_type": "code",
     "checksum": "1643bf179548a09a2574200f4dd1ccd7",
     "grade": false,
     "grade_id": "cell-8bc1b80e5fbbc405",
     "locked": false,
     "schema_version": 3,
     "solution": true,
     "task": false
    }
   },
   "outputs": [],
   "source": [
    "// écrire le code ici\n",
    "throw new Error();//instruction C++, n'existe pas en C, à supprimer une fois le code écrit"
   ]
  },
  {
   "cell_type": "code",
   "execution_count": null,
   "id": "74d5085c",
   "metadata": {
    "deletable": false,
    "editable": false,
    "nbgrader": {
     "cell_type": "code",
     "checksum": "16ff9ecf93c83f241182907c885d28ed",
     "grade": true,
     "grade_id": "cell-4ab533b25218b65b",
     "locked": true,
     "points": 1,
     "schema_version": 3,
     "solution": false,
     "task": false
    }
   },
   "outputs": [],
   "source": [
    "ASSERT(N!=0);\n",
    "ASSERT(E!=0);\n",
    "ASSERT(S!=0);\n",
    "ASSERT(W!=0);"
   ]
  },
  {
   "cell_type": "markdown",
   "id": "cf75e675",
   "metadata": {
    "deletable": false,
    "editable": false,
    "nbgrader": {
     "cell_type": "markdown",
     "checksum": "6e0502ed56d40121b552a7c1e27891aa",
     "grade": false,
     "grade_id": "cell-0df4b94fd918ad93",
     "locked": true,
     "schema_version": 3,
     "solution": false,
     "task": false
    }
   },
   "source": [
    "2. Définir un type structuré `struct point` avec deux champs entiers `x` et `y`."
   ]
  },
  {
   "cell_type": "code",
   "execution_count": null,
   "id": "ec7c0389",
   "metadata": {
    "deletable": false,
    "nbgrader": {
     "cell_type": "code",
     "checksum": "a2ddc44211ac23d9e3f1f80d11a15d98",
     "grade": false,
     "grade_id": "cell-db079ebf8ae8e93b",
     "locked": false,
     "schema_version": 3,
     "solution": true,
     "task": false
    }
   },
   "outputs": [],
   "source": [
    "// écrire le code ici\n",
    "throw new Error();//instruction C++, n'existe pas en C, à supprimer une fois le code écrit"
   ]
  },
  {
   "cell_type": "code",
   "execution_count": null,
   "id": "ef768635",
   "metadata": {
    "deletable": false,
    "editable": false,
    "nbgrader": {
     "cell_type": "code",
     "checksum": "fd41a9415d5353d17cc2d78fa4154b64",
     "grade": true,
     "grade_id": "cell-341a056e30b3c1e8",
     "locked": true,
     "points": 1,
     "schema_version": 3,
     "solution": false,
     "task": false
    }
   },
   "outputs": [],
   "source": [
    "struct point P = { .x=3, .y=6 };\n",
    "ASSERT(P.x == 3);\n",
    "ASSERT(P.y == 6);"
   ]
  },
  {
   "cell_type": "markdown",
   "id": "053e6487",
   "metadata": {
    "deletable": false,
    "editable": false,
    "nbgrader": {
     "cell_type": "markdown",
     "checksum": "032eafa71aa2e713f2b5d0c3257e78a0",
     "grade": false,
     "grade_id": "cell-af52c6bf49c61f47",
     "locked": true,
     "schema_version": 3,
     "solution": false,
     "task": false
    }
   },
   "source": [
    "3. Définir un type structuré `struct chemin` avec un champ `dep` qui donne le point de départ, un champ entier `len` donnant le nombre de directions dans la description du chemin et un champ `dir` donnant une liste de directions."
   ]
  },
  {
   "cell_type": "code",
   "execution_count": null,
   "id": "495ddb87",
   "metadata": {
    "deletable": false,
    "nbgrader": {
     "cell_type": "code",
     "checksum": "5330fc630346543832ac0a3e23ad240c",
     "grade": false,
     "grade_id": "cell-aceb8efb0f4e18a9",
     "locked": false,
     "schema_version": 3,
     "solution": true,
     "task": false
    }
   },
   "outputs": [],
   "source": [
    "// écrire le code ici\n",
    "throw new Error();//instruction C++, n'existe pas en C, à supprimer une fois le code écrit"
   ]
  },
  {
   "cell_type": "code",
   "execution_count": null,
   "id": "3cc08f1e",
   "metadata": {
    "deletable": false,
    "editable": false,
    "nbgrader": {
     "cell_type": "code",
     "checksum": "da53256141f0ea98aa896b2e76fb3f43",
     "grade": true,
     "grade_id": "cell-b342d3eb3029a11a",
     "locked": true,
     "points": 1,
     "schema_version": 3,
     "solution": false,
     "task": false
    }
   },
   "outputs": [],
   "source": [
    "struct chemin c = { .len=7, .dir=NULL};\n",
    "ASSERT(c.len==7);"
   ]
  },
  {
   "cell_type": "markdown",
   "id": "773cfe0f",
   "metadata": {
    "deletable": false,
    "editable": false,
    "nbgrader": {
     "cell_type": "markdown",
     "checksum": "6ba8dbbc718afa2a3ce454291be7b6b1",
     "grade": false,
     "grade_id": "cell-6af6450475f1ec28",
     "locked": true,
     "schema_version": 3,
     "solution": false,
     "task": false
    }
   },
   "source": [
    "3. Écrire une fonction `trace` qui prend en argument un chemin et un écran et modifie le contenu de l'écran pour y inscrire le chemin. (Il y a deux cases de réponse parce que je l'ai fait en deux fonctions, mais vous n'êtes pas obligés.)"
   ]
  },
  {
   "cell_type": "code",
   "execution_count": null,
   "id": "162046a7",
   "metadata": {
    "deletable": false,
    "nbgrader": {
     "cell_type": "code",
     "checksum": "410f88c0746550b51e13840ed179cf45",
     "grade": false,
     "grade_id": "cell-0d17a6cede8c7049",
     "locked": false,
     "schema_version": 3,
     "solution": true,
     "task": false
    }
   },
   "outputs": [],
   "source": [
    "// écrire le code ici\n",
    "throw new Error();//instruction C++, n'existe pas en C, à supprimer une fois le code écrit"
   ]
  },
  {
   "cell_type": "code",
   "execution_count": null,
   "id": "f038fa79",
   "metadata": {
    "deletable": false,
    "nbgrader": {
     "cell_type": "code",
     "checksum": "421cd8319eef2ca1cbb58d5fd38812ec",
     "grade": false,
     "grade_id": "cell-0d17a6cede8c7050",
     "locked": false,
     "schema_version": 3,
     "solution": true,
     "task": false
    }
   },
   "outputs": [],
   "source": [
    "// écrire le code ici\n",
    "throw new Error();//instruction C++, n'existe pas en C, à supprimer une fois le code écrit"
   ]
  },
  {
   "cell_type": "markdown",
   "id": "3ce313bb",
   "metadata": {
    "deletable": false,
    "editable": false,
    "nbgrader": {
     "cell_type": "markdown",
     "checksum": "446eb05cf98177154e255d6cfff8c740",
     "grade": false,
     "grade_id": "cell-e34086eb5ffd1978",
     "locked": true,
     "points": 1,
     "schema_version": 3,
     "solution": false,
     "task": true
    }
   },
   "source": [
    "Cette cellule me permettra de mettre un commentaire."
   ]
  },
  {
   "cell_type": "markdown",
   "id": "6e18770b",
   "metadata": {
    "deletable": false,
    "editable": false,
    "nbgrader": {
     "cell_type": "markdown",
     "checksum": "56162449f271b08e4104840e1b9a38c2",
     "grade": false,
     "grade_id": "cell-d18986afed785813",
     "locked": true,
     "schema_version": 3,
     "solution": false,
     "task": false
    }
   },
   "source": [
    "4. Écrire une fonction `affiche` qui affiche un écran. Comme les bords du dessus et du dessous sont identiques, utilisez une autre fonction. De même, écrivez une fonction qui affiche une ligne pour rendre le code plus clair.\n",
    "\n",
    "Voici un exemple de sortie :\n",
    "\n",
    "```\n",
    "bool **ecran;\n",
    "struct chemin c;\n",
    "\n",
    "c.len = 20;\n",
    "c.dir = (int *)malloc(c.len*sizeof(int));\n",
    "c.dir[0] = c.dir[1] = c.dir[2] = c.dir[7] = c.dir[8] = c.dir[9] = c.dir[16] = c.dir[17] = c.dir[18] = N;\n",
    "c.dir[3] = c.dir[4] = c.dir[5] = c.dir[6] = c.dir[10] = c.dir[11] = c.dir[12] = c.dir[19] = E;\n",
    "c.dir[13] = c.dir[14] = S;\n",
    "c.dir[15] = W;\n",
    "\n",
    "\n",
    "ecran = (bool **)malloc(hauteur*sizeof(bool *));\n",
    "for(int i=0; i<hauteur; i=i+1){\n",
    "    ecran[i] = (bool *)malloc(largeur*sizeof(bool));\n",
    "    for(int j=0; j<largeur; j=j+1){\n",
    "        ecran[i][j] = true;\n",
    "    }\n",
    "}\n",
    "\n",
    "affiche(ecran);\n",
    "trace(c, ecran);\n",
    "```\n",
    "\n",
    "```\n",
    "+--------------------------------------------------------------------------------+\n",
    "|                                                                                |\n",
    "|                                                                                |\n",
    "|                                                                                |\n",
    "|                                                                                |\n",
    "|                                                                                |\n",
    "|                                                                                |\n",
    "|                                                                                |\n",
    "|                                                                                |\n",
    "|                                                                                |\n",
    "|                                                                                |\n",
    "|                                                                                |\n",
    "|                                                                                |\n",
    "|                                                                                |\n",
    "|                                                                                |\n",
    "|                                                                                |\n",
    "|                                                                                |\n",
    "|                                                                                |\n",
    "|                                                                                |\n",
    "|                                                                                |\n",
    "|                                                                                |\n",
    "|                                                                                |\n",
    "|                                                                                |\n",
    "|   xxxx                                                                         |\n",
    "|   xxxx                                                                         |\n",
    "|     x                                                                          |\n",
    "|  xxxx                                                                          |\n",
    "|  x                                                                             |\n",
    "|  x                                                                             |\n",
    "|  x                                                                             |\n",
    "|xxx                                                                             |\n",
    "+--------------------------------------------------------------------------------+\n",
    "```"
   ]
  },
  {
   "cell_type": "code",
   "execution_count": null,
   "id": "bf86cf41",
   "metadata": {
    "deletable": false,
    "nbgrader": {
     "cell_type": "code",
     "checksum": "087f17b92ce251d558d29d83144597ae",
     "grade": false,
     "grade_id": "cell-a897ec477bb01890",
     "locked": false,
     "schema_version": 3,
     "solution": true,
     "task": false
    }
   },
   "outputs": [],
   "source": [
    "// écrire le code ici\n",
    "throw new Error();//instruction C++, n'existe pas en C, à supprimer une fois le code écrit"
   ]
  },
  {
   "cell_type": "code",
   "execution_count": null,
   "id": "21c876a7",
   "metadata": {
    "deletable": false,
    "nbgrader": {
     "cell_type": "code",
     "checksum": "4ef53972caf9b98f3bee4f743ed85733",
     "grade": false,
     "grade_id": "cell-a897ec477bb01891",
     "locked": false,
     "schema_version": 3,
     "solution": true,
     "task": false
    }
   },
   "outputs": [],
   "source": [
    "// écrire le code ici\n",
    "throw new Error();//instruction C++, n'existe pas en C, à supprimer une fois le code écrit"
   ]
  },
  {
   "cell_type": "code",
   "execution_count": null,
   "id": "15f95871",
   "metadata": {
    "deletable": false,
    "nbgrader": {
     "cell_type": "code",
     "checksum": "024f7c4fb0b1d8417497ee1d2bb77c22",
     "grade": false,
     "grade_id": "cell-a897ec477bb01892",
     "locked": false,
     "schema_version": 3,
     "solution": true,
     "task": false
    }
   },
   "outputs": [],
   "source": [
    "// écrire le code ici\n",
    "throw new Error();//instruction C++, n'existe pas en C, à supprimer une fois le code écrit"
   ]
  },
  {
   "cell_type": "markdown",
   "id": "0ad2014a",
   "metadata": {
    "deletable": false,
    "editable": false,
    "nbgrader": {
     "cell_type": "markdown",
     "checksum": "6397856b14e862ad41e99ae7dec0b556",
     "grade": false,
     "grade_id": "cell-8abba7720998630a",
     "locked": true,
     "points": 1,
     "schema_version": 3,
     "solution": false,
     "task": true
    }
   },
   "source": [
    "Cette cellule me permettra de mettre un commentaire."
   ]
  },
  {
   "cell_type": "code",
   "execution_count": null,
   "id": "25b502b5",
   "metadata": {
    "deletable": false,
    "editable": false,
    "nbgrader": {
     "cell_type": "code",
     "checksum": "cbf2d333b2038c0d7d9c45448d92b587",
     "grade": false,
     "grade_id": "cell-a8695b7311418c4b",
     "locked": true,
     "schema_version": 3,
     "solution": false,
     "task": false
    }
   },
   "outputs": [],
   "source": [
    "bool **ecran;\n",
    "struct chemin c;\n",
    "\n",
    "c.len = 20;\n",
    "c.dir = (int *)malloc(c.len*sizeof(int));\n",
    "c.dir[0] = c.dir[1] = c.dir[2] = c.dir[7] = c.dir[8] = c.dir[9] = c.dir[16] = c.dir[17] = c.dir[18] = N;\n",
    "c.dir[3] = c.dir[4] = c.dir[5] = c.dir[6] = c.dir[10] = c.dir[11] = c.dir[12] = c.dir[19] = E;\n",
    "c.dir[13] = c.dir[14] = S;\n",
    "c.dir[15] = W;\n",
    "\n",
    "\n",
    "ecran = (bool **)malloc(hauteur*sizeof(bool *));\n",
    "for(int i=0; i<hauteur; i=i+1){\n",
    "    ecran[i] = (bool *)malloc(largeur*sizeof(bool));\n",
    "    for(int j=0; j<largeur; j=j+1){\n",
    "        ecran[i][j] = true;\n",
    "    }\n",
    "}"
   ]
  },
  {
   "cell_type": "code",
   "execution_count": null,
   "id": "e5370e50",
   "metadata": {
    "deletable": false,
    "editable": false,
    "nbgrader": {
     "cell_type": "code",
     "checksum": "93cd1bed2c51adf193801327da61eb1b",
     "grade": false,
     "grade_id": "cell-a3f4699bac91fc1f",
     "locked": true,
     "schema_version": 3,
     "solution": false,
     "task": false
    }
   },
   "outputs": [],
   "source": [
    "affiche(ecran)"
   ]
  },
  {
   "cell_type": "code",
   "execution_count": null,
   "id": "c5519341",
   "metadata": {
    "deletable": false,
    "editable": false,
    "nbgrader": {
     "cell_type": "code",
     "checksum": "6f3d854ece6fc406b51a9d5eec1484f9",
     "grade": false,
     "grade_id": "cell-54418413509168ad",
     "locked": true,
     "schema_version": 3,
     "solution": false,
     "task": false
    }
   },
   "outputs": [],
   "source": [
    "trace(c, ecran);\n",
    "affiche(ecran);"
   ]
  },
  {
   "cell_type": "markdown",
   "id": "5e259464",
   "metadata": {
    "deletable": false,
    "editable": false,
    "nbgrader": {
     "cell_type": "markdown",
     "checksum": "605c68d43f16e731c2bc26e5356667bb",
     "grade": false,
     "grade_id": "cell-86126f32c640c39d",
     "locked": true,
     "schema_version": 3,
     "solution": false,
     "task": false
    }
   },
   "source": [
    "### Exo 2 : Ensemble de Mandelbrot\n",
    "On considère un point $C$ du plan de coordonnées $(x_c,y_c)$ et une suite de points $(P_n)_{n\\geq 0}$ du plan. On note $(x_n, y_n)$ les coordonnées de $P_n$. Les coordonnées de $(P_n)_n$ sont obtenues par la relation de récurrence suivante :\n",
    "\n",
    "$$\\begin{array}{lcl}\n",
    "(x_0, y_0) &= & (0, 0)\\\\\n",
    "(x_{n+1}, y_{n+1}) &=& (x_n^2-y_n^2+x_c, 2x_ny_n+y_c)\n",
    "\\end{array}$$\n",
    "\n",
    "L'_ensemble de Mandelbrot_ est l'ensemble des points $C$ du plan pour lesquels la suite des points $(P_n)_n$ est bornée. On se propose d'obtenir une représentation graphique de cet ensemble.\n",
    "\n",
    "Tous les points du plan seront considérés à coordonnées réelles (car $(1,1)$ n'est déjà plus dans l'ensemble de Mandelbrot). Il faudra donc mettre à la bonne échelle pour faire la représentation graphique."
   ]
  },
  {
   "cell_type": "markdown",
   "id": "c84a3de5",
   "metadata": {
    "deletable": false,
    "editable": false,
    "nbgrader": {
     "cell_type": "markdown",
     "checksum": "14fad9549b6bf11f571bd82bd50a2e41",
     "grade": false,
     "grade_id": "cell-4ad24d22cab2d1c9",
     "locked": true,
     "schema_version": 3,
     "solution": false,
     "task": false
    }
   },
   "source": [
    "1. Écrire une fonction point suivant qui possède 6 paramètres (dans cet ordre pour les tests, abscisse puis ordonnée à chaque fois):\n",
    "\n",
    "* 2 paramètres pour les coordonnées d'un point de la suite\n",
    "* 2 paramètres pour les coordonnées de $C$\n",
    "* 2 paramètres pour les coordonnées du point suivant dans la suite\n",
    "\n",
    "et calcule les coordonnées du point suivant de la suite."
   ]
  },
  {
   "cell_type": "code",
   "execution_count": null,
   "id": "6449603b",
   "metadata": {
    "deletable": false,
    "nbgrader": {
     "cell_type": "code",
     "checksum": "1ec5877907bb1ed1baad0c9fcbe68b21",
     "grade": false,
     "grade_id": "cell-e562e5a06f3509ac",
     "locked": false,
     "schema_version": 3,
     "solution": true,
     "task": false
    }
   },
   "outputs": [],
   "source": [
    "// écrire le code ici\n",
    "throw new Error();//instruction C++, n'existe pas en C, à supprimer une fois le code écrit"
   ]
  },
  {
   "cell_type": "code",
   "execution_count": null,
   "id": "73c7e97e",
   "metadata": {
    "deletable": false,
    "editable": false,
    "nbgrader": {
     "cell_type": "code",
     "checksum": "acc296a20dde09d2bec9f1ffa0072c67",
     "grade": true,
     "grade_id": "cell-8a2452aca4b5b975",
     "locked": true,
     "points": 1,
     "schema_version": 3,
     "solution": false,
     "task": false
    }
   },
   "outputs": [],
   "source": [
    "double x, y;\n",
    "double epsilon = 0.00001;\n",
    "\n",
    "point_suivant(0, 0, 0, 0, &x, &y);\n",
    "ASSERT(fabs(x)<epsilon && fabs(y)<epsilon);\n",
    "\n",
    "point_suivant(1, 1, 2, 3, &x, &y);\n",
    "ASSERT(fabs(x-2)<epsilon && fabs(y-5)<epsilon);\n",
    "\n",
    "point_suivant(1.5, -2.3, -2, .5, &x, &y);\n",
    "ASSERT(fabs(x+5.04)<epsilon && fabs(y+6.4)<epsilon)"
   ]
  },
  {
   "cell_type": "markdown",
   "id": "0140239c",
   "metadata": {
    "deletable": false,
    "editable": false,
    "nbgrader": {
     "cell_type": "markdown",
     "checksum": "9e148f2d7a54344f588491de585f99af",
     "grade": false,
     "grade_id": "cell-73fd322c65ae4a1c",
     "locked": true,
     "schema_version": 3,
     "solution": false,
     "task": false
    }
   },
   "source": [
    "On donne la fonction suivante qui permet de calculer la norme au carré d'un point :"
   ]
  },
  {
   "cell_type": "code",
   "execution_count": null,
   "id": "5b34102e",
   "metadata": {
    "deletable": false,
    "editable": false,
    "nbgrader": {
     "cell_type": "code",
     "checksum": "3a0fc7045b9721dd2691743c2e063c79",
     "grade": false,
     "grade_id": "cell-7914b82dffb0c69c",
     "locked": true,
     "schema_version": 3,
     "solution": false,
     "task": false
    }
   },
   "outputs": [],
   "source": [
    "double norme_carree(double x, double y){\n",
    "    return x*x + y*y;\n",
    "}"
   ]
  },
  {
   "cell_type": "markdown",
   "id": "3656a406",
   "metadata": {
    "deletable": false,
    "editable": false,
    "nbgrader": {
     "cell_type": "markdown",
     "checksum": "7bdc2ef22d11cb92b7e17c46142dbd54",
     "grade": false,
     "grade_id": "cell-bf13cbd0050f9f4b",
     "locked": true,
     "schema_version": 3,
     "solution": false,
     "task": false
    }
   },
   "source": [
    "2. En considérant que la suite des normes des $P_n$ est non bornée si au plus tard au bout de de 100 itérations, le point obtenu a atteint ou dépasser 2 en norme, écrire une fonction `suite_bornee` qui prend en argument l'abscisse et l'ordonnée du point $C$ et teste si la suite des normes est bornée."
   ]
  },
  {
   "cell_type": "code",
   "execution_count": null,
   "id": "fa133ddf",
   "metadata": {
    "deletable": false,
    "nbgrader": {
     "cell_type": "code",
     "checksum": "2a153694b9365dc07c98da6d2af62dc5",
     "grade": false,
     "grade_id": "cell-37f1f8f185309274",
     "locked": false,
     "schema_version": 3,
     "solution": true,
     "task": false
    }
   },
   "outputs": [],
   "source": [
    "// écrire le code ici\n",
    "throw new Error();//instruction C++, n'existe pas en C, à supprimer une fois le code écrit"
   ]
  },
  {
   "cell_type": "code",
   "execution_count": null,
   "id": "29d89636",
   "metadata": {
    "deletable": false,
    "editable": false,
    "nbgrader": {
     "cell_type": "code",
     "checksum": "317f14cbcbd24936616a9d5e9263a3a8",
     "grade": true,
     "grade_id": "cell-1d6bcdc08195b164",
     "locked": true,
     "points": 1,
     "schema_version": 3,
     "solution": false,
     "task": false
    }
   },
   "outputs": [],
   "source": [
    "ASSERT(suite_bornee(0,0));\n",
    "ASSERT(!suite_bornee(1,1));\n",
    "ASSERT(suite_bornee(.01,.01));\n",
    "ASSERT(!suite_bornee(1,0));"
   ]
  },
  {
   "cell_type": "markdown",
   "id": "5988955e",
   "metadata": {
    "deletable": false,
    "editable": false,
    "nbgrader": {
     "cell_type": "markdown",
     "checksum": "bebf4c93458d73d1840ba44c4cce370c",
     "grade": false,
     "grade_id": "cell-a059633ff32a18b1",
     "locked": true,
     "schema_version": 3,
     "solution": false,
     "task": false
    }
   },
   "source": [
    "3. Écrire une fonction `mandelbrot` qui prend en argument deux entiers représentant la hauteur et la largeur d'une fenêtre et renvoyant un double pointeur sur booléen. Une case de ce tableau vaut `true` si et seulement si le point qu'elle représente est dans l'ensemble de Mandelbrot (attention à l'échelle : les points de l'ensemble de Mandelbrot ont des coordonnées de valeur absolue inférieure à 1). Je fournis en dessous une fonction `sauvegarder` qui permet de regarder le résultat visuel de votre fonction."
   ]
  },
  {
   "cell_type": "code",
   "execution_count": null,
   "id": "2ba11ccc",
   "metadata": {
    "deletable": false,
    "nbgrader": {
     "cell_type": "code",
     "checksum": "0524b62f1849653d4209954d5690b94f",
     "grade": false,
     "grade_id": "cell-e935759e4db86da4",
     "locked": false,
     "schema_version": 3,
     "solution": true,
     "task": false
    }
   },
   "outputs": [],
   "source": [
    "// écrire le code ici\n",
    "throw new Error();//instruction C++, n'existe pas en C, à supprimer une fois le code écrit"
   ]
  },
  {
   "cell_type": "markdown",
   "id": "eeea748b",
   "metadata": {
    "deletable": false,
    "editable": false,
    "nbgrader": {
     "cell_type": "markdown",
     "checksum": "d7d1263921bbc726b4d52e3993e59fbe",
     "grade": false,
     "grade_id": "cell-745832be8d160479",
     "locked": true,
     "points": 1,
     "schema_version": 3,
     "solution": false,
     "task": true
    }
   },
   "source": [
    "Cette cellule me permettra de mettre un commentaire."
   ]
  },
  {
   "cell_type": "code",
   "execution_count": null,
   "id": "3d85e94f",
   "metadata": {
    "deletable": false,
    "editable": false,
    "nbgrader": {
     "cell_type": "code",
     "checksum": "85a32e9d250c765f571d40710d32d25e",
     "grade": false,
     "grade_id": "cell-0f31c3cac48a95af",
     "locked": true,
     "schema_version": 3,
     "solution": false,
     "task": false
    }
   },
   "outputs": [],
   "source": [
    "#include <stdlib.h>\n",
    "#include <sys/types.h>\n",
    "#include <unistd.h>\n",
    "#include <sys/wait.h>\n",
    "\n",
    "/** fichier : nom de fichier d'extension .png\n",
    " * img : tableau bidimensionnel de booléens de dimensions hxl\n",
    " * sortie : image sauvegardée dans le fichier\n",
    " */\n",
    "void sauvegarder(const char *fichier, bool **img, int h, int l){\n",
    "    FILE *file;\n",
    "    int val;\n",
    "    \n",
    "    // ce qui suit sera vu plus tard dans l'année\n",
    "    file = fopen(\"toto.ppm\", \"w\");\n",
    "    fprintf(file, \"P3\\n%d %d\\n%d\\n\", l, h, 1);\n",
    "    for(int j=0; j<h; j++){\n",
    "        for(int i=0; i<l; i++){\n",
    "            val = img[i][j] ? 0 : 1;\n",
    "            fprintf(file, \"%d %d %d \", val, val, val);\n",
    "        }\n",
    "        fprintf(file, \"\\n\");\n",
    "    }    \n",
    "    fclose(file);\n",
    "        \n",
    "    // ce qui suit est complètement hors programme\n",
    "    if(fork()==0){\n",
    "        execl(\"/usr/bin/convert\", \"convert\", \"toto.ppm\", fichier, NULL);\n",
    "    }\n",
    "    wait(NULL);\n",
    "}"
   ]
  },
  {
   "cell_type": "code",
   "execution_count": null,
   "id": "09718ae5",
   "metadata": {
    "deletable": false,
    "editable": false,
    "nbgrader": {
     "cell_type": "code",
     "checksum": "393795ff5dc5200fb8ffa542e15e09f2",
     "grade": false,
     "grade_id": "cell-0ab34daff216fa50",
     "locked": true,
     "schema_version": 3,
     "solution": false,
     "task": false
    }
   },
   "outputs": [],
   "source": [
    "// on profite d'être dans jupyter pour écrire ça\n",
    "int h=500, l=500;\n",
    "sauvegarder(\"mandel.png\", mandelbrot(h, l), h, l);"
   ]
  },
  {
   "cell_type": "markdown",
   "id": "114f6a4a",
   "metadata": {
    "deletable": false,
    "editable": false,
    "nbgrader": {
     "cell_type": "markdown",
     "checksum": "b5309f17d9acb51f9b995441fc6abda0",
     "grade": false,
     "grade_id": "cell-56fa8ef2a79e58c2",
     "locked": true,
     "schema_version": 3,
     "solution": false,
     "task": false
    }
   },
   "source": [
    "L'image obtenue doit ressembler à ça : ![](mandel_modele.png)\n",
    "\n",
    "Vous pouvez voir votre image ici : [mandel.png](mandel.png) (je ne la mets pas directement dans le notebook pour contrer le cache de votre navigateur, au cas où vous auriez besoin de faire plusieurs tentatives)."
   ]
  },
  {
   "cell_type": "markdown",
   "id": "cd7c9aab",
   "metadata": {
    "deletable": false,
    "editable": false,
    "nbgrader": {
     "cell_type": "markdown",
     "checksum": "8fdf0bc578a995338e39ef73a0498f40",
     "grade": false,
     "grade_id": "cell-fcee3102dd2de6a0",
     "locked": true,
     "schema_version": 3,
     "solution": false,
     "task": false
    }
   },
   "source": [
    "### Exo 3 : Ensemble de Julia\n",
    "Soit un point $C$ du plan, l'ensemble de Julia de $C$ est l'ensemble des points $(x_0, y_0)$ pour lesquels la suite $(P_n)_{n\\geq 0}$ telle que définie à l'exercice précédent est bornée.\n",
    "\n",
    "À vous de jouer ! (Vous pouvez réutiliser `sauvegarder` pour créer une image; il faut que l'extension du nom fourni soit `.png`. N'oubliez pas que le noyau `C++` que nous utilisons n'autorise l'écriture que d'une fonction par cellule.)"
   ]
  }
 ],
 "metadata": {
  "kernelspec": {
   "display_name": "C++11",
   "language": "C++11",
   "name": "xcpp11"
  },
  "language_info": {
   "codemirror_mode": "text/x-c++src",
   "file_extension": ".cpp",
   "mimetype": "text/x-c++src",
   "name": "c++",
   "version": "11"
  }
 },
 "nbformat": 4,
 "nbformat_minor": 5
}
