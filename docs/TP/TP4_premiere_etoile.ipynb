{
 "cells": [
  {
   "cell_type": "markdown",
   "id": "6a43c5d4",
   "metadata": {
    "deletable": false,
    "editable": false,
    "nbgrader": {
     "cell_type": "markdown",
     "checksum": "b70fb27d515b33af569e19ca57531b6e",
     "grade": false,
     "grade_id": "cell-dfcd7199489b7abc",
     "locked": true,
     "schema_version": 3,
     "solution": false,
     "task": false
    }
   },
   "source": [
    "# Informatique - MP2I\n",
    "---"
   ]
  },
  {
   "cell_type": "markdown",
   "id": "f5fcd265",
   "metadata": {
    "deletable": false,
    "editable": false,
    "nbgrader": {
     "cell_type": "markdown",
     "checksum": "56060849dbc488fabda7c0eff5eee61f",
     "grade": false,
     "grade_id": "cell-807ecfa1ba29bd9f",
     "locked": true,
     "schema_version": 3,
     "solution": false,
     "task": false
    }
   },
   "source": [
    "# TP4 : tableaux et pointeurs\n",
    "## première étoile : pour ceux qui ont déjà programmé avant\n",
    "\n",
    "Comme les pointeurs sont une nouvelle notion, je ne peux que vous encourager à essayer de faire rapidement le [sujet flocon](TP4_flocon.ipynb) avant de vous attaquer à celui-ci, d'autant qu'il contient un exercice sur le tri par dénombrement qui en soit est intéressant dans la grande famille des tris (excellente complexité dans certains cas)."
   ]
  },
  {
   "cell_type": "code",
   "execution_count": null,
   "id": "548d11e5",
   "metadata": {
    "deletable": false,
    "editable": false,
    "nbgrader": {
     "cell_type": "code",
     "checksum": "e38d843fa7050adb223dd58be64ce98d",
     "grade": false,
     "grade_id": "cell-4cb6a674c708cfe8",
     "locked": true,
     "schema_version": 3,
     "solution": false,
     "task": false
    }
   },
   "outputs": [],
   "source": [
    "/* cette cellule doit être exécutée pour les tests des autres cellules\n",
    "   attention : c'est du C++ */\n",
    "#ifndef ASSERT\n",
    "#define ASSERT(C) if ( !(C) ) { throw std::runtime_error(\"\\x1b[48;5;224mTest failed: \"#C); }\n",
    "#endif"
   ]
  },
  {
   "cell_type": "markdown",
   "id": "e640959d",
   "metadata": {
    "deletable": false,
    "editable": false,
    "nbgrader": {
     "cell_type": "markdown",
     "checksum": "d74edfe5c6e01b7e5c27948e8ce28600",
     "grade": false,
     "grade_id": "cell-6e05563d5117d959",
     "locked": true,
     "schema_version": 3,
     "solution": false,
     "task": false
    }
   },
   "source": [
    "### Exo 1 : Triangle de Pascal\n",
    "Le triangle de pascal est une technique qui permet d'obtenir une généralisation de l'identité remarquable $(a+b)^2 = a^2 + 2ab + b^2$, en donnant les coefficients de $(a+b)^n$. Pour rappel, ces coefficients sont les coefficients binomiaux :\n",
    "$$(a+b)^n = \\sum\\limits_{k=0}^{n} C_n^k a^kb^{n-k}\\:.$$\n",
    "\n",
    "Le principe est le suivant : on part du tableau $t_0=\\begin{array}{|c|}\\hline  1 \\\\\\hline\\end{array}$ et on crée un nouveau tableau $t_1$ contenant une case de plus que $t_0$ tel que la première et la dernière case de ce tableau valent toutes les deux 1, et la $i^e$ case de $t_1$ , pour toute autre valeur de $i$, vaut $t_0[i-1]+t_0[i]$. Et ainsi de suite.\n",
    "\n",
    "On obtient ainsi : $t_1 = \\begin{array}{|c|c|}\\hline  1 & 1\\\\\\hline\\end{array}$, $t_2= \\begin{array}{|c|c|c|}\\hline  1 & 2 & 1\\\\\\hline\\end{array}$ et $t_3 = \\begin{array}{|c|c|c|c|}\\hline  1 & 3 & 3 & 1\\\\\\hline\\end{array}$."
   ]
  },
  {
   "cell_type": "markdown",
   "id": "09eb632c",
   "metadata": {
    "deletable": false,
    "editable": false,
    "nbgrader": {
     "cell_type": "markdown",
     "checksum": "f9ca6a9402e4a60f5e159754bb5a5e98",
     "grade": false,
     "grade_id": "cell-aebbfafcae50ebc0",
     "locked": true,
     "schema_version": 3,
     "solution": false,
     "task": false
    }
   },
   "source": [
    "1. Écrire une fonction `ligne_suivante` qui prend en argument un tableau d'entiers `uint8_t` supposé être une ligne dans le triangle de Pascal et sa longueur (sans avoir à le vérifier) et renvoie la ligne suivante sous la forme d'un tableau."
   ]
  },
  {
   "cell_type": "code",
   "execution_count": null,
   "id": "6611902f",
   "metadata": {
    "deletable": false,
    "nbgrader": {
     "cell_type": "code",
     "checksum": "d94c98f7237357984f70c976b2f2b3a2",
     "grade": false,
     "grade_id": "cell-ee1d40c7c71a0a66",
     "locked": false,
     "schema_version": 3,
     "solution": true,
     "task": false
    }
   },
   "outputs": [],
   "source": [
    "// écrire le code ici\n",
    "throw new Error();//instruction C++, n'existe pas en C, à supprimer une fois le code écrit"
   ]
  },
  {
   "cell_type": "code",
   "execution_count": null,
   "id": "de066878",
   "metadata": {
    "deletable": false,
    "editable": false,
    "nbgrader": {
     "cell_type": "code",
     "checksum": "a196032cc60fc544a2c1bc52c93f283a",
     "grade": true,
     "grade_id": "cell-d4e4a7a0d49e9887",
     "locked": true,
     "points": 1,
     "schema_version": 3,
     "solution": false,
     "task": false
    }
   },
   "outputs": [],
   "source": [
    "uint8_t p0[] = {1};\n",
    "uint8_t *p1, *p2, *p3, *p4, *p5;\n",
    "\n",
    "p1 = ligne_suivante(p0, 1);\n",
    "ASSERT(p1[0] == 1); ASSERT(p1[1] == 1);\n",
    "\n",
    "p2 = ligne_suivante(p1, 2);\n",
    "free(p1);\n",
    "ASSERT(p2[0] == 1); ASSERT(p2[1] == 2); ASSERT(p2[2] == 1);\n",
    "\n",
    "p3 = ligne_suivante(p2, 3);\n",
    "free(p2);\n",
    "ASSERT(p3[0] == 1); ASSERT(p3[1] == 3); ASSERT(p3[2] == 3); ASSERT(p3[3] == 1); \n",
    "\n",
    "p4 = ligne_suivante(p3, 4);\n",
    "free(p3);\n",
    "p5 = ligne_suivante(p4, 5);\n",
    "free(p4);\n",
    "ASSERT(p5[1] == 5); ASSERT(p5[3] == 10);\n",
    "free(p5);\n"
   ]
  },
  {
   "cell_type": "markdown",
   "id": "58540238",
   "metadata": {
    "deletable": false,
    "editable": false,
    "nbgrader": {
     "cell_type": "markdown",
     "checksum": "6ebe5df47c77ab809a12d8b437630156",
     "grade": false,
     "grade_id": "cell-c2dcc57c4b436915",
     "locked": true,
     "schema_version": 3,
     "solution": false,
     "task": false
    }
   },
   "source": [
    "Écrire et documenter une fonction `triangle_de_Pascal` qui prend en argument un entier $n$ et affiche les $n+1$ premiers niveaux du triangle de Pascal. Si $n$ vaut 4, on s'attend à l'affichage\n",
    "```bash\n",
    "1\n",
    "1 1\n",
    "1 2 1\n",
    "1 3 3 1\n",
    "```"
   ]
  },
  {
   "cell_type": "code",
   "execution_count": null,
   "id": "b36fcd3f",
   "metadata": {
    "deletable": false,
    "nbgrader": {
     "cell_type": "code",
     "checksum": "4c672e54b5a6feb2907e83f3b88250e2",
     "grade": true,
     "grade_id": "cell-5d1ab6bd235bb844",
     "locked": false,
     "points": 1,
     "schema_version": 3,
     "solution": true,
     "task": false
    }
   },
   "outputs": [],
   "source": [
    "// écrire le code ici\n",
    "throw new Error();//instruction C++, n'existe pas en C, à supprimer une fois le code écrit"
   ]
  },
  {
   "cell_type": "code",
   "execution_count": null,
   "id": "3abd00ad",
   "metadata": {
    "deletable": false,
    "editable": false,
    "nbgrader": {
     "cell_type": "code",
     "checksum": "ece3b982e185286caa957022f6c58218",
     "grade": false,
     "grade_id": "cell-b5a0ec83e9e60ba8",
     "locked": true,
     "schema_version": 3,
     "solution": false,
     "task": false
    }
   },
   "outputs": [],
   "source": [
    "triangle_de_Pascal(10)"
   ]
  },
  {
   "cell_type": "markdown",
   "id": "e6ac963f",
   "metadata": {
    "deletable": false,
    "editable": false,
    "nbgrader": {
     "cell_type": "markdown",
     "checksum": "f649a4f794be3d25e12f3df5da94b196",
     "grade": false,
     "grade_id": "cell-1e7d7c93467b01d1",
     "locked": true,
     "schema_version": 3,
     "solution": false,
     "task": false
    }
   },
   "source": [
    "### Exo 2 : Circulation automobile\n",
    "Dans cet exercice nous allons simuler (de façon très simplifiée) la circulation automobile sur une route à une seule voie (et dans un seul sens! qui sera de droite à gauche pour des raisons esthétiques). L'idée est la suivante : on discrétise la route qui est donc assimilée à un tableau de petits entiers à $n$ cases (0 : la case est libre, sinon elle est occupée); si au temps $t$, un véhicule $v$ se trouve en case $i$, alors :\n",
    "\n",
    "* si la case $i-1$ est libre au temps $t$, le véhicule $v$ se retrouvera en case $i-1$ au temps $t+1$,\n",
    "* si la case $i-1$ est occupée au temps $t$, le véhicule $v$ reste en case $i$ au temps $t+1$.\n",
    "\n",
    "Pour les cases extrêmales, on impose le comportement suivant :\n",
    "\n",
    "* le véhicule en position 0 sort du champ de notre vue systématiquement,\n",
    "* si la case $n-1$ est libre au temps $t$, alors un véhicule arrive de façon aléatoire dans cette case au temps $t+1$,\n",
    "* si la case $n-1$ est occupée au temps $t$, alors aucun véhicule n'arrive dans cette case au temps $t+1$.\n"
   ]
  },
  {
   "cell_type": "markdown",
   "id": "9337cbce",
   "metadata": {
    "deletable": false,
    "editable": false,
    "nbgrader": {
     "cell_type": "markdown",
     "checksum": "9737c304ed84913aca3c2fddabd737b6",
     "grade": false,
     "grade_id": "cell-087d7c274a47e317",
     "locked": true,
     "schema_version": 3,
     "solution": false,
     "task": false
    }
   },
   "source": [
    "Nous allons fabriquer un modèle où il y a 4 types de véhicules (1, 2, 3 et 4; pour rappel 0 signifie que la portion de route est libre). La fonction suivante permet de fabriquer aléatoirement un véhicule (ou une portion de route vide) :"
   ]
  },
  {
   "cell_type": "code",
   "execution_count": null,
   "id": "5e01999a",
   "metadata": {
    "deletable": false,
    "editable": false,
    "nbgrader": {
     "cell_type": "code",
     "checksum": "ba0069e625eaa53ef21de2510c544b6b",
     "grade": false,
     "grade_id": "cell-1b105216f9119302",
     "locked": true,
     "schema_version": 3,
     "solution": false,
     "task": false
    }
   },
   "outputs": [],
   "source": [
    "#include <stdlib.h>\n",
    "#include <stdbool.h>\n",
    "\n",
    "/** frequence : la route est libre avec frequence 1/frequence\n",
    " * sortie : un entier entre 0 et 4 qui représente soit une portion de route libre, soit un type de véhicule\n",
    " */\n",
    "uint8_t vehicule(int frequence){\n",
    "    if(random()%frequence==0){\n",
    "        return 0;\n",
    "    } else {\n",
    "        return (random()%4) + 1;\n",
    "    }\n",
    "}"
   ]
  },
  {
   "cell_type": "markdown",
   "id": "4db5a200",
   "metadata": {
    "deletable": false,
    "editable": false,
    "nbgrader": {
     "cell_type": "markdown",
     "checksum": "6e843aca7398ec36b8d35748e54c7c4f",
     "grade": false,
     "grade_id": "cell-1c1e04295d17d9d7",
     "locked": true,
     "schema_version": 3,
     "solution": false,
     "task": false
    }
   },
   "source": [
    "1. Écrire et documenter une fonction qui prend en argument deux entiers : la longueur visible de la route (=son nombre de cases) et la fréquence d'occupation au sens de la fonction `vehicule`, et renvoie un tableau de `uint8_t` de la bonne taille, dont chaque case contient 0 ou un entier représentant un type de véhicule (en utilisant la fonction `vehicule` fournie ci-dessus)."
   ]
  },
  {
   "cell_type": "code",
   "execution_count": null,
   "id": "567483d5",
   "metadata": {
    "deletable": false,
    "nbgrader": {
     "cell_type": "code",
     "checksum": "4680e7abf255acb85cf2739ee4486c2c",
     "grade": false,
     "grade_id": "cell-5e1cad9b8472dc75",
     "locked": false,
     "schema_version": 3,
     "solution": true,
     "task": false
    }
   },
   "outputs": [],
   "source": [
    "// écrire le code ici\n",
    "throw new Error();//instruction C++, n'existe pas en C, à supprimer une fois le code écrit"
   ]
  },
  {
   "cell_type": "code",
   "execution_count": null,
   "id": "8b8e708a",
   "metadata": {
    "deletable": false,
    "editable": false,
    "nbgrader": {
     "cell_type": "code",
     "checksum": "e2308344d119e9367c4f65835b81027b",
     "grade": true,
     "grade_id": "cell-12c774fb12b7e0a2",
     "locked": true,
     "points": 1,
     "schema_version": 3,
     "solution": false,
     "task": false
    }
   },
   "outputs": [],
   "source": [
    "uint8_t *test = init(15, 4);\n",
    "for(int i=0; i<15; i = i+1){\n",
    "    ASSERT(test[i]>=0 && test[i]<=4);\n",
    "}\n",
    "free(test);"
   ]
  },
  {
   "cell_type": "markdown",
   "id": "539c877c",
   "metadata": {
    "deletable": false,
    "editable": false,
    "nbgrader": {
     "cell_type": "markdown",
     "checksum": "5f5e4c879c364aed742b4a9b19e8d497",
     "grade": false,
     "grade_id": "cell-6929842a1d65941b",
     "locked": true,
     "schema_version": 3,
     "solution": false,
     "task": false
    }
   },
   "source": [
    "2. Écrire et documenter une fonction `next` qui prend en argument l'état de la route (=le tableau qui décrit son occupation), sa longueur et la frequence, et calcule l'état suivant de la route."
   ]
  },
  {
   "cell_type": "code",
   "execution_count": null,
   "id": "d39e4a6a",
   "metadata": {
    "deletable": false,
    "nbgrader": {
     "cell_type": "code",
     "checksum": "d263ec9a02c2c037d679886657f7b330",
     "grade": false,
     "grade_id": "cell-85470463b3419fd2",
     "locked": false,
     "schema_version": 3,
     "solution": true,
     "task": false
    }
   },
   "outputs": [],
   "source": [
    "// écrire le code ici\n",
    "throw new Error();//instruction C++, n'existe pas en C, à supprimer une fois le code écrit"
   ]
  },
  {
   "cell_type": "code",
   "execution_count": null,
   "id": "9ff05dec",
   "metadata": {
    "deletable": false,
    "editable": false,
    "nbgrader": {
     "cell_type": "code",
     "checksum": "ac3e242acd64f7f8c74f43714dcde093",
     "grade": true,
     "grade_id": "cell-6b738b10399ba228",
     "locked": true,
     "points": 1,
     "schema_version": 3,
     "solution": false,
     "task": false
    }
   },
   "outputs": [],
   "source": [
    "uint8_t test[] = {0, 1, 2, 0, 0, 0, 3, 0, 4, 3, 2};\n",
    "uint8_t *test2 = next(test, 11, 3);\n",
    "ASSERT(test2[0] == 1);\n",
    "ASSERT(test2[1] == 0);\n",
    "ASSERT(test2[2] == 2);\n",
    "ASSERT(test2[3] == 0);\n",
    "ASSERT(test2[4] == 0);\n",
    "ASSERT(test2[5] == 3);\n",
    "ASSERT(test2[6] == 0);\n",
    "ASSERT(test2[7] == 4);\n",
    "ASSERT(test2[8] == 0);\n",
    "ASSERT(test2[9] == 3);\n",
    "ASSERT(test2[10] == 2);\n",
    "free(test2);"
   ]
  },
  {
   "cell_type": "markdown",
   "id": "73af3cbd",
   "metadata": {
    "deletable": false,
    "editable": false,
    "nbgrader": {
     "cell_type": "markdown",
     "checksum": "e8ca16dd5552e104885244b32d0a3472",
     "grade": false,
     "grade_id": "cell-6f30935ec1621043",
     "locked": true,
     "schema_version": 3,
     "solution": false,
     "task": false
    }
   },
   "source": [
    "3. La fonction ci-dessous permet d'afficher la route à un moment donné. Notez la composition entre tableaux `voiture[route[i]]`."
   ]
  },
  {
   "cell_type": "code",
   "execution_count": null,
   "id": "4b13df6f",
   "metadata": {
    "deletable": false,
    "editable": false,
    "nbgrader": {
     "cell_type": "code",
     "checksum": "0269849213cdb0f672ff1409927243ad",
     "grade": false,
     "grade_id": "cell-ffb92694229e1939",
     "locked": true,
     "schema_version": 3,
     "solution": false,
     "task": false
    }
   },
   "outputs": [],
   "source": [
    "#include <stdio.h>\n",
    "#include <wchar.h>\n",
    "\n",
    "/** route : état de la route\n",
    " * n : longueur de la route\n",
    " * sortie : affichage de la route\n",
    " */\n",
    "void affiche(uint8_t *route, int n){\n",
    "    //le type wint_t est hors programme\n",
    "    wint_t voiture[] = {'=',(wint_t)128663, (wint_t)128665, (wint_t)128661, (wint_t)127949};\n",
    "    //cette instruction est hors programme et permet l'affichage des caractères bizarres au-dessus;\n",
    "    setlocale(LC_ALL, \"\");\n",
    "    for(int i=0; i<n; i++){\n",
    "        printf(\"%lc\", voiture[route[i]]);\n",
    "    }\n",
    "    printf(\"\\n\");\n",
    "}"
   ]
  },
  {
   "cell_type": "markdown",
   "id": "e2a84824",
   "metadata": {
    "deletable": false,
    "editable": false,
    "nbgrader": {
     "cell_type": "markdown",
     "checksum": "48af69bd69070346ef40d43b0639f5b2",
     "grade": false,
     "grade_id": "cell-bc14d55aef58402b",
     "locked": true,
     "schema_version": 3,
     "solution": false,
     "task": false
    }
   },
   "source": [
    "Compléter hors de toute fonction (en profitant que cette possibilité nous est offerte par jupyter) le code suivant qui permet d'afficher l'état de la route en fonction du temps (une ligne par clic d'horloge)."
   ]
  },
  {
   "cell_type": "code",
   "execution_count": null,
   "id": "22c3d5d1",
   "metadata": {
    "deletable": false,
    "nbgrader": {
     "cell_type": "code",
     "checksum": "328f46ebb328358b6c25dd0e6494a6b4",
     "grade": true,
     "grade_id": "cell-b69b4c70950b31fd",
     "locked": false,
     "points": 1,
     "schema_version": 3,
     "solution": true,
     "task": false
    }
   },
   "outputs": [],
   "source": [
    "int n = 60;\n",
    "int frequence = 2;\n",
    "//initialisation de la route et affichage du temps 0\n",
    "uint8_t *route = init(n, frequence);\n",
    "affiche(route, n);\n",
    "//afficher jusqu'au temps 30\n",
    "// écrire le code ici\n",
    "throw new Error();//instruction C++, n'existe pas en C, à supprimer une fois le code écrit"
   ]
  },
  {
   "cell_type": "markdown",
   "id": "adcf34ad",
   "metadata": {
    "deletable": false,
    "editable": false,
    "nbgrader": {
     "cell_type": "markdown",
     "checksum": "bab48c5037d760745ecbabf15f0ca4dd",
     "grade": false,
     "grade_id": "cell-f5cda0d467ff9223",
     "locked": true,
     "schema_version": 3,
     "solution": false,
     "task": false
    }
   },
   "source": [
    "### Exo 3 : Courbe de von Koch\n",
    "La courbe de Koch est obtenue par un procédé itératif illustré par la figure ci-dessous : on part d'un segment, on supprime son tiers du milieu et on le remplace par les deux autres côtés pour former un triangle équilatéral, toujours vers l'extérieur de la figure (définition pas très mathématique, j'en conviens, mais l'animation doit être claire, même si elle ne fait pas apparaître le segment initial).\n",
    "\n",
    "![](https://upload.wikimedia.org/wikipedia/commons/b/bf/Koch_anime.gif)\n",
    "\n",
    "Dans cet exercice, on se propose de construire deux tableaux contenant respectivement les abscisses et les ordonnées des sommets de la courbe, en supposant que le segment de départ relie l'origine du repère $(0,0)$ au point $(1,0)$."
   ]
  },
  {
   "cell_type": "markdown",
   "id": "7947bbec",
   "metadata": {
    "deletable": false,
    "editable": false,
    "nbgrader": {
     "cell_type": "markdown",
     "checksum": "dbcaf7046ef5708488c5b1510cd3bea8",
     "grade": false,
     "grade_id": "cell-4ae62c4ef6a06216",
     "locked": true,
     "schema_version": 3,
     "solution": false,
     "task": false
    }
   },
   "source": [
    "Si on considère un segment $[A, B]$ de la courbe pour une itération donnée, il est assez simple de trouver les coordonnées des tiers du segment en fonction des coordonnées de $A$ et de $B$, et je vous laisse le faire. Supposons que ces coordonnées soient $(x_1, y_1)$ et $(x_2, y_2)$ dans l'ordre de parcours de la courbe de gauche à droite.\n",
    "\n",
    "Comme tout le monde n'a pas fait Maths Expertes, je vous donne les coordonnées $(x_3, y_3)$ du 3e point du triangle équilatéral (mais il suffit d'exprimer une rotation en complexes pour les trouver) :\n",
    "$$\\begin{align*}\n",
    "x_3 & = x_1 + (x_2-x_1)\\cos\\alpha - (y_2-y_1)\\sin\\alpha\\\\\n",
    "y_3 & = y_1 + (x_2-x_1)\\sin\\alpha + (y_2-y_1)\\cos\\alpha\\\\\n",
    "\\end{align*}$$ où $\\alpha=\\pi/3$."
   ]
  },
  {
   "cell_type": "markdown",
   "id": "ebbc46db",
   "metadata": {
    "deletable": false,
    "editable": false,
    "nbgrader": {
     "cell_type": "markdown",
     "checksum": "c0d1173b6fa2cdd10b5690bedcd44772",
     "grade": false,
     "grade_id": "cell-4ce0db90d554929d",
     "locked": true,
     "schema_version": 3,
     "solution": false,
     "task": false
    }
   },
   "source": [
    "1. Écrire une fonction `init_x` qui renvoie un tableau avec les abscisses des deux extrêmités du segment initial."
   ]
  },
  {
   "cell_type": "code",
   "execution_count": null,
   "id": "441b4db9",
   "metadata": {
    "deletable": false,
    "nbgrader": {
     "cell_type": "code",
     "checksum": "868c1ab32b2bd9c5eb2fc8a7411451d8",
     "grade": false,
     "grade_id": "cell-ae6c7dff6d389129",
     "locked": false,
     "schema_version": 3,
     "solution": true,
     "task": false
    }
   },
   "outputs": [],
   "source": [
    "// écrire le code ici\n",
    "throw new Error();//instruction C++, n'existe pas en C, à supprimer une fois le code écrit"
   ]
  },
  {
   "cell_type": "code",
   "execution_count": null,
   "id": "f714a29c",
   "metadata": {
    "deletable": false,
    "editable": false,
    "nbgrader": {
     "cell_type": "code",
     "checksum": "c248b8971f54bb2e8ad349dcb43e00d2",
     "grade": true,
     "grade_id": "cell-13341e7033a6b731",
     "locked": true,
     "points": 1,
     "schema_version": 3,
     "solution": false,
     "task": false
    }
   },
   "outputs": [],
   "source": [
    "double epsilon = 0.00001;\n",
    "double *test = init_x();\n",
    "ASSERT(fabs(test[0])<epsilon);\n",
    "ASSERT(fabs(test[1]-1)<epsilon);\n",
    "free(test);"
   ]
  },
  {
   "cell_type": "markdown",
   "id": "69709688",
   "metadata": {
    "deletable": false,
    "editable": false,
    "nbgrader": {
     "cell_type": "markdown",
     "checksum": "6a322562862b69a210ba723d5ce9b8a8",
     "grade": false,
     "grade_id": "cell-f67b317308b85397",
     "locked": true,
     "schema_version": 3,
     "solution": false,
     "task": false
    }
   },
   "source": [
    "2. Écrire une fonction `init_y` qui renvoie un tableau avec les abscisses des deux extrêmités du segment initial.\n"
   ]
  },
  {
   "cell_type": "code",
   "execution_count": null,
   "id": "e3a34a77",
   "metadata": {
    "deletable": false,
    "nbgrader": {
     "cell_type": "code",
     "checksum": "119ff4499f22526000175c182a18c0be",
     "grade": false,
     "grade_id": "cell-d83edd65cd4d6fdb",
     "locked": false,
     "schema_version": 3,
     "solution": true,
     "task": false
    }
   },
   "outputs": [],
   "source": [
    "// écrire le code ici\n",
    "throw new Error();//instruction C++, n'existe pas en C, à supprimer une fois le code écrit"
   ]
  },
  {
   "cell_type": "code",
   "execution_count": null,
   "id": "751179cc",
   "metadata": {
    "deletable": false,
    "editable": false,
    "nbgrader": {
     "cell_type": "code",
     "checksum": "f7a19c1948f6acaaa28aa3741fc6b1eb",
     "grade": true,
     "grade_id": "cell-57dfa3cb840b38a9",
     "locked": true,
     "points": 1,
     "schema_version": 3,
     "solution": false,
     "task": false
    }
   },
   "outputs": [],
   "source": [
    "double epsilon = 0.00001;\n",
    "double *test = init_y();\n",
    "ASSERT(fabs(test[0])<epsilon);\n",
    "ASSERT(fabs(test[1])<epsilon);\n",
    "free(test);"
   ]
  },
  {
   "cell_type": "markdown",
   "id": "cd8d23c1",
   "metadata": {
    "deletable": false,
    "editable": false,
    "nbgrader": {
     "cell_type": "markdown",
     "checksum": "53038d5ee564bb9d012c5a5f16fcda60",
     "grade": false,
     "grade_id": "cell-55d0e5b7d7bafa4e",
     "locked": true,
     "schema_version": 3,
     "solution": false,
     "task": false
    }
   },
   "source": [
    "3. Écrire une fonction `suivante_x` qui prend en argument deux tableaux représentants respectivement les abscisses et les ordonnées des sommets à une étape donnée dans la construction de la courbe de Koch, et le nombre de sommets en question (sans avoir à le vérifier) et renvoie un tableau avec les abscisses des somments à l'étape suivante."
   ]
  },
  {
   "cell_type": "code",
   "execution_count": null,
   "id": "43e8bc97",
   "metadata": {
    "deletable": false,
    "nbgrader": {
     "cell_type": "code",
     "checksum": "06dc95e459fb09b266640c1f896339cf",
     "grade": false,
     "grade_id": "cell-f513df4109179411",
     "locked": false,
     "schema_version": 3,
     "solution": true,
     "task": false
    }
   },
   "outputs": [],
   "source": [
    "// écrire le code ici\n",
    "throw new Error();//instruction C++, n'existe pas en C, à supprimer une fois le code écrit"
   ]
  },
  {
   "cell_type": "markdown",
   "id": "12775da3",
   "metadata": {
    "deletable": false,
    "editable": false,
    "nbgrader": {
     "cell_type": "markdown",
     "checksum": "d5d949e50e0df3be2b24f14a2398b68b",
     "grade": false,
     "grade_id": "cell-8a990b9682eb4be1",
     "locked": true,
     "schema_version": 3,
     "solution": false,
     "task": false
    }
   },
   "source": [
    "4. Écrire une fonction `suivante_y` qui prend en argument deux tableaux représentants respectivement les abscisses et les ordonnées des sommets à une étape donnée dans la construction de la courbe de Koch, et le nombre de sommets en question (sans avoir à le vérifier) et renvoie un tableau avec les ordonnées des somments à l'étape suivante."
   ]
  },
  {
   "cell_type": "code",
   "execution_count": null,
   "id": "e27db684",
   "metadata": {
    "deletable": false,
    "nbgrader": {
     "cell_type": "code",
     "checksum": "8b2bd34594a61eae079d9fbb1ef32b56",
     "grade": false,
     "grade_id": "cell-0084d6c7712404e6",
     "locked": false,
     "schema_version": 3,
     "solution": true,
     "task": false
    }
   },
   "outputs": [],
   "source": [
    "// écrire le code ici\n",
    "throw new Error();//instruction C++, n'existe pas en C, à supprimer une fois le code écrit"
   ]
  },
  {
   "cell_type": "markdown",
   "id": "46d17b83",
   "metadata": {
    "deletable": false,
    "editable": false,
    "nbgrader": {
     "cell_type": "markdown",
     "checksum": "ff13b7264677f7046fee8e2c59f2a2c1",
     "grade": false,
     "grade_id": "cell-f6c01cce86ca731a",
     "locked": true,
     "schema_version": 3,
     "solution": false,
     "task": false
    }
   },
   "source": [
    "5. Écrire une fonction `affichage` qui prend en argument un entier `n` et affiche les coordonnées des points de la `n`$^e$ courbe de Koch (le segment de départ ayant le numéro 0), un point par ligne, l'abscisse suivie de l'ordonnée. Par exemple pour la courbe 2, j'ai l'affichage suivant :\n",
    "\n",
    "```bash\n",
    "0.000000 0.000000\n",
    "0.111111 0.000000\n",
    "0.166667 0.096225\n",
    "0.222222 0.000000\n",
    "0.333333 0.000000\n",
    "0.388889 0.096225\n",
    "0.333333 0.192450\n",
    "0.444444 0.192450\n",
    "0.500000 0.288675\n",
    "0.555556 0.192450\n",
    "0.666667 0.192450\n",
    "0.611111 0.096225\n",
    "0.666667 0.000000\n",
    "0.777778 0.000000\n",
    "0.833333 0.096225\n",
    "0.888889 0.000000\n",
    "1.000000 0.000000\n",
    "```"
   ]
  },
  {
   "cell_type": "code",
   "execution_count": null,
   "id": "709192a5",
   "metadata": {
    "deletable": false,
    "nbgrader": {
     "cell_type": "code",
     "checksum": "eef1af04c24eef0dcf6d9d53b1a86baf",
     "grade": true,
     "grade_id": "cell-3daf5e824e8af3d0",
     "locked": false,
     "points": 1,
     "schema_version": 3,
     "solution": true,
     "task": false
    }
   },
   "outputs": [],
   "source": [
    "// écrire le code ici\n",
    "throw new Error();//instruction C++, n'existe pas en C, à supprimer une fois le code écrit"
   ]
  },
  {
   "cell_type": "code",
   "execution_count": null,
   "id": "13f6080e",
   "metadata": {
    "deletable": false,
    "editable": false,
    "nbgrader": {
     "cell_type": "code",
     "checksum": "1ab9bc52d5cccc310c00e6c4b28c6a9f",
     "grade": false,
     "grade_id": "cell-5fe09b018e8ac02e",
     "locked": true,
     "schema_version": 3,
     "solution": false,
     "task": false
    }
   },
   "outputs": [],
   "source": [
    "affichage(3);"
   ]
  },
  {
   "cell_type": "markdown",
   "id": "ef1a0873",
   "metadata": {
    "deletable": false,
    "editable": false,
    "nbgrader": {
     "cell_type": "markdown",
     "checksum": "28387d5a9a261110e0f9e9a867cdbe9e",
     "grade": false,
     "grade_id": "cell-ab38c05cd538c476",
     "locked": true,
     "schema_version": 3,
     "solution": false,
     "task": false
    }
   },
   "source": [
    "Pour voir le résultat graphique, rendez-vous sur le site [http://gnuplot.respawned.com/](http://gnuplot.respawned.com/). Dans la fenêtre \"Data\", vous copiez-collez vos coordonnées, et dans la fenêtre \"Plot script\", vous écrivez :\n",
    "\n",
    "```gnuplot\n",
    "set terminal svg size 600,300\n",
    "set output 'out.svg'\n",
    "set xrange [-0.2:1.2]\n",
    "set yrange [-0.1:0.5]\n",
    "plot \"data.txt\" with lines\n",
    "```"
   ]
  }
 ],
 "metadata": {
  "kernelspec": {
   "display_name": "C++11",
   "language": "C++11",
   "name": "xcpp11"
  },
  "language_info": {
   "codemirror_mode": "text/x-c++src",
   "file_extension": ".cpp",
   "mimetype": "text/x-c++src",
   "name": "c++",
   "version": "11"
  }
 },
 "nbformat": 4,
 "nbformat_minor": 5
}
