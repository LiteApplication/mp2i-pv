{
 "cells": [
  {
   "cell_type": "markdown",
   "id": "9b3fcad7",
   "metadata": {
    "deletable": false,
    "editable": false,
    "nbgrader": {
     "cell_type": "markdown",
     "checksum": "b70fb27d515b33af569e19ca57531b6e",
     "grade": false,
     "grade_id": "cell-dfcd7199489b7abc",
     "locked": true,
     "schema_version": 3,
     "solution": false,
     "task": false
    }
   },
   "source": [
    "# Informatique - MP2I\n",
    "---"
   ]
  },
  {
   "cell_type": "markdown",
   "id": "05283a77",
   "metadata": {
    "deletable": false,
    "editable": false,
    "nbgrader": {
     "cell_type": "markdown",
     "checksum": "cc2c6aad74e8136101923d002e2759b8",
     "grade": false,
     "grade_id": "cell-1186a195240e4868",
     "locked": true,
     "schema_version": 3,
     "solution": false,
     "task": false
    }
   },
   "source": [
    "# TP2 Fonctions et structures de contrôle\n",
    "## flocon : pour ceux qui débutent en programmation"
   ]
  },
  {
   "cell_type": "code",
   "execution_count": null,
   "id": "c528e4a0",
   "metadata": {
    "deletable": false,
    "editable": false,
    "nbgrader": {
     "cell_type": "code",
     "checksum": "dd4420ade8be09c5e50998e3bd869083",
     "grade": false,
     "grade_id": "cell-73e7aee8b0ffc5b0",
     "locked": true,
     "schema_version": 3,
     "solution": false,
     "task": false
    }
   },
   "outputs": [],
   "source": [
    "/* cette cellule doit être exécutée pour les tests des autres cellules\n",
    "   attention : c'est du C++ */\n",
    "#ifndef ASSERT\n",
    "#define ASSERT(C) if ( !(C) ) { throw std::runtime_error(\"\\x1b[48;5;224mTest failed: \"#C); }\n",
    "#endif"
   ]
  },
  {
   "cell_type": "markdown",
   "id": "39383220",
   "metadata": {
    "deletable": false,
    "editable": false,
    "nbgrader": {
     "cell_type": "markdown",
     "checksum": "1865da4aa2d5783d74dd7143ba9008f0",
     "grade": false,
     "grade_id": "cell-494a2f8b35c0ed7e",
     "locked": true,
     "schema_version": 3,
     "solution": false,
     "task": false
    }
   },
   "source": [
    "### Exo 1\n",
    "Écrire une fonction `max2` qui prend en argument deux entiers et renvoie leur max."
   ]
  },
  {
   "cell_type": "code",
   "execution_count": null,
   "id": "09b9541f",
   "metadata": {
    "deletable": false,
    "nbgrader": {
     "cell_type": "code",
     "checksum": "6deaba5a667ce684b4f94e5b3ae5eef0",
     "grade": false,
     "grade_id": "cell-676eda13a491f034",
     "locked": false,
     "schema_version": 3,
     "solution": true,
     "task": false
    }
   },
   "outputs": [],
   "source": [
    "// écrire le code ici\n",
    "throw new Error();//instruction C++, n'existe pas en C, à supprimer une fois le code écrit"
   ]
  },
  {
   "cell_type": "code",
   "execution_count": null,
   "id": "aa243428",
   "metadata": {
    "deletable": false,
    "editable": false,
    "nbgrader": {
     "cell_type": "code",
     "checksum": "7ec12d5a8eaae865fd2123181a301662",
     "grade": true,
     "grade_id": "cell-6be8071ff75406cc",
     "locked": true,
     "points": 1,
     "schema_version": 3,
     "solution": false,
     "task": false
    }
   },
   "outputs": [],
   "source": [
    "ASSERT(max2(0,10) == 10);\n",
    "ASSERT(max2(7,-3) == 7);\n",
    "ASSERT(max2(5,5)  == 5);"
   ]
  },
  {
   "cell_type": "markdown",
   "id": "0015ef47",
   "metadata": {
    "deletable": false,
    "editable": false,
    "nbgrader": {
     "cell_type": "markdown",
     "checksum": "2cf271f3241fa2c38b214ce275141b95",
     "grade": false,
     "grade_id": "cell-33829e686d8b94b5",
     "locked": true,
     "schema_version": 3,
     "solution": false,
     "task": false
    }
   },
   "source": [
    "### Exo 2\n",
    "Écrire une fonction `max3` qui prend en argument trois entiers et utilise `max2` pour calculer le max de ses trois arguments."
   ]
  },
  {
   "cell_type": "code",
   "execution_count": null,
   "id": "7a213577",
   "metadata": {
    "deletable": false,
    "nbgrader": {
     "cell_type": "code",
     "checksum": "137ade9e462006b8965946b03908e666",
     "grade": false,
     "grade_id": "cell-39114ce4da0cc8a3",
     "locked": false,
     "schema_version": 3,
     "solution": true,
     "task": false
    }
   },
   "outputs": [],
   "source": [
    "// écrire le code ici\n",
    "throw new Error();//instruction C++, n'existe pas en C, à supprimer une fois le code écrit"
   ]
  },
  {
   "cell_type": "code",
   "execution_count": null,
   "id": "553759ed",
   "metadata": {
    "deletable": false,
    "editable": false,
    "nbgrader": {
     "cell_type": "code",
     "checksum": "0ef029ffeb2dce26d0bd7a4f99c28e0d",
     "grade": true,
     "grade_id": "cell-431df287f7c83194",
     "locked": true,
     "points": 1,
     "schema_version": 3,
     "solution": false,
     "task": false
    }
   },
   "outputs": [],
   "source": [
    "ASSERT(max3(-1,-1,-1) == -1);\n",
    "ASSERT(max3(1,2,3) == 3);\n",
    "ASSERT(max3(-1,-2,-3) == -1);\n",
    "ASSERT(max3(-2,7,-5) == 7);"
   ]
  },
  {
   "cell_type": "markdown",
   "id": "bffa9771",
   "metadata": {
    "deletable": false,
    "editable": false,
    "nbgrader": {
     "cell_type": "markdown",
     "checksum": "4a8529375111f9ad0f6e791d9482efd1",
     "grade": false,
     "grade_id": "cell-ff6bbc6cce705623",
     "locked": true,
     "schema_version": 3,
     "solution": false,
     "task": false
    }
   },
   "source": [
    "Dans la suite, vous aurez besoin de faire quelques affichages. Pour afficher une étoile, il suffit d'utiliser l'instruction\n",
    "```C\n",
    "printf(\"*\");\n",
    "```\n",
    "\n",
    "À noter que pour utiliser la fonction `printf`, il faut au début du programme signaler qu'on utilise les fonctions d'entrée/sortie de la librairie standard, grâce à la ligne\n",
    "```C\n",
    "#include <stdio.h>\n",
    "```"
   ]
  },
  {
   "cell_type": "markdown",
   "id": "06f699b3",
   "metadata": {
    "deletable": false,
    "editable": false,
    "nbgrader": {
     "cell_type": "markdown",
     "checksum": "8d6af673d6d69dbb6d07664a8abf97dc",
     "grade": false,
     "grade_id": "cell-06f424159c74c3b3",
     "locked": true,
     "schema_version": 3,
     "solution": false,
     "task": false
    }
   },
   "source": [
    "### Exo 3\n",
    "Écrire une fonction `ligne` qui prend en argument un entier et affiche une ligne d'étoiles de longueur cet entier.\n",
    "\n",
    "Par exemple l'appel à `ligne(15)` doit produire l'affichage\n",
    "```\n",
    "***************\n",
    "```"
   ]
  },
  {
   "cell_type": "code",
   "execution_count": null,
   "id": "c4a80972",
   "metadata": {
    "deletable": false,
    "nbgrader": {
     "cell_type": "code",
     "checksum": "8882be1b0b3fa20ce5f070f31f061645",
     "grade": true,
     "grade_id": "cell-1710ba998cd2ec15",
     "locked": false,
     "points": 1,
     "schema_version": 3,
     "solution": true,
     "task": false
    }
   },
   "outputs": [],
   "source": [
    "// écrire le code ici\n",
    "throw new Error();//instruction C++, n'existe pas en C, à supprimer une fois le code écrit"
   ]
  },
  {
   "cell_type": "markdown",
   "id": "fd92c977",
   "metadata": {
    "deletable": false,
    "editable": false,
    "nbgrader": {
     "cell_type": "markdown",
     "checksum": "8b868ad79786fb2916c9b513d0eed26f",
     "grade": false,
     "grade_id": "cell-da946065c7cb0410",
     "locked": true,
     "schema_version": 3,
     "solution": false,
     "task": false
    }
   },
   "source": [
    "Parce que vous êtes sur jupyterhub, le flot de contrôle de votre programme n'est pas le flot de contrôle habituel, vous pouvez donc tester votre fonction `ligne` directement en exécutant la cellule suivante, sans l'écrire dans un `main`."
   ]
  },
  {
   "cell_type": "code",
   "execution_count": null,
   "id": "a5a46b78",
   "metadata": {
    "deletable": false,
    "editable": false,
    "nbgrader": {
     "cell_type": "code",
     "checksum": "c7dd8c09308549497d89a18d58a85f4d",
     "grade": false,
     "grade_id": "cell-33e3d151e4b22d4d",
     "locked": true,
     "schema_version": 3,
     "solution": false,
     "task": false
    }
   },
   "outputs": [],
   "source": [
    "ligne(15); //ne fonctionne que dans jupyter, dans un vrai programme C il faut écrire un main"
   ]
  },
  {
   "cell_type": "markdown",
   "id": "e8bbe42c",
   "metadata": {
    "deletable": false,
    "editable": false,
    "nbgrader": {
     "cell_type": "markdown",
     "checksum": "246de453c4a78c29747f4ff96e91b905",
     "grade": false,
     "grade_id": "cell-f1a1e67f7324f22e",
     "locked": true,
     "schema_version": 3,
     "solution": false,
     "task": false
    }
   },
   "source": [
    "### Exo 4\n",
    "Pour effectuer un retour à la ligne, il suffit d'utiliser l'instruction\n",
    "```C\n",
    "printf(\"\\n\");\n",
    "```\n",
    "\n",
    "Écrire une fonction `colonne` qui prend en argument un entier et affiche une colonne d'étoiles de hauteur cet entier, suivie d'un retour à la ligne.\n",
    "\n",
    "Par exemple l'appel à `colonne(15)` doit produire l'affichage\n",
    "```\n",
    "*\n",
    "*\n",
    "*\n",
    "*\n",
    "*\n",
    "*\n",
    "*\n",
    "*\n",
    "*\n",
    "*\n",
    "*\n",
    "*\n",
    "*\n",
    "*\n",
    "*\n",
    "```"
   ]
  },
  {
   "cell_type": "code",
   "execution_count": null,
   "id": "b1074e5f",
   "metadata": {
    "deletable": false,
    "nbgrader": {
     "cell_type": "code",
     "checksum": "4d3bfcb2ff6ebac08a3bcd99238d3440",
     "grade": true,
     "grade_id": "cell-8b6927d8a1bd264f",
     "locked": false,
     "points": 1,
     "schema_version": 3,
     "solution": true,
     "task": false
    }
   },
   "outputs": [],
   "source": [
    "// écrire le code ici\n",
    "throw new Error();//instruction C++, n'existe pas en C, à supprimer une fois le code écrit"
   ]
  },
  {
   "cell_type": "markdown",
   "id": "d255c4fd",
   "metadata": {
    "deletable": false,
    "editable": false,
    "nbgrader": {
     "cell_type": "markdown",
     "checksum": "091a64ee007eaa79ca7905959391c4d2",
     "grade": false,
     "grade_id": "cell-21df2bddc3f007bc",
     "locked": true,
     "schema_version": 3,
     "solution": false,
     "task": false
    }
   },
   "source": [
    "Pour tester votre solution:"
   ]
  },
  {
   "cell_type": "code",
   "execution_count": null,
   "id": "d4f0b2b1",
   "metadata": {
    "deletable": false,
    "editable": false,
    "nbgrader": {
     "cell_type": "code",
     "checksum": "2b0a02de630e080bb76781d5a11f4a5c",
     "grade": false,
     "grade_id": "cell-78a61d5ae522c8f2",
     "locked": true,
     "schema_version": 3,
     "solution": false,
     "task": false
    }
   },
   "outputs": [],
   "source": [
    "colonne(15);"
   ]
  },
  {
   "cell_type": "markdown",
   "id": "481fd678",
   "metadata": {
    "deletable": false,
    "editable": false,
    "nbgrader": {
     "cell_type": "markdown",
     "checksum": "d140d6333955832791b5cb238f3a236f",
     "grade": false,
     "grade_id": "cell-b77cdae7d5d3a8e8",
     "locked": true,
     "schema_version": 3,
     "solution": false,
     "task": false
    }
   },
   "source": [
    "### Exo 5\n",
    "Écrire une fonction `triangle` qui prend en argument un entier et affiche un triangle rectangle d'étoiles de hauteur et largeur cet entier, suivi d'un retour à la ligne.\n",
    "\n",
    "Par exemple l'appel à `triangle(5)` doit produire l'affichage\n",
    "```\n",
    "*\n",
    "**\n",
    "***\n",
    "****\n",
    "*****\n",
    "```"
   ]
  },
  {
   "cell_type": "code",
   "execution_count": null,
   "id": "4a9248a8",
   "metadata": {
    "deletable": false,
    "nbgrader": {
     "cell_type": "code",
     "checksum": "a01608d28ddd01e11a118c14f5801c1b",
     "grade": true,
     "grade_id": "cell-964db65d22c80b18",
     "locked": false,
     "points": 1,
     "schema_version": 3,
     "solution": true,
     "task": false
    }
   },
   "outputs": [],
   "source": [
    "// écrire le code ici\n",
    "throw new Error();//instruction C++, n'existe pas en C, à supprimer une fois le code écrit"
   ]
  },
  {
   "cell_type": "markdown",
   "id": "7f61743c",
   "metadata": {
    "deletable": false,
    "editable": false,
    "nbgrader": {
     "cell_type": "markdown",
     "checksum": "b52b0b25f8c23a5c452e74b6635aa831",
     "grade": false,
     "grade_id": "cell-887511102c924890",
     "locked": true,
     "schema_version": 3,
     "solution": false,
     "task": false
    }
   },
   "source": [
    "Pour tester votre solution:"
   ]
  },
  {
   "cell_type": "code",
   "execution_count": null,
   "id": "ca489997",
   "metadata": {
    "deletable": false,
    "editable": false,
    "nbgrader": {
     "cell_type": "code",
     "checksum": "a4245d4f1667054aece43421ceaff271",
     "grade": false,
     "grade_id": "cell-ffd50a04d9508164",
     "locked": true,
     "schema_version": 3,
     "solution": false,
     "task": false
    }
   },
   "outputs": [],
   "source": [
    "triangle(5);"
   ]
  },
  {
   "cell_type": "markdown",
   "id": "0ff8cf70",
   "metadata": {
    "deletable": false,
    "editable": false,
    "nbgrader": {
     "cell_type": "markdown",
     "checksum": "b6e9b5666f5ee954cbbb54e98ecbadd8",
     "grade": false,
     "grade_id": "cell-5b89d06ca4cc8e99",
     "locked": true,
     "schema_version": 3,
     "solution": false,
     "task": false
    }
   },
   "source": [
    "### Exo 6\n",
    "Écrire une fonction `alternance` qui prend en argument trois entiers et affiche alternativement une ligne d'étoiles de longueur chacun des deux premiers entiers, le nombre total de ligne étant spécifié par le 3e entier.\n",
    "\n",
    "Par exemple l'appel à `alternance(5,3,8)` affiche\n",
    "```\n",
    "*****\n",
    "***\n",
    "*****\n",
    "***\n",
    "*****\n",
    "***\n",
    "*****\n",
    "***\n",
    "```"
   ]
  },
  {
   "cell_type": "code",
   "execution_count": null,
   "id": "f8dfd60e",
   "metadata": {
    "deletable": false,
    "nbgrader": {
     "cell_type": "code",
     "checksum": "bee466135a265df5d7e4fe27609dd0fa",
     "grade": true,
     "grade_id": "cell-0787972144e5e0c4",
     "locked": false,
     "points": 1,
     "schema_version": 3,
     "solution": true,
     "task": false
    }
   },
   "outputs": [],
   "source": [
    "// écrire le code ici\n",
    "throw new Error();//instruction C++, n'existe pas en C, à supprimer une fois le code écrit"
   ]
  },
  {
   "cell_type": "markdown",
   "id": "69836c5d",
   "metadata": {
    "deletable": false,
    "editable": false,
    "nbgrader": {
     "cell_type": "markdown",
     "checksum": "8054d82c97368f0825e5ebb02e212185",
     "grade": false,
     "grade_id": "cell-fc6d86cdf2436a77",
     "locked": true,
     "schema_version": 3,
     "solution": false,
     "task": false
    }
   },
   "source": [
    "Pour tester votre code:"
   ]
  },
  {
   "cell_type": "code",
   "execution_count": null,
   "id": "4bfa70e5",
   "metadata": {
    "deletable": false,
    "editable": false,
    "nbgrader": {
     "cell_type": "code",
     "checksum": "7b2e75a24079bd91242717e17d1e762a",
     "grade": false,
     "grade_id": "cell-956f837b3960d4d8",
     "locked": true,
     "schema_version": 3,
     "solution": false,
     "task": false
    }
   },
   "outputs": [],
   "source": [
    "alternance(5, 3, 8);"
   ]
  },
  {
   "cell_type": "markdown",
   "id": "53490695",
   "metadata": {
    "deletable": false,
    "editable": false,
    "nbgrader": {
     "cell_type": "markdown",
     "checksum": "afe5fc3a7381a89b2865b58502c49f04",
     "grade": false,
     "grade_id": "cell-48c11fc0725ba421",
     "locked": true,
     "schema_version": 3,
     "solution": false,
     "task": false
    }
   },
   "source": [
    "### Exo 7\n",
    "Pour afficher un espace, il faut utiliser l'instruction\n",
    "```C\n",
    "printf(\" \");\n",
    "```\n",
    "\n",
    "Écrire une fonction `croix_negative` qui prend en argument un entier et affiche une croix blanche sur fond étoilé dont la diagonale est de longueur cet entier s'il est impair et le suivant s'il est pair.\n",
    "\n",
    "Par exemple les appels à `croix_negative(8)` et `croix_negative(9)` affichent tous les deux\n",
    "```\n",
    " ******** \n",
    "* ****** *\n",
    "** **** **\n",
    "*** ** ***\n",
    "****  ****\n",
    "*** ** ***\n",
    "** **** **\n",
    "* ****** *\n",
    " ******** \n",
    " ```"
   ]
  },
  {
   "cell_type": "code",
   "execution_count": null,
   "id": "ed407e28",
   "metadata": {
    "deletable": false,
    "nbgrader": {
     "cell_type": "code",
     "checksum": "1bc08386c657858d867a597a962cc6f1",
     "grade": true,
     "grade_id": "cell-250cdcee0f722177",
     "locked": false,
     "points": 0,
     "schema_version": 3,
     "solution": true,
     "task": false
    }
   },
   "outputs": [],
   "source": [
    "// écrire le code ici\n",
    "throw new Error();//instruction C++, n'existe pas en C, à supprimer une fois le code écrit"
   ]
  }
 ],
 "metadata": {
  "kernelspec": {
   "display_name": "C++11",
   "language": "C++11",
   "name": "xcpp11"
  },
  "language_info": {
   "codemirror_mode": "text/x-c++src",
   "file_extension": ".cpp",
   "mimetype": "text/x-c++src",
   "name": "c++",
   "version": "11"
  }
 },
 "nbformat": 4,
 "nbformat_minor": 5
}
