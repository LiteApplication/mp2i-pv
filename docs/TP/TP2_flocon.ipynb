{
 "cells": [
  {
   "cell_type": "markdown",
   "id": "05283a77",
   "metadata": {
    "nbgrader": {
     "grade": false,
     "grade_id": "cell-1186a195240e4868",
     "locked": true,
     "schema_version": 3,
     "solution": false,
     "task": false
    }
   },
   "source": [
    "# TP2 Fonctions et structures de contrôle\n",
    "## flocon : pour ceux qui débutent en programmation"
   ]
  },
  {
   "cell_type": "code",
   "execution_count": 10,
   "id": "c528e4a0",
   "metadata": {
    "nbgrader": {
     "grade": false,
     "grade_id": "cell-73e7aee8b0ffc5b0",
     "locked": true,
     "schema_version": 3,
     "solution": false,
     "task": false
    }
   },
   "outputs": [],
   "source": [
    "/* cette cellule doit être exécutée pour les tests des autres cellules\n",
    "   attention : c'est du C++ */\n",
    "#ifndef ASSERT\n",
    "#define ASSERT(C) if ( !(C) ) { throw std::runtime_error(\"\\x1b[48;5;224mTest failed: \"#C); }\n",
    "#endif"
   ]
  },
  {
   "cell_type": "markdown",
   "id": "39383220",
   "metadata": {
    "nbgrader": {
     "grade": false,
     "grade_id": "cell-494a2f8b35c0ed7e",
     "locked": true,
     "schema_version": 3,
     "solution": false,
     "task": false
    }
   },
   "source": [
    "### Exo 1\n",
    "Écrire une fonction `max2` qui prend en argument deux entiers et renvoie leur max."
   ]
  },
  {
   "cell_type": "code",
   "execution_count": 11,
   "id": "09b9541f",
   "metadata": {
    "nbgrader": {
     "grade": false,
     "grade_id": "cell-676eda13a491f034",
     "locked": false,
     "schema_version": 3,
     "solution": true,
     "task": false
    }
   },
   "outputs": [],
   "source": [
    "///BEGIN SOLUTION\n",
    "int max2(int a, int b){\n",
    "    return (a>b) ? a : b;\n",
    "}\n",
    "///END SOLUTION"
   ]
  },
  {
   "cell_type": "code",
   "execution_count": 12,
   "id": "aa243428",
   "metadata": {
    "nbgrader": {
     "grade": true,
     "grade_id": "cell-6be8071ff75406cc",
     "locked": true,
     "points": 1,
     "schema_version": 3,
     "solution": false,
     "task": false
    }
   },
   "outputs": [],
   "source": [
    "ASSERT(max2(0,10) == 10);\n",
    "ASSERT(max2(7,-3) == 7);\n",
    "ASSERT(max2(5,5)  == 5);"
   ]
  },
  {
   "cell_type": "markdown",
   "id": "0015ef47",
   "metadata": {
    "nbgrader": {
     "grade": false,
     "grade_id": "cell-33829e686d8b94b5",
     "locked": true,
     "schema_version": 3,
     "solution": false,
     "task": false
    }
   },
   "source": [
    "### Exo 2\n",
    "Écrire une fonction `max3` qui prend en argument trois entiers et utilise `max2` pour calculer le max de ses trois arguments."
   ]
  },
  {
   "cell_type": "code",
   "execution_count": 13,
   "id": "7a213577",
   "metadata": {
    "nbgrader": {
     "grade": false,
     "grade_id": "cell-39114ce4da0cc8a3",
     "locked": false,
     "schema_version": 3,
     "solution": true,
     "task": false
    }
   },
   "outputs": [],
   "source": [
    "///BEGIN SOLUTION\n",
    "int max3(int a, int b, int c){\n",
    "    return max2(a, max2(b, c));\n",
    "}\n",
    "///END SOLUTION"
   ]
  },
  {
   "cell_type": "code",
   "execution_count": 14,
   "id": "553759ed",
   "metadata": {
    "nbgrader": {
     "grade": true,
     "grade_id": "cell-431df287f7c83194",
     "locked": true,
     "points": 1,
     "schema_version": 3,
     "solution": false,
     "task": false
    }
   },
   "outputs": [],
   "source": [
    "ASSERT(max3(-1,-1,-1) == -1);\n",
    "ASSERT(max3(1,2,3) == 3);\n",
    "ASSERT(max3(-1,-2,-3) == -1);\n",
    "ASSERT(max3(-2,7,-5) == 7);"
   ]
  },
  {
   "cell_type": "markdown",
   "id": "bffa9771",
   "metadata": {
    "nbgrader": {
     "grade": false,
     "grade_id": "cell-ff6bbc6cce705623",
     "locked": true,
     "schema_version": 3,
     "solution": false,
     "task": false
    }
   },
   "source": [
    "Dans la suite, vous aurez besoin de faire quelques affichages. Pour afficher une étoile, il suffit d'utiliser l'instruction\n",
    "```C\n",
    "printf(\"*\");\n",
    "```\n",
    "\n",
    "À noter que pour utiliser la fonction `printf`, il faut au début du programme signaler qu'on utilise les fonctions d'entrée/sortie de la librairie standard, grâce à la ligne\n",
    "```C\n",
    "#include <stdio.h>\n",
    "```"
   ]
  },
  {
   "cell_type": "markdown",
   "id": "06f699b3",
   "metadata": {
    "nbgrader": {
     "grade": false,
     "grade_id": "cell-06f424159c74c3b3",
     "locked": true,
     "schema_version": 3,
     "solution": false,
     "task": false
    }
   },
   "source": [
    "### Exo 3\n",
    "Écrire une fonction `ligne` qui prend en argument un entier et affiche une ligne d'étoiles de longueur cet entier.\n",
    "\n",
    "Par exemple l'appel à `ligne(15)` doit produire l'affichage\n",
    "```\n",
    "***************\n",
    "```"
   ]
  },
  {
   "cell_type": "code",
   "execution_count": 42,
   "id": "c4a80972",
   "metadata": {
    "nbgrader": {
     "grade": true,
     "grade_id": "cell-1710ba998cd2ec15",
     "locked": false,
     "points": 1,
     "schema_version": 3,
     "solution": true,
     "task": false
    }
   },
   "outputs": [],
   "source": [
    "///BEGIN SOLUTION\n",
    "void ligne(int n){\n",
    "    for(int i=0; i<n; i++){\n",
    "        printf(\"*\");\n",
    "    }\n",
    "}\n",
    "///END SOLUTION"
   ]
  },
  {
   "cell_type": "markdown",
   "id": "fd92c977",
   "metadata": {
    "nbgrader": {
     "grade": false,
     "grade_id": "cell-da946065c7cb0410",
     "locked": true,
     "schema_version": 3,
     "solution": false,
     "task": false
    }
   },
   "source": [
    "Parce que vous êtes sur jupyterhub, le flot de contrôle de votre programme n'est pas le flot de contrôle habituel, vous pouvez donc tester votre fonction `ligne` directement en exécutant la cellule suivante, sans l'écrire dans un `main`."
   ]
  },
  {
   "cell_type": "code",
   "execution_count": 43,
   "id": "a5a46b78",
   "metadata": {
    "nbgrader": {
     "grade": false,
     "grade_id": "cell-33e3d151e4b22d4d",
     "locked": true,
     "schema_version": 3,
     "solution": false,
     "task": false
    }
   },
   "outputs": [
    {
     "name": "stdout",
     "output_type": "stream",
     "text": [
      "***************"
     ]
    }
   ],
   "source": [
    "ligne(15); //ne fonctionne que dans jupyter, dans un vrai programme C il faut écrire un main"
   ]
  },
  {
   "cell_type": "markdown",
   "id": "e8bbe42c",
   "metadata": {
    "nbgrader": {
     "grade": false,
     "grade_id": "cell-f1a1e67f7324f22e",
     "locked": true,
     "schema_version": 3,
     "solution": false,
     "task": false
    }
   },
   "source": [
    "### Exo 4\n",
    "Pour effectuer un retour à la ligne, il suffit d'utiliser l'instruction\n",
    "```C\n",
    "printf(\"\\n\");\n",
    "```\n",
    "\n",
    "Écrire une fonction `colonne` qui prend en argument un entier et affiche une colonne d'étoiles de hauteur cet entier, suivie d'un retour à la ligne.\n",
    "\n",
    "Par exemple l'appel à `colonne(15)` doit produire l'affichage\n",
    "```\n",
    "*\n",
    "*\n",
    "*\n",
    "*\n",
    "*\n",
    "*\n",
    "*\n",
    "*\n",
    "*\n",
    "*\n",
    "*\n",
    "*\n",
    "*\n",
    "*\n",
    "*\n",
    "```"
   ]
  },
  {
   "cell_type": "code",
   "execution_count": 44,
   "id": "b1074e5f",
   "metadata": {
    "nbgrader": {
     "grade": true,
     "grade_id": "cell-8b6927d8a1bd264f",
     "locked": false,
     "points": 1,
     "schema_version": 3,
     "solution": true,
     "task": false
    }
   },
   "outputs": [],
   "source": [
    "///BEGIN SOLUTION\n",
    "void colonne(int n){\n",
    "    for(int i=0; i<n; i++){\n",
    "        printf(\"*\\n\");\n",
    "    }\n",
    "}\n",
    "///END SOLUTION"
   ]
  },
  {
   "cell_type": "markdown",
   "id": "d255c4fd",
   "metadata": {
    "nbgrader": {
     "grade": false,
     "grade_id": "cell-21df2bddc3f007bc",
     "locked": true,
     "schema_version": 3,
     "solution": false,
     "task": false
    }
   },
   "source": [
    "Pour tester votre solution:"
   ]
  },
  {
   "cell_type": "code",
   "execution_count": 45,
   "id": "d4f0b2b1",
   "metadata": {
    "nbgrader": {
     "grade": false,
     "grade_id": "cell-78a61d5ae522c8f2",
     "locked": true,
     "schema_version": 3,
     "solution": false,
     "task": false
    }
   },
   "outputs": [
    {
     "name": "stdout",
     "output_type": "stream",
     "text": [
      "*\n",
      "*\n",
      "*\n",
      "*\n",
      "*\n",
      "*\n",
      "*\n",
      "*\n",
      "*\n",
      "*\n",
      "*\n",
      "*\n",
      "*\n",
      "*\n",
      "*\n"
     ]
    }
   ],
   "source": [
    "colonne(15);"
   ]
  },
  {
   "cell_type": "markdown",
   "id": "481fd678",
   "metadata": {
    "nbgrader": {
     "grade": false,
     "grade_id": "cell-b77cdae7d5d3a8e8",
     "locked": true,
     "schema_version": 3,
     "solution": false,
     "task": false
    }
   },
   "source": [
    "### Exo 5\n",
    "Écrire une fonction `triangle` qui prend en argument un entier et affiche un triangle rectangle d'étoiles de hauteur et largeur cet entier, suivi d'un retour à la ligne.\n",
    "\n",
    "Par exemple l'appel à `triangle(5)` doit produire l'affichage\n",
    "```\n",
    "*\n",
    "**\n",
    "***\n",
    "****\n",
    "*****\n",
    "```"
   ]
  },
  {
   "cell_type": "code",
   "execution_count": 46,
   "id": "4a9248a8",
   "metadata": {
    "nbgrader": {
     "grade": true,
     "grade_id": "cell-964db65d22c80b18",
     "locked": false,
     "points": 1,
     "schema_version": 3,
     "solution": true,
     "task": false
    }
   },
   "outputs": [],
   "source": [
    "///BEGIN SOLUTION\n",
    "void triangle(int n){\n",
    "    for(int i=1; i<=n; i++){\n",
    "        ligne(i);\n",
    "        printf(\"\\n\");\n",
    "    }\n",
    "}\n",
    "///END SOLUTION"
   ]
  },
  {
   "cell_type": "markdown",
   "id": "7f61743c",
   "metadata": {
    "nbgrader": {
     "grade": false,
     "grade_id": "cell-887511102c924890",
     "locked": true,
     "schema_version": 3,
     "solution": false,
     "task": false
    }
   },
   "source": [
    "Pour tester votre solution:"
   ]
  },
  {
   "cell_type": "code",
   "execution_count": 47,
   "id": "ca489997",
   "metadata": {
    "nbgrader": {
     "grade": false,
     "grade_id": "cell-ffd50a04d9508164",
     "locked": true,
     "schema_version": 3,
     "solution": false,
     "task": false
    }
   },
   "outputs": [
    {
     "name": "stdout",
     "output_type": "stream",
     "text": [
      "*\n",
      "**\n",
      "***\n",
      "****\n",
      "*****\n"
     ]
    }
   ],
   "source": [
    "triangle(5);"
   ]
  },
  {
   "cell_type": "markdown",
   "id": "0ff8cf70",
   "metadata": {
    "nbgrader": {
     "grade": false,
     "grade_id": "cell-5b89d06ca4cc8e99",
     "locked": true,
     "schema_version": 3,
     "solution": false,
     "task": false
    }
   },
   "source": [
    "### Exo 6\n",
    "Écrire une fonction `alternance` qui prend en argument trois entiers et affiche alternativement une ligne d'étoiles de longueur chacun des deux premiers entiers, le nombre total de ligne étant spécifié par le 3e entier.\n",
    "\n",
    "Par exemple l'appel à `alternance(5,3,8)` affiche\n",
    "```\n",
    "*****\n",
    "***\n",
    "*****\n",
    "***\n",
    "*****\n",
    "***\n",
    "*****\n",
    "***\n",
    "```"
   ]
  },
  {
   "cell_type": "code",
   "execution_count": 48,
   "id": "f8dfd60e",
   "metadata": {
    "nbgrader": {
     "grade": true,
     "grade_id": "cell-0787972144e5e0c4",
     "locked": false,
     "points": 1,
     "schema_version": 3,
     "solution": true,
     "task": false
    }
   },
   "outputs": [],
   "source": [
    "///BEGIN SOLUTION\n",
    "void alternance(int a, int b, int h){\n",
    "    for(int i=0; i<h; i++){\n",
    "        if(i%2==0){\n",
    "            ligne(a);\n",
    "            printf(\"\\n\");\n",
    "        } else {\n",
    "            ligne(b);\n",
    "            printf(\"\\n\");\n",
    "        }\n",
    "    }\n",
    "}\n",
    "///END SOLUTION"
   ]
  },
  {
   "cell_type": "markdown",
   "id": "69836c5d",
   "metadata": {
    "nbgrader": {
     "grade": false,
     "grade_id": "cell-fc6d86cdf2436a77",
     "locked": true,
     "schema_version": 3,
     "solution": false,
     "task": false
    }
   },
   "source": [
    "Pour tester votre code:"
   ]
  },
  {
   "cell_type": "code",
   "execution_count": 49,
   "id": "4bfa70e5",
   "metadata": {
    "nbgrader": {
     "grade": false,
     "grade_id": "cell-956f837b3960d4d8",
     "locked": true,
     "schema_version": 3,
     "solution": false,
     "task": false
    }
   },
   "outputs": [
    {
     "name": "stdout",
     "output_type": "stream",
     "text": [
      "*****\n",
      "***\n",
      "*****\n",
      "***\n",
      "*****\n",
      "***\n",
      "*****\n",
      "***\n"
     ]
    }
   ],
   "source": [
    "alternance(5, 3, 8);"
   ]
  },
  {
   "cell_type": "markdown",
   "id": "53490695",
   "metadata": {
    "nbgrader": {
     "grade": false,
     "grade_id": "cell-48c11fc0725ba421",
     "locked": true,
     "schema_version": 3,
     "solution": false,
     "task": false
    }
   },
   "source": [
    "### Exo 7\n",
    "Pour afficher un espace, il faut utiliser l'instruction\n",
    "```C\n",
    "printf(\" \");\n",
    "```\n",
    "\n",
    "Écrire une fonction `croix_negative` qui prend en argument un entier et affiche une croix blanche sur fond étoilé dont la diagonale est de longueur cet entier s'il est impair et le suivant s'il est pair.\n",
    "\n",
    "Par exemple les appels à `croix_negative(8)` et `croix_negative(9)` affichent tous les deux\n",
    "```\n",
    " ******** \n",
    "* ****** *\n",
    "** **** **\n",
    "*** ** ***\n",
    "****  ****\n",
    "*** ** ***\n",
    "** **** **\n",
    "* ****** *\n",
    " ******** \n",
    " ```"
   ]
  },
  {
   "cell_type": "code",
   "execution_count": 57,
   "id": "ed407e28",
   "metadata": {
    "nbgrader": {
     "grade": true,
     "grade_id": "cell-250cdcee0f722177",
     "locked": false,
     "points": 0,
     "schema_version": 3,
     "solution": true,
     "task": false
    }
   },
   "outputs": [],
   "source": [
    "///BEGIN SOLUTION\n",
    "void croix(int n){\n",
    "    int space=0;\n",
    "    bool retour=false;\n",
    "    \n",
    "    if(n%2==0){\n",
    "        n++;\n",
    "    }\n",
    "    for(int i=0; i<n; i++){\n",
    "        ligne(space);\n",
    "        printf(\" \");\n",
    "        ligne(n-1-2*space);\n",
    "        printf(\" \");\n",
    "        ligne(space);\n",
    "        printf(\"\\n\");\n",
    "        if(retour){\n",
    "            space--;\n",
    "        } else {\n",
    "            space++;\n",
    "            if (n-1-2*space < 2){\n",
    "                retour=true;\n",
    "            }\n",
    "        }\n",
    "    }\n",
    "}\n",
    "///END SOLUTION"
   ]
  }
 ],
 "metadata": {
  "celltoolbar": "Create Assignment",
  "kernelspec": {
   "display_name": "C++11",
   "language": "C++11",
   "name": "xcpp11"
  },
  "language_info": {
   "codemirror_mode": "text/x-c++src",
   "file_extension": ".cpp",
   "mimetype": "text/x-c++src",
   "name": "c++",
   "version": "11"
  }
 },
 "nbformat": 4,
 "nbformat_minor": 5
}
