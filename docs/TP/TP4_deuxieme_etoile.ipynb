{
 "cells": [
  {
   "cell_type": "markdown",
   "id": "1b822e10",
   "metadata": {
    "deletable": false,
    "editable": false,
    "nbgrader": {
     "cell_type": "markdown",
     "checksum": "b70fb27d515b33af569e19ca57531b6e",
     "grade": false,
     "grade_id": "cell-dfcd7199489b7abc",
     "locked": true,
     "schema_version": 3,
     "solution": false,
     "task": false
    }
   },
   "source": [
    "# Informatique - MP2I\n",
    "---"
   ]
  },
  {
   "cell_type": "markdown",
   "id": "29184d1c",
   "metadata": {
    "deletable": false,
    "editable": false,
    "nbgrader": {
     "cell_type": "markdown",
     "checksum": "1f0da455e5d3f577110219c61504f209",
     "grade": false,
     "grade_id": "cell-ad056bd437a1b7d7",
     "locked": true,
     "schema_version": 3,
     "solution": false,
     "task": false
    }
   },
   "source": [
    "# TP4 : tableaux et pointeurs\n",
    "## deuxième étoile : pour ceux qui ont fini la première étoile\n",
    "\n",
    "Dans ce TP, nous allons travailler sur des images au format [PPM P3](https://fr.wikipedia.org/wiki/Portable_pixmap) avec une nombre maximum de couleurs inférieur ou égal à 255.\n",
    "\n",
    "C'est à vous d'intégrer les affichages d'image pour qu'on voit si le travail semble faire ce qu'on demande.\n",
    "\n",
    "Pour passer d'un fichier image au format `ppm P3` à des données pour votre programme et vice-versa, je vous fournis le type suivant:"
   ]
  },
  {
   "cell_type": "code",
   "execution_count": null,
   "id": "e8f81dea",
   "metadata": {
    "deletable": false,
    "editable": false,
    "nbgrader": {
     "cell_type": "code",
     "checksum": "426617d182492b6ea01d797f27311621",
     "grade": false,
     "grade_id": "cell-bc40a860da70a674",
     "locked": true,
     "schema_version": 3,
     "solution": false,
     "task": false
    }
   },
   "outputs": [],
   "source": [
    "struct image {\n",
    "    int largeur, hauteur;\n",
    "    int couleur_max;\n",
    "    unsigned int **r, **g, **b;\n",
    "};"
   ]
  },
  {
   "cell_type": "markdown",
   "id": "f0ef7e35",
   "metadata": {
    "deletable": false,
    "editable": false,
    "nbgrader": {
     "cell_type": "markdown",
     "checksum": "c26190141782b1b63ce21930bff09f65",
     "grade": false,
     "grade_id": "cell-44d071c15498fd01",
     "locked": true,
     "schema_version": 3,
     "solution": false,
     "task": false
    }
   },
   "source": [
    "et trois fonctions :\n",
    "\n",
    "* `charger` qui permet de lire un fichier au format `png` et renvoie un pointeur sur `struct image` (en faisant appel à une fonction `init` que vous devez écrire vous-mêmes),\n",
    "* `sauvegarder` qui permet d'écrire le contenu d'un pointeur sur `struct image` dans un fichier et\n",
    "* `liberer` qui permet de libérer la mémoire associée à un pointeur sur `struct image`.\n",
    "\n",
    "(Ces fonctions ont été écrites sans vérification pour alléger le code, vous devez regarder le code de `liberer`, vous ne pourrez pas comprendre ceux de `charger` et `sauvegarder` avec le programme de CPGE.)"
   ]
  },
  {
   "cell_type": "markdown",
   "id": "feef48af",
   "metadata": {
    "deletable": false,
    "editable": false,
    "nbgrader": {
     "cell_type": "markdown",
     "checksum": "9e086a6e9a6831a3b219f07e88d12ff0",
     "grade": false,
     "grade_id": "cell-4336de30f83f5430",
     "locked": true,
     "schema_version": 3,
     "solution": false,
     "task": false
    }
   },
   "source": [
    "### Exo 1 : Initialisation\n",
    "Écrire une fonction `init` qui permet d'initialiser toute la mémoire pour un pointeur sur `struct image`."
   ]
  },
  {
   "cell_type": "code",
   "execution_count": null,
   "id": "3fff6cf4",
   "metadata": {
    "deletable": false,
    "nbgrader": {
     "cell_type": "code",
     "checksum": "d0e76aa56196764e3554caa599b6b9c6",
     "grade": false,
     "grade_id": "cell-7c5ae13442cc68b1",
     "locked": false,
     "schema_version": 3,
     "solution": true,
     "task": false
    }
   },
   "outputs": [],
   "source": [
    "struct image* init(int largeur, int hauteur, int couleur_max){\n",
    "    struct image *img = (struct image *)malloc(sizeof(struct image));\n",
    "    \n",
    "// écrire le code ici\n",
    "throw new Error();//instruction C++, n'existe pas en C, à supprimer une fois le code écrit\n",
    "    \n",
    "    return img;\n",
    "}"
   ]
  },
  {
   "cell_type": "markdown",
   "id": "8a69eadb",
   "metadata": {
    "deletable": false,
    "editable": false,
    "nbgrader": {
     "cell_type": "markdown",
     "checksum": "67d929d833e53dbab01de34d0e75f5c9",
     "grade": false,
     "grade_id": "cell-760b22a6ad2b957a",
     "locked": true,
     "schema_version": 3,
     "solution": false,
     "task": false
    }
   },
   "source": [
    "(Je ne peux pas vraiment tester automatiquement votre réponse, mais si le noyau plante sans cesse quand vous appelez `charger` par la suite, c'est sûrement que cette fonction est mal écrite.)"
   ]
  },
  {
   "cell_type": "code",
   "execution_count": null,
   "id": "75fba513",
   "metadata": {
    "deletable": false,
    "editable": false,
    "nbgrader": {
     "cell_type": "code",
     "checksum": "f1341683bf678d477ae3a06a0e25cbdb",
     "grade": false,
     "grade_id": "cell-37fcdab492916137",
     "locked": true,
     "schema_version": 3,
     "solution": false,
     "task": false
    }
   },
   "outputs": [],
   "source": [
    "#include <stdlib.h>\n",
    "#include <stdio.h>\n",
    "#include <string.h>\n",
    "#include <sys/types.h>\n",
    "#include <unistd.h>\n",
    "#include <sys/wait.h>\n",
    "\n",
    "/** png : nom d'un fichier au format png\n",
    " * sortie : image chargee en mémoire\n",
    " * et création d'un fichier au format ppm pour la même image\n",
    " */\n",
    "struct image* charger(const char *png){\n",
    "    char *ppm = (char *)malloc((strlen(png)+1)*sizeof(char));\n",
    "    char ligne[2];\n",
    "    FILE *file;\n",
    "    int largeur, hauteur, couleur_max;\n",
    "    struct image *img;\n",
    "\n",
    "    memcpy(ppm, png, strlen(png)-3);\n",
    "    memcpy(ppm+strlen(png)-3, \"ppm\", 4);\n",
    "    \n",
    "    if(fork()==0){\n",
    "        execl(\"/usr/bin/convert\", \"convert\", \"-compress\", \"none\", png, ppm, NULL);\n",
    "    }\n",
    "    \n",
    "    wait(NULL);\n",
    "\n",
    "    file = fopen(ppm, \"r\");\n",
    "    fscanf(file, \"%s\", ligne);\n",
    "    fscanf(file, \"%d\", &largeur);\n",
    "    fscanf(file, \"%d\", &hauteur);\n",
    "    fscanf(file, \"%d\", &couleur_max);\n",
    "    \n",
    "    img = init(largeur, hauteur, couleur_max);\n",
    "\n",
    "    for(int i=0; i<img->hauteur; i++){\n",
    "        for(int j=0; j<img->largeur; j++){\n",
    "            fscanf(file, \"%u\", &(img->r[i][j]));\n",
    "            fscanf(file, \"%u\", &(img->g[i][j]));\n",
    "            fscanf(file, \"%u\", &(img->b[i][j]));\n",
    "        }\n",
    "    }\n",
    "\n",
    "    fclose(file);\n",
    "    //free(ppm); //pour une raison que j'ignore le noyau plante si on libère la mémoire\n",
    "    // (peut-être parce que c'est un noyau C++ et pas C ?), mais il faut la libérer\n",
    "    return img;\n",
    "}"
   ]
  },
  {
   "cell_type": "code",
   "execution_count": null,
   "id": "c7fb3673",
   "metadata": {
    "deletable": false,
    "editable": false,
    "nbgrader": {
     "cell_type": "code",
     "checksum": "7b46e211c3707f306d4ffad48b0b0ee3",
     "grade": false,
     "grade_id": "cell-707c95106402fde5",
     "locked": true,
     "schema_version": 3,
     "solution": false,
     "task": false
    }
   },
   "outputs": [],
   "source": [
    "#include <stdlib.h>\n",
    "#include <string.h>\n",
    "#include <sys/types.h>\n",
    "#include <unistd.h>\n",
    "#include <sys/wait.h>\n",
    "\n",
    "void sauvegarder(const char *png, struct image *img){\n",
    "    char *ppm = (char *)malloc((strlen(ppm)+1)*sizeof(char));\n",
    "    FILE *file;\n",
    "    \n",
    "    memcpy(ppm, png, strlen(png)-3);\n",
    "    memcpy(ppm+strlen(png)-3, \"ppm\", 4);\n",
    "\n",
    "    file = fopen(ppm, \"w\");\n",
    "    fprintf(file, \"P3\\n%d %d\\n%d\\n\", img->largeur, img->hauteur, img->couleur_max);\n",
    "    for(int i=0; i<img->hauteur; i++){\n",
    "        for(int j=0; j<img->largeur; j++){\n",
    "            fprintf(file, \"%u %u %u \", img->r[i][j], img->g[i][j], img->b[i][j]);\n",
    "        }\n",
    "        fprintf(file, \"\\n\");\n",
    "    }    \n",
    "    fclose(file);\n",
    "        \n",
    "    if(fork()==0){\n",
    "        execl(\"/usr/bin/convert\", \"convert\", ppm, png, NULL);\n",
    "    }\n",
    "    \n",
    "    wait(NULL);\n",
    "    free(ppm); // bizarrement celui-ci passe sans problème\n",
    "    printf(\"Sauvegardes effectuées dans les fichiers %s et %s\\n\", ppm, png);\n",
    "}"
   ]
  },
  {
   "cell_type": "code",
   "execution_count": null,
   "id": "760b0241",
   "metadata": {
    "deletable": false,
    "editable": false,
    "nbgrader": {
     "cell_type": "code",
     "checksum": "649aa93d5fd519a718662e83f39f70a6",
     "grade": false,
     "grade_id": "cell-d81c93547f78a33c",
     "locked": true,
     "schema_version": 3,
     "solution": false,
     "task": false
    }
   },
   "outputs": [],
   "source": [
    "void liberer(struct image *img){\n",
    "    for(int i=0; i<img->hauteur; i++){\n",
    "        free(img->r[i]);\n",
    "        free(img->g[i]);\n",
    "        free(img->b[i]);\n",
    "    }\n",
    "    free(img->r);\n",
    "    free(img->g);\n",
    "    free(img->b);\n",
    "    free(img);\n",
    "}"
   ]
  },
  {
   "cell_type": "markdown",
   "id": "d828a173",
   "metadata": {
    "deletable": false,
    "editable": false,
    "nbgrader": {
     "cell_type": "markdown",
     "checksum": "0b6013ce6dd31b52c021b45f2bc84645",
     "grade": false,
     "grade_id": "cell-00f12fd82937ff61",
     "locked": true,
     "schema_version": 3,
     "solution": false,
     "task": false
    }
   },
   "source": [
    "Voici un exemple d'utilisation à partir d'une image `exemple.png` que vous pourriez trouver sur internet.\n",
    "\n",
    "Il faut écrire le code `![](exemple.png)` dans une cellule markdown pour voir une image (en supposant que le fichier est dans le même répertoire que le notebook)."
   ]
  },
  {
   "cell_type": "markdown",
   "id": "76cc3048",
   "metadata": {
    "deletable": false,
    "editable": false,
    "nbgrader": {
     "cell_type": "markdown",
     "checksum": "2e98b9450dd7d23355ff21804953a230",
     "grade": false,
     "grade_id": "cell-8daa0fa3d3151e3f",
     "locked": true,
     "schema_version": 3,
     "solution": false,
     "task": false
    }
   },
   "source": [
    "Image d'origine : ![](exemple.png)"
   ]
  },
  {
   "cell_type": "markdown",
   "id": "40e4543e",
   "metadata": {
    "deletable": false,
    "editable": false,
    "nbgrader": {
     "cell_type": "markdown",
     "checksum": "50928802d46a0ae0c518654487f261b9",
     "grade": false,
     "grade_id": "cell-b7496e002b96e868",
     "locked": true,
     "schema_version": 3,
     "solution": false,
     "task": false
    }
   },
   "source": [
    "Chargement du fichier puis sauvegarde dans un autre fichier et libération de la mémoire:"
   ]
  },
  {
   "cell_type": "code",
   "execution_count": null,
   "id": "1a72ade3",
   "metadata": {
    "deletable": false,
    "editable": false,
    "nbgrader": {
     "cell_type": "code",
     "checksum": "976476e70a306fb73969e1131a375471",
     "grade": false,
     "grade_id": "7cell-a2c8c9d99be678e7",
     "locked": true,
     "schema_version": 3,
     "solution": false,
     "task": false
    }
   },
   "outputs": [],
   "source": [
    "struct image *img = charger(\"exemple.png\");\n",
    "sauvegarder(\"autre.png\", img);\n",
    "liberer(img);"
   ]
  },
  {
   "cell_type": "markdown",
   "id": "97d0ec43",
   "metadata": {
    "deletable": false,
    "editable": false,
    "nbgrader": {
     "cell_type": "markdown",
     "checksum": "49c4a6374ae1fca89270e426ec9d5cd6",
     "grade": false,
     "grade_id": "cell-9e62fa9f8a0a74b3",
     "locked": true,
     "schema_version": 3,
     "solution": false,
     "task": false
    }
   },
   "source": [
    "Afficher l'image obtenue dans la cellule suivante (il faudra sûrement fermer et rouvrir le notebook à cause du cache de votre navigateur)."
   ]
  },
  {
   "cell_type": "code",
   "execution_count": null,
   "id": "bcc3220a",
   "metadata": {
    "deletable": false,
    "nbgrader": {
     "cell_type": "code",
     "checksum": "7aebb0cb7607380ec179a087f8639b69",
     "grade": true,
     "grade_id": "cell-5d2dfda7afb5c1c1",
     "locked": false,
     "points": 1,
     "schema_version": 3,
     "solution": true,
     "task": false
    }
   },
   "outputs": [],
   "source": [
    "// écrire le code ici\n",
    "throw new Error();//instruction C++, n'existe pas en C, à supprimer une fois le code écrit"
   ]
  },
  {
   "cell_type": "markdown",
   "id": "98a1b720",
   "metadata": {
    "deletable": false,
    "editable": false,
    "nbgrader": {
     "cell_type": "markdown",
     "checksum": "ebc42ea3ba3f36793753a383ae7d5760",
     "grade": false,
     "grade_id": "cell-b55e1131939744e1",
     "locked": true,
     "schema_version": 3,
     "solution": false,
     "task": false
    }
   },
   "source": [
    "### Exo 1 : Filtre bleu\n",
    "\n",
    "Écrire une fonction `filtre_bleu` qui prend en argument un pointeur sur `struct image` et en renvoie un nouveau qui ne contient que le bleu."
   ]
  },
  {
   "cell_type": "code",
   "execution_count": null,
   "id": "c34a8769",
   "metadata": {
    "deletable": false,
    "nbgrader": {
     "cell_type": "code",
     "checksum": "056542d555ad6a35ab0e40c9405a8271",
     "grade": true,
     "grade_id": "cell-23fa1cd6b8ac0ace",
     "locked": false,
     "points": 1,
     "schema_version": 3,
     "solution": true,
     "task": false
    }
   },
   "outputs": [],
   "source": [
    "// écrire le code ici\n",
    "throw new Error();//instruction C++, n'existe pas en C, à supprimer une fois le code écrit"
   ]
  },
  {
   "cell_type": "markdown",
   "id": "d2de6176",
   "metadata": {
    "deletable": false,
    "editable": false,
    "nbgrader": {
     "cell_type": "markdown",
     "checksum": "0eb085c35d79831e3379623d1f3ec790",
     "grade": false,
     "grade_id": "cell-6086ca6eada5dcbd",
     "locked": true,
     "schema_version": 3,
     "solution": false,
     "task": false
    }
   },
   "source": [
    "### Exo 2 : Cadre\n",
    "Écrire une fonction `cadre` qui permet d'ajouter un cadre autour d'une image (sans perte de pixels sur l'image), dont la largeur sera donnée en argument."
   ]
  },
  {
   "cell_type": "code",
   "execution_count": null,
   "id": "5bb3b3b0",
   "metadata": {
    "deletable": false,
    "nbgrader": {
     "cell_type": "code",
     "checksum": "8de1377b77453c7f5700d32dbfac1501",
     "grade": true,
     "grade_id": "cell-d57b04f7e17e08f0",
     "locked": false,
     "points": 1,
     "schema_version": 3,
     "solution": true,
     "task": false
    }
   },
   "outputs": [],
   "source": [
    "// écrire le code ici\n",
    "throw new Error();//instruction C++, n'existe pas en C, à supprimer une fois le code écrit"
   ]
  },
  {
   "cell_type": "markdown",
   "id": "6104fc36",
   "metadata": {
    "deletable": false,
    "editable": false,
    "nbgrader": {
     "cell_type": "markdown",
     "checksum": "f77b6b5a9fc6e9479738c547c77645eb",
     "grade": false,
     "grade_id": "cell-f997f8508518078d",
     "locked": true,
     "schema_version": 3,
     "solution": false,
     "task": false
    }
   },
   "source": [
    "### Exo 3 : Zoom arrière\n",
    "Écrire une fonction `zoom_arriere` qui permet d'obtenir une image plus petite, grâce à un coefficient passé en argument. Pour obtenir la couleur d'un point, il faudra faire la moyenne des couleurs des points alentour."
   ]
  },
  {
   "cell_type": "code",
   "execution_count": null,
   "id": "3398a8ac",
   "metadata": {
    "deletable": false,
    "nbgrader": {
     "cell_type": "code",
     "checksum": "5cb917e9d60efdf4ac1451fee57cb9bf",
     "grade": true,
     "grade_id": "cell-b1e9d231a18f2d37",
     "locked": false,
     "points": 1,
     "schema_version": 3,
     "solution": true,
     "task": false
    }
   },
   "outputs": [],
   "source": [
    "// écrire le code ici\n",
    "throw new Error();//instruction C++, n'existe pas en C, à supprimer une fois le code écrit"
   ]
  },
  {
   "cell_type": "markdown",
   "id": "a308b071",
   "metadata": {
    "deletable": false,
    "editable": false,
    "nbgrader": {
     "cell_type": "markdown",
     "checksum": "cf9a536c9bfc090ab22b0eadd27f55fc",
     "grade": false,
     "grade_id": "cell-0cfa01b4de7b0b84",
     "locked": true,
     "schema_version": 3,
     "solution": false,
     "task": false
    }
   },
   "source": [
    "### Exo 4 : Zoom avant\n",
    "Écrire une fonction `zoom_avant` qui permet d'obtenir une image plus grande, grâce à un coefficient passé en argument. Pour obtenir la couleur d'un point qui n'est pas présent dans l'image d'origine, il faudra interpoler en fonction des voisins dans l'image d'origine."
   ]
  },
  {
   "cell_type": "code",
   "execution_count": null,
   "id": "31432acc",
   "metadata": {
    "deletable": false,
    "nbgrader": {
     "cell_type": "code",
     "checksum": "5447895a668a74faaf00cd343b1c63f3",
     "grade": true,
     "grade_id": "cell-d09b6b210adc6d96",
     "locked": false,
     "points": 1,
     "schema_version": 3,
     "solution": true,
     "task": false
    }
   },
   "outputs": [],
   "source": [
    "// écrire le code ici\n",
    "throw new Error();//instruction C++, n'existe pas en C, à supprimer une fois le code écrit"
   ]
  },
  {
   "cell_type": "markdown",
   "id": "da1331dd",
   "metadata": {
    "deletable": false,
    "editable": false,
    "nbgrader": {
     "cell_type": "markdown",
     "checksum": "a6815da4bec8bb607b60b93a90b16089",
     "grade": false,
     "grade_id": "cell-e35b9ed62cf0334d",
     "locked": true,
     "schema_version": 3,
     "solution": false,
     "task": false
    }
   },
   "source": [
    "### Exo 5 : Rotation d'image\n",
    "Écrire une fonction `tourner` qui permet d'obtenir une nouvelle image en faisant tourner l'image fournie d'un certain angle (pas forcément un multiple de $\\pi/2$ donc vous devrez recalculer la taille de l'image)."
   ]
  },
  {
   "cell_type": "code",
   "execution_count": null,
   "id": "6e299702",
   "metadata": {
    "deletable": false,
    "nbgrader": {
     "cell_type": "code",
     "checksum": "fec69c01ae1d25935f226dda61fcbc32",
     "grade": true,
     "grade_id": "cell-ce939f31b02eaa5b",
     "locked": false,
     "points": 1,
     "schema_version": 3,
     "solution": true,
     "task": false
    }
   },
   "outputs": [],
   "source": [
    "// écrire le code ici\n",
    "throw new Error();//instruction C++, n'existe pas en C, à supprimer une fois le code écrit"
   ]
  }
 ],
 "metadata": {
  "kernelspec": {
   "display_name": "C++11",
   "language": "C++11",
   "name": "xcpp11"
  },
  "language_info": {
   "codemirror_mode": "text/x-c++src",
   "file_extension": ".cpp",
   "mimetype": "text/x-c++src",
   "name": "c++",
   "version": "11"
  }
 },
 "nbformat": 4,
 "nbformat_minor": 5
}
